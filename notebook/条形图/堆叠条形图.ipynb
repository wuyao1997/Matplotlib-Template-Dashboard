{
    "cells": [
        {
            "cell_type": "markdown",
            "metadata": {},
            "source": [
                "# 堆叠条形图\n",
                "\n",
                "> [更多绘图，尽在“matplotlib制图师”](https://www.wolai.com/matplotlib/uecbhR3MHhaZkK55za779h)\n",
                "\n",
                "## 1. 导入相关库"
            ]
        },
        {
            "cell_type": "code",
            "execution_count": 1,
            "metadata": {},
            "outputs": [],
            "source": [
                "# 导入 matplotlib 和 numpy 包\n",
                "import matplotlib.pyplot as plt\n",
                "import numpy as np"
            ]
        },
        {
            "cell_type": "markdown",
            "metadata": {},
            "source": [
                "## 2. 准备数据"
            ]
        },
        {
            "cell_type": "code",
            "execution_count": 2,
            "metadata": {},
            "outputs": [],
            "source": [
                "item = (\"U\", \"V\", \"W\", \"X\")\n",
                "data = {\n",
                "    \"A\": np.array([73, 34, 61, 45]),\n",
                "    \"B\": np.array([47, 44, 58, 37]),\n",
                "    \"C\": np.array([53, 37, 57, 39]),\n",
                "}"
            ]
        },
        {
            "cell_type": "markdown",
            "metadata": {},
            "source": [
                "\n",
                "## 3. 调用绘图API"
            ]
        },
        {
            "cell_type": "code",
            "execution_count": 12,
            "metadata": {},
            "outputs": [],
            "source": [
                "# 条形图宽度\n",
                "width = 0.6\n",
                "\n",
                "# 堆叠条形图的颜色\n",
                "colors = [\"lightsalmon\", \"lightgreen\", \"dodgerblue\"]\n",
                "\n",
                "# 生成图形对象 fig 和 子图对象 ax，使用约束布局避免重叠\n",
                "fig, ax = plt.subplots(constrained_layout=True)\n",
                "\n",
                "# 记录条形图的起点位置\n",
                "bottom = np.zeros(4)\n",
                "for i, (label, value) in enumerate(data.items()):\n",
                "    # 参数详见 https://www.wolai.com/matplotlib/2mypc3HyBTyLR8TQKmxVku\n",
                "    p = ax.bar(item, value, width, label=label, bottom=bottom, color=colors[i])\n",
                "    bottom += value\n",
                "\n",
                "    # 在条形图上添加数值标签\n",
                "    ax.bar_label(p, label_type=\"center\")\n",
                "\n",
                "# 设置 Y 轴的轴标签，加粗显示\n",
                "ax.set_ylabel(\"y (unit)\", fontweight=\"bold\")\n",
                "\n",
                "# 设置Y轴范围，让坐标系上方空出一段位置用于添加图例\n",
                "ax.set_ylim(0, 220)\n",
                "_ = ax.legend(ncols=3, loc=\"upper center\")\n",
                "\n",
                "# plt.savefig('./堆叠条形图.png', dpi=300)\n",
                "\n",
                "plt.show()"
            ]
        }
    ],
    "metadata": {
        "kernelspec": {
            "display_name": "Python 3",
            "language": "python",
            "name": "python3"
        },
        "language_info": {
            "codemirror_mode": {
                "name": "ipython",
                "version": 3
            },
            "file_extension": ".py",
            "mimetype": "text/x-python",
            "name": "python",
            "nbconvert_exporter": "python",
            "pygments_lexer": "ipython3",
            "version": "3.13.1"
        }
    },
    "nbformat": 4,
    "nbformat_minor": 2
}

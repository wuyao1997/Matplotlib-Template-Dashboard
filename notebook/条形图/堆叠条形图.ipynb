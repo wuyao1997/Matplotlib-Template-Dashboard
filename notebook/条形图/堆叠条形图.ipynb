{
    "cells": [
        {
            "cell_type": "markdown",
            "metadata": {},
            "source": [
                "# \u5806\u53e0\u6761\u5f62\u56fe\n",
                "\n",
                "> [\u66f4\u591a\u7ed8\u56fe\uff0c\u5c3d\u5728\u201cmatplotlib\u5236\u56fe\u5e08\u201d](https://www.wolai.com/matplotlib/uecbhR3MHhaZkK55za779h)\n",
                "\n",
                "## 1. \u5bfc\u5165\u76f8\u5173\u5e93"
            ]
        },
        {
            "cell_type": "code",
            "execution_count": 1,
            "metadata": {},
            "outputs": [],
            "source": [
                "# \u5bfc\u5165 matplotlib \u548c numpy \u5305\n",
                "import matplotlib.pyplot as plt\n",
                "import numpy as np"
            ]
        },
        {
            "cell_type": "markdown",
            "metadata": {},
            "source": [
                "## 2. \u51c6\u5907\u6570\u636e"
            ]
        },
        {
            "cell_type": "code",
            "execution_count": 2,
            "metadata": {},
            "outputs": [],
            "source": [
                "item = (\"U\", \"V\", \"W\", \"X\")\n",
                "data = {\n",
                "    \"A\": np.array([73, 34, 61, 45]),\n",
                "    \"B\": np.array([47, 44, 58, 37]),\n",
                "    \"C\": np.array([53, 37, 57, 39]),\n",
                "}"
            ]
        },
        {
            "cell_type": "markdown",
            "metadata": {},
            "source": [
                "\n",
                "## 3. \u8c03\u7528\u7ed8\u56feAPI"
            ]
        },
        {
            "cell_type": "code",
            "execution_count": 12,
            "metadata": {},
            "outputs": [],
            "source": [
                "# \u6761\u5f62\u56fe\u5bbd\u5ea6\n",
                "width = 0.6\n",
                "\n",
                "# \u5806\u53e0\u6761\u5f62\u56fe\u7684\u989c\u8272\n",
                "colors = [\"lightsalmon\", \"lightgreen\", \"dodgerblue\"]\n",
                "\n",
                "# \u751f\u6210\u56fe\u5f62\u5bf9\u8c61 fig \u548c \u5b50\u56fe\u5bf9\u8c61 ax\uff0c\u4f7f\u7528\u7ea6\u675f\u5e03\u5c40\u907f\u514d\u91cd\u53e0\n",
                "fig, ax = plt.subplots(constrained_layout=True)\n",
                "\n",
                "# \u8bb0\u5f55\u6761\u5f62\u56fe\u7684\u8d77\u70b9\u4f4d\u7f6e\n",
                "bottom = np.zeros(4)\n",
                "for i, (label, value) in enumerate(data.items()):\n",
                "    p = ax.bar(item, value, width, label=label, bottom=bottom, color=colors[i])\n",
                "    bottom += value\n",
                "\n",
                "    # \u5728\u6761\u5f62\u56fe\u4e0a\u6dfb\u52a0\u6570\u503c\u6807\u7b7e\n",
                "    ax.bar_label(p, label_type=\"center\")\n",
                "\n",
                "# \u8bbe\u7f6e Y \u8f74\u7684\u8f74\u6807\u7b7e\uff0c\u52a0\u7c97\u663e\u793a\n",
                "ax.set_ylabel(\"y (unit)\", fontweight=\"bold\")\n",
                "\n",
                "# \u8bbe\u7f6eY\u8f74\u8303\u56f4\uff0c\u8ba9\u5750\u6807\u7cfb\u4e0a\u65b9\u7a7a\u51fa\u4e00\u6bb5\u4f4d\u7f6e\u7528\u4e8e\u6dfb\u52a0\u56fe\u4f8b\n",
                "ax.set_ylim(0, 220)\n",
                "_ = ax.legend(ncols=3, loc=\"upper center\")\n",
                "\n",
                "# plt.savefig('./\u5806\u53e0\u6761\u5f62\u56fe.png', dpi=300)\n",
                "\n",
                "plt.show()"
            ]
        }
    ],
    "metadata": {
        "kernelspec": {
            "display_name": "Python 3",
            "language": "python",
            "name": "python3"
        },
        "language_info": {
            "codemirror_mode": {
                "name": "ipython",
                "version": 3
            },
            "file_extension": ".py",
            "mimetype": "text/x-python",
            "name": "python",
            "nbconvert_exporter": "python",
            "pygments_lexer": "ipython3",
            "version": "3.13.1"
        }
    },
    "nbformat": 4,
    "nbformat_minor": 2
}
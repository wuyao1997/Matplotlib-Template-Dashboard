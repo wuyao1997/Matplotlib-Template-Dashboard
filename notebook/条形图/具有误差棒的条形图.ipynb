{
    "cells": [
        {
            "cell_type": "markdown",
            "metadata": {},
            "source": [
                "# 具有误差棒的条形图\n",
                "\n",
                "> [更多绘图，尽在“matplotlib制图师”](https://www.wolai.com/matplotlib/uecbhR3MHhaZkK55za779h)\n",
                "\n",
                "## 1. 导入相关库"
            ]
        },
        {
            "cell_type": "code",
            "execution_count": 1,
            "metadata": {},
            "outputs": [],
            "source": [
                "# 导入 matplotlib 和 numpy 包\n",
                "import matplotlib.pyplot as plt"
            ]
        },
        {
            "cell_type": "markdown",
            "metadata": {},
            "source": [
                "## 2. 准备数据"
            ]
        },
        {
            "cell_type": "code",
            "execution_count": 2,
            "metadata": {},
            "outputs": [],
            "source": [
                "bar_labels = [\"A\", \"B\", \"C\", \"D\", \"E\"]\n",
                "bar_values = [0.1, 0.3, 0.45, 0.35, 0.25]\n",
                "bar_error = [0.02, 0.05, 0.07, 0.06, 0.05]"
            ]
        },
        {
            "cell_type": "markdown",
            "metadata": {},
            "source": [
                "\n",
                "## 3. 调用绘图API"
            ]
        },
        {
            "cell_type": "code",
            "execution_count": 9,
            "metadata": {},
            "outputs": [],
            "source": [
                "fig, ax = plt.subplots(figsize=(3.5, 3))\n",
                "\n",
                "# 定义误差棒的属性\n",
                "err_attr = {\n",
                "    \"elinewidth\": 1.2,  # 误差线的宽度\n",
                "    \"ecolor\": \"darkred\",  # 误差线的颜色\n",
                "    \"capsize\": 5,  # 误差棒末端帽的大小\n",
                "    \"capthick\": 1.2,  # 误差棒末端帽的厚度\n",
                "}\n",
                "\n",
                "# 绘制条形图，参数详见 https://www.wolai.com/matplotlib/2mypc3HyBTyLR8TQKmxVku\n",
                "_ = ax.bar(bar_labels, bar_values, yerr=bar_error, color=\"C1\", error_kw=err_attr)\n",
                "\n",
                "# 设置 x 轴和 y 轴的轴标签，加粗显示\n",
                "ax.set_xlabel(\"x (unit)\", fontweight=\"bold\")\n",
                "ax.set_ylabel(\"y (unit)\", fontweight=\"bold\")\n",
                "\n",
                "# 保存图片\n",
                "# plt.savefig('./具有误差棒的条形图.png', dpi=300, bbox_inches='tight')\n",
                "\n",
                "# 显示图片\n",
                "plt.show()"
            ]
        }
    ],
    "metadata": {
        "kernelspec": {
            "display_name": "Python 3",
            "language": "python",
            "name": "python3"
        },
        "language_info": {
            "codemirror_mode": {
                "name": "ipython",
                "version": 3
            },
            "file_extension": ".py",
            "mimetype": "text/x-python",
            "name": "python",
            "nbconvert_exporter": "python",
            "pygments_lexer": "ipython3",
            "version": "3.13.1"
        }
    },
    "nbformat": 4,
    "nbformat_minor": 2
}

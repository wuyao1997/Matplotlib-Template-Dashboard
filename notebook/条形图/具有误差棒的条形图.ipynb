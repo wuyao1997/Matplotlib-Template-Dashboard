{
    "cells": [
        {
            "cell_type": "markdown",
            "metadata": {},
            "source": [
                "# \u5177\u6709\u8bef\u5dee\u68d2\u7684\u6761\u5f62\u56fe\n",
                "\n",
                "> [\u66f4\u591a\u7ed8\u56fe\uff0c\u5c3d\u5728\u201cmatplotlib\u5236\u56fe\u5e08\u201d](https://www.wolai.com/matplotlib/uecbhR3MHhaZkK55za779h)\n",
                "\n",
                "## 1. \u5bfc\u5165\u76f8\u5173\u5e93"
            ]
        },
        {
            "cell_type": "code",
            "execution_count": 1,
            "metadata": {},
            "outputs": [],
            "source": [
                "# \u5bfc\u5165 matplotlib \u548c numpy \u5305\n",
                "import matplotlib.pyplot as plt"
            ]
        },
        {
            "cell_type": "markdown",
            "metadata": {},
            "source": [
                "## 2. \u51c6\u5907\u6570\u636e"
            ]
        },
        {
            "cell_type": "code",
            "execution_count": 2,
            "metadata": {},
            "outputs": [],
            "source": [
                "bar_labels = [\"A\", \"B\", \"C\", \"D\", \"E\"]\n",
                "bar_values = [0.1, 0.3, 0.45, 0.35, 0.25]\n",
                "bar_error = [0.02, 0.05, 0.07, 0.06, 0.05]"
            ]
        },
        {
            "cell_type": "markdown",
            "metadata": {},
            "source": [
                "\n",
                "## 3. \u8c03\u7528\u7ed8\u56feAPI"
            ]
        },
        {
            "cell_type": "code",
            "execution_count": 9,
            "metadata": {},
            "outputs": [],
            "source": [
                "fig, ax = plt.subplots(figsize=(3.5, 3))\n",
                "\n",
                "# \u5b9a\u4e49\u8bef\u5dee\u68d2\u7684\u5c5e\u6027\n",
                "err_attr = {\n",
                "    \"elinewidth\": 1.2,  # \u8bef\u5dee\u7ebf\u7684\u5bbd\u5ea6\n",
                "    \"ecolor\": \"darkred\",  # \u8bef\u5dee\u7ebf\u7684\u989c\u8272\n",
                "    \"capsize\": 5,  # \u8bef\u5dee\u68d2\u672b\u7aef\u5e3d\u7684\u5927\u5c0f\n",
                "    \"capthick\": 1.2,  # \u8bef\u5dee\u68d2\u672b\u7aef\u5e3d\u7684\u539a\u5ea6\n",
                "}\n",
                "\n",
                "# \u7ed8\u5236\u6761\u5f62\u56fe\n",
                "_ = ax.bar(bar_labels, bar_values, yerr=bar_error, color=\"C1\", error_kw=err_attr)\n",
                "\n",
                "# \u8bbe\u7f6e x \u8f74\u548c y \u8f74\u7684\u8f74\u6807\u7b7e\uff0c\u52a0\u7c97\u663e\u793a\n",
                "ax.set_xlabel(\"x (unit)\", fontweight=\"bold\")\n",
                "ax.set_ylabel(\"y (unit)\", fontweight=\"bold\")\n",
                "\n",
                "# \u4fdd\u5b58\u56fe\u7247\n",
                "# plt.savefig('./\u5177\u6709\u8bef\u5dee\u68d2\u7684\u6761\u5f62\u56fe.png', dpi=300, bbox_inches='tight')\n",
                "\n",
                "# \u663e\u793a\u56fe\u7247\n",
                "plt.show()"
            ]
        }
    ],
    "metadata": {
        "kernelspec": {
            "display_name": "Python 3",
            "language": "python",
            "name": "python3"
        },
        "language_info": {
            "codemirror_mode": {
                "name": "ipython",
                "version": 3
            },
            "file_extension": ".py",
            "mimetype": "text/x-python",
            "name": "python",
            "nbconvert_exporter": "python",
            "pygments_lexer": "ipython3",
            "version": "3.13.1"
        }
    },
    "nbformat": 4,
    "nbformat_minor": 2
}
{
    "cells": [
        {
            "cell_type": "markdown",
            "metadata": {},
            "source": [
                "# 具有数据标签的条形图\n",
                "\n",
                "> [更多绘图，尽在“matplotlib制图师”](https://www.wolai.com/matplotlib/uecbhR3MHhaZkK55za779h)\n",
                "\n",
                "## 1. 导入相关库"
            ]
        },
        {
            "cell_type": "code",
            "execution_count": 15,
            "metadata": {},
            "outputs": [],
            "source": [
                "# 导入 matplotlib 和 numpy 包\n",
                "import matplotlib.pyplot as plt"
            ]
        },
        {
            "cell_type": "markdown",
            "metadata": {},
            "source": [
                "## 2. 准备数据"
            ]
        },
        {
            "cell_type": "code",
            "execution_count": 16,
            "metadata": {},
            "outputs": [],
            "source": [
                "labels = [\"litchi\", \"banana\", \"grape\", \"chestnut\", \"kiwifruit\", \"citrus\", \"peach\"]\n",
                "mass = [20, 29, 30, 35, 27, 22, 34]"
            ]
        },
        {
            "cell_type": "markdown",
            "metadata": {},
            "source": [
                "\n",
                "## 3. 调用绘图API"
            ]
        },
        {
            "cell_type": "code",
            "execution_count": 18,
            "metadata": {},
            "outputs": [],
            "source": [
                "# 生成图形对象 fig 和 子图对象 ax，使用约束布局避免重叠\n",
                "fig, ax = plt.subplots(constrained_layout=True)\n",
                "\n",
                "# 绘制条形图，参数详见 https://www.wolai.com/matplotlib/2mypc3HyBTyLR8TQKmxVku\n",
                "rects = ax.bar(labels, mass, width=0.9, color=\"tomato\", alpha=0.85, label=\"Fruit\")\n",
                "ax.bar_label(rects, padding=3)\n",
                "\n",
                "# 获取当前的x轴刻度标签\n",
                "xtick_labels = ax.get_xticklabels()\n",
                "# 设置x轴刻度标签旋转45度\n",
                "for text in xtick_labels:\n",
                "    text.set_ha(\"left\")\n",
                "    text.set_rotation_mode(\"anchor\")\n",
                "    text.set_rotation(-45)\n",
                "\n",
                "# 设置 y 轴的刻度范围\n",
                "ax.set_ylim([0, 42])\n",
                "\n",
                "# 设置 x 轴和 y 轴的轴标签，加粗显示\n",
                "ax.set_xlabel(\"Fruit Type\", fontweight=\"bold\")\n",
                "ax.set_ylabel(\"Mass (kg)\", fontweight=\"bold\")\n",
                "\n",
                "# 保存图片\n",
                "# plt.savefig('./具有数据标签的条形图.png', dpi=300)\n",
                "\n",
                "# 显示图片\n",
                "plt.show()"
            ]
        }
    ],
    "metadata": {
        "kernelspec": {
            "display_name": "Python 3",
            "language": "python",
            "name": "python3"
        },
        "language_info": {
            "codemirror_mode": {
                "name": "ipython",
                "version": 3
            },
            "file_extension": ".py",
            "mimetype": "text/x-python",
            "name": "python",
            "nbconvert_exporter": "python",
            "pygments_lexer": "ipython3",
            "version": "3.13.1"
        }
    },
    "nbformat": 4,
    "nbformat_minor": 2
}

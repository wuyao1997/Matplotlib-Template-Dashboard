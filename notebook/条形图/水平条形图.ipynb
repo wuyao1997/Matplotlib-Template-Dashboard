{
    "cells": [
        {
            "cell_type": "markdown",
            "metadata": {},
            "source": [
                "# \u6c34\u5e73\u6761\u5f62\u56fe\n",
                "\n",
                "> [\u66f4\u591a\u7ed8\u56fe\uff0c\u5c3d\u5728\u201cmatplotlib\u5236\u56fe\u5e08\u201d](https://www.wolai.com/matplotlib/uecbhR3MHhaZkK55za779h)\n",
                "\n",
                "## 1. \u5bfc\u5165\u76f8\u5173\u5e93"
            ]
        },
        {
            "cell_type": "code",
            "execution_count": 11,
            "metadata": {},
            "outputs": [],
            "source": [
                "# \u5bfc\u5165 matplotlib \u548c numpy \u5305\n",
                "import matplotlib.pyplot as plt\n",
                "import numpy as np"
            ]
        },
        {
            "cell_type": "markdown",
            "metadata": {},
            "source": [
                "## 2. \u51c6\u5907\u6570\u636e"
            ]
        },
        {
            "cell_type": "code",
            "execution_count": 12,
            "metadata": {},
            "outputs": [],
            "source": [
                "labels = [\"G1\", \"G2\", \"G3\", \"G4\", \"G5\"]\n",
                "men_means = [20, 34, 30, 35, 27]\n",
                "women_means = [25, 32, 34, 20, 25]"
            ]
        },
        {
            "cell_type": "markdown",
            "metadata": {},
            "source": [
                "\n",
                "## 3. \u8c03\u7528\u7ed8\u56feAPI"
            ]
        },
        {
            "cell_type": "code",
            "execution_count": 13,
            "metadata": {},
            "outputs": [],
            "source": [
                "# \u6761\u5f62\u56fe\u7eb5\u5750\u6807\n",
                "y = np.arange(len(labels))\n",
                "# \u6761\u5f62\u539a\u5ea6\n",
                "height = 0.35\n",
                "\n",
                "# \u751f\u6210\u56fe\u5f62\u5bf9\u8c61 fig \u548c \u5b50\u56fe\u5bf9\u8c61 ax\uff0c\u4f7f\u7528\u7ea6\u675f\u5e03\u5c40\u907f\u514d\u91cd\u53e0\n",
                "fig, ax = plt.subplots(constrained_layout=True)\n",
                "\n",
                "# \u7ed8\u5236\u6761\u5f62\u56fe\n",
                "rects1 = ax.barh(y - height / 2, men_means, height, label=\"Men\")\n",
                "rects2 = ax.barh(y + height / 2, women_means, height, label=\"Women\")\n",
                "\n",
                "# \u8bbe\u7f6e\u6761\u5f62\u6570\u503c\n",
                "ax.bar_label(rects1, padding=3)\n",
                "ax.bar_label(rects2, padding=3)\n",
                "\n",
                "# \u8bbe\u7f6e X \u8f74\u8303\u56f4\u548c\u8f74\u6807\u7b7e\n",
                "ax.set_xlim([0, 46])\n",
                "ax.set_xlabel(\"x (unit)\", fontweight=\"bold\")\n",
                "# \u8bbe\u7f6e Y \u8f74\u8303\u56f4\u3001\u523b\u5ea6\n",
                "ax.set_ylim([-0.75, 4.75])\n",
                "ax.set_yticks(y, labels)\n",
                "\n",
                "# \u6dfb\u52a0\u56fe\u4f8b\n",
                "ax.legend(loc=\"upper right\", reverse=True, handlelength=1)\n",
                "\n",
                "# \u4fdd\u5b58\u56fe\u7247\n",
                "# plt.savefig('./\u6c34\u5e73\u6761\u5f62\u56fe.png', dpi=300)\n",
                "\n",
                "# \u663e\u793a\u56fe\u7247\n",
                "plt.show()"
            ]
        }
    ],
    "metadata": {
        "kernelspec": {
            "display_name": "Python 3",
            "language": "python",
            "name": "python3"
        },
        "language_info": {
            "codemirror_mode": {
                "name": "ipython",
                "version": 3
            },
            "file_extension": ".py",
            "mimetype": "text/x-python",
            "name": "python",
            "nbconvert_exporter": "python",
            "pygments_lexer": "ipython3",
            "version": "3.13.1"
        }
    },
    "nbformat": 4,
    "nbformat_minor": 2
}
{
    "cells": [
        {
            "cell_type": "markdown",
            "metadata": {},
            "source": [
                "# 水平条形图\n",
                "\n",
                "> [更多绘图，尽在“matplotlib制图师”](https://www.wolai.com/matplotlib/uecbhR3MHhaZkK55za779h)\n",
                "\n",
                "## 1. 导入相关库"
            ]
        },
        {
            "cell_type": "code",
            "execution_count": 11,
            "metadata": {},
            "outputs": [],
            "source": [
                "# 导入 matplotlib 和 numpy 包\n",
                "import matplotlib.pyplot as plt\n",
                "import numpy as np"
            ]
        },
        {
            "cell_type": "markdown",
            "metadata": {},
            "source": [
                "## 2. 准备数据"
            ]
        },
        {
            "cell_type": "code",
            "execution_count": 12,
            "metadata": {},
            "outputs": [],
            "source": [
                "labels = [\"G1\", \"G2\", \"G3\", \"G4\", \"G5\"]\n",
                "men_means = [20, 34, 30, 35, 27]\n",
                "women_means = [25, 32, 34, 20, 25]"
            ]
        },
        {
            "cell_type": "markdown",
            "metadata": {},
            "source": [
                "\n",
                "## 3. 调用绘图API"
            ]
        },
        {
            "cell_type": "code",
            "execution_count": 13,
            "metadata": {},
            "outputs": [],
            "source": [
                "# 条形图纵坐标\n",
                "y = np.arange(len(labels))\n",
                "# 条形厚度\n",
                "height = 0.35\n",
                "\n",
                "# 生成图形对象 fig 和 子图对象 ax，使用约束布局避免重叠\n",
                "fig, ax = plt.subplots(constrained_layout=True)\n",
                "\n",
                "# 绘制条形图，参数详见 https://www.wolai.com/matplotlib/2mypc3HyBTyLR8TQKmxVku\n",
                "rects1 = ax.barh(y - height / 2, men_means, height, label=\"Men\")\n",
                "rects2 = ax.barh(y + height / 2, women_means, height, label=\"Women\")\n",
                "\n",
                "# 设置条形数值\n",
                "ax.bar_label(rects1, padding=3)\n",
                "ax.bar_label(rects2, padding=3)\n",
                "\n",
                "# 设置 X 轴范围和轴标签\n",
                "ax.set_xlim([0, 46])\n",
                "ax.set_xlabel(\"x (unit)\", fontweight=\"bold\")\n",
                "# 设置 Y 轴范围、刻度\n",
                "ax.set_ylim([-0.75, 4.75])\n",
                "ax.set_yticks(y, labels)\n",
                "\n",
                "# 添加图例\n",
                "ax.legend(loc=\"upper right\", reverse=True, handlelength=1)\n",
                "\n",
                "# 保存图片\n",
                "# plt.savefig('./水平条形图.png', dpi=300)\n",
                "\n",
                "# 显示图片\n",
                "plt.show()"
            ]
        }
    ],
    "metadata": {
        "kernelspec": {
            "display_name": "Python 3",
            "language": "python",
            "name": "python3"
        },
        "language_info": {
            "codemirror_mode": {
                "name": "ipython",
                "version": 3
            },
            "file_extension": ".py",
            "mimetype": "text/x-python",
            "name": "python",
            "nbconvert_exporter": "python",
            "pygments_lexer": "ipython3",
            "version": "3.13.1"
        }
    },
    "nbformat": 4,
    "nbformat_minor": 2
}

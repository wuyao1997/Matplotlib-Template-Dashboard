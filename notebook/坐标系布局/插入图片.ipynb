{
    "cells": [
        {
            "cell_type": "markdown",
            "metadata": {},
            "source": [
                "# \u63d2\u5165\u56fe\u7247\n",
                "\n",
                "> [\u66f4\u591a\u7ed8\u56fe\uff0c\u5c3d\u5728\u201cmatplotlib\u5236\u56fe\u5e08\u201d](https://www.wolai.com/matplotlib/uecbhR3MHhaZkK55za779h)\n",
                "\n",
                "## 1. \u5bfc\u5165\u76f8\u5173\u5e93"
            ]
        },
        {
            "cell_type": "code",
            "execution_count": 1,
            "metadata": {},
            "outputs": [],
            "source": [
                "# \u5bfc\u5165 matplotlib\n",
                "import matplotlib.pyplot as plt\n",
                "import matplotlib.image as mpimg"
            ]
        },
        {
            "cell_type": "markdown",
            "metadata": {},
            "source": [
                "## 2. \u51c6\u5907\u6570\u636e"
            ]
        },
        {
            "cell_type": "code",
            "execution_count": 2,
            "metadata": {},
            "outputs": [],
            "source": [
                "img = mpimg.imread(\"../../resources/image/\u5916\u90e8\u56fe\u7247.png\")\n",
                "\n",
                "x = [1, 2, 3, 4, 5, 6, 7]\n",
                "y1 = [0.31, 0.37, 0.42, 0.41, 0.35, 0.32, 0.30]\n",
                "y2 = [0.27, 0.31, 0.38, 0.44, 0.45, 0.39, 0.36]"
            ]
        },
        {
            "cell_type": "markdown",
            "metadata": {},
            "source": [
                "## 3. \u8c03\u7528\u7ed8\u56feAPI"
            ]
        },
        {
            "cell_type": "code",
            "execution_count": 3,
            "metadata": {},
            "outputs": [],
            "source": [
                "# \u751f\u6210\u56fe\u5f62\u5bf9\u8c61 fig \u548c \u5b50\u56fe\u5bf9\u8c61 ax\uff0c\u4f7f\u7528\u7ea6\u675f\u5e03\u5c40\u907f\u514d\u91cd\u53e0\n",
                "fig, ax = plt.subplots(constrained_layout=True)\n",
                "# \u8bbe\u7f6e\u5750\u6807\u7cfb\u65e0\u586b\u5145\u8272\uff0c\u9632\u6b62\u906e\u6321\u63d2\u5165\u7684\u56fe\u7247\n",
                "ax.set_facecolor(\"none\")\n",
                "\n",
                "_ = ax.plot(x, y1, marker=\"s\", label=\"data: y1\")\n",
                "_ = ax.plot(x, y2, marker=\"o\", label=\"data: y2\")\n",
                "\n",
                "# \u8bbe\u7f6e x \u8f74\u548c y \u8f74\u523b\u5ea6\n",
                "ax.set_xlim([0.7, 7.4])\n",
                "ax.set_xticks(x)\n",
                "ax.set_yticks([0.3, 0.35, 0.40, 0.45])\n",
                "\n",
                "# \u8bbe\u7f6e x \u8f74\u548c y \u8f74\u7684\u8f74\u6807\u7b7e\uff0c\u52a0\u7c97\u663e\u793a\n",
                "ax.set_xlabel(\"x (unit)\", fontweight=\"bold\")\n",
                "ax.set_ylabel(\"y (unit)\", fontweight=\"bold\")\n",
                "\n",
                "# \u5728\u4e3b\u56fe\u4e0a\u6dfb\u52a0\u4e00\u4e2a\u5750\u6807\u7cfb\uff0c\u4f4d\u7f6e\u7531 bbox_to_anchor \u63a7\u5236\n",
                "# \u672a\u6765\u9632\u6b62\u5176\u906e\u6321\u539f\u59cb\u5750\u6807\u7cfb\u4e0a\u7684\u5143\u7d20\uff0c\u5c06\u65b0\u5efa\u5750\u6807\u7cfb\u7684\u56fe\u5c42 zorder \u8bbe\u7f6e\u4e3a -1\n",
                "subax = fig.add_axes([0.78, 0.76, 0.20, 0.20], zorder=-1)\n",
                "subax.axis(\"off\")\n",
                "subax.imshow(img, alpha=0.9)\n",
                "\n",
                "# \u6dfb\u52a0\u56fe\u4f8b\n",
                "_ = ax.legend(loc=\"lower center\")\n",
                "\n",
                "# \u4fdd\u5b58\u56fe\u7247\n",
                "# plt.savefig('./\u63d2\u5165\u56fe\u7247.png', dpi=300, bbox_inches='tight')\n",
                "\n",
                "# \u663e\u793a\u56fe\u7247\n",
                "plt.show()"
            ]
        }
    ],
    "metadata": {
        "kernelspec": {
            "display_name": "Python 3",
            "language": "python",
            "name": "python3"
        },
        "language_info": {
            "codemirror_mode": {
                "name": "ipython",
                "version": 3
            },
            "file_extension": ".py",
            "mimetype": "text/x-python",
            "name": "python",
            "nbconvert_exporter": "python",
            "pygments_lexer": "ipython3",
            "version": "3.13.1"
        }
    },
    "nbformat": 4,
    "nbformat_minor": 2
}
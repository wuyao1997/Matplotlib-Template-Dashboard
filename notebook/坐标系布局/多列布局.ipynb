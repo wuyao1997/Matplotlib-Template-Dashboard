{
    "cells": [
        {
            "cell_type": "markdown",
            "metadata": {},
            "source": [
                "# 多列布局\n",
                "\n",
                "> [更多绘图，尽在“matplotlib制图师”](https://www.wolai.com/matplotlib/uecbhR3MHhaZkK55za779h)\n",
                "\n",
                "## 1. 导入相关库"
            ]
        },
        {
            "cell_type": "code",
            "execution_count": 1,
            "metadata": {},
            "outputs": [],
            "source": [
                "# 导入 matplotlib\n",
                "import matplotlib.pyplot as plt"
            ]
        },
        {
            "cell_type": "markdown",
            "metadata": {},
            "source": [
                "## 2. 准备数据"
            ]
        },
        {
            "cell_type": "code",
            "execution_count": 2,
            "metadata": {},
            "outputs": [],
            "source": []
        },
        {
            "cell_type": "markdown",
            "metadata": {},
            "source": [
                "## 3. 调用绘图API"
            ]
        },
        {
            "cell_type": "code",
            "execution_count": 5,
            "metadata": {},
            "outputs": [],
            "source": [
                "# 生成多列坐标系，更多布局细节参见 https://www.wolai.com/matplotlib/mLZZUWqMf6fHc5sm5pJSpD\n",
                "fig, axs = plt.subplots(nrows=2, ncols=8, figsize=(7.2, 6))\n",
                "# 设置坐标系之间的间距\n",
                "plt.subplots_adjust(wspace=0.05, hspace=0.2)\n",
                "\n",
                "# 为每个坐标系添加标签\n",
                "for i in range(2):\n",
                "    for j in range(8):\n",
                "        axs[i, j].set_xticks([])\n",
                "        axs[i, j].set_yticks([])\n",
                "        txt = f\"{i*8+j+1} s\"\n",
                "        axs[i, j].set_title(txt, y=-0.14)\n",
                "\n",
                "# 显示图片\n",
                "# plt.savefig('./多列布局.png', dpi=300)\n",
                "\n",
                "# 显示图形\n",
                "plt.show()"
            ]
        }
    ],
    "metadata": {
        "kernelspec": {
            "display_name": "Python 3",
            "language": "python",
            "name": "python3"
        },
        "language_info": {
            "codemirror_mode": {
                "name": "ipython",
                "version": 3
            },
            "file_extension": ".py",
            "mimetype": "text/x-python",
            "name": "python",
            "nbconvert_exporter": "python",
            "pygments_lexer": "ipython3",
            "version": "3.13.1"
        }
    },
    "nbformat": 4,
    "nbformat_minor": 2
}

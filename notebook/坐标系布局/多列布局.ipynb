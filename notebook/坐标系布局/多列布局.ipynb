{
    "cells": [
        {
            "cell_type": "markdown",
            "metadata": {},
            "source": [
                "# \u591a\u5217\u5e03\u5c40\n",
                "\n",
                "> [\u66f4\u591a\u7ed8\u56fe\uff0c\u5c3d\u5728\u201cmatplotlib\u5236\u56fe\u5e08\u201d](https://www.wolai.com/matplotlib/uecbhR3MHhaZkK55za779h)\n",
                "\n",
                "## 1. \u5bfc\u5165\u76f8\u5173\u5e93"
            ]
        },
        {
            "cell_type": "code",
            "execution_count": 1,
            "metadata": {},
            "outputs": [],
            "source": [
                "# \u5bfc\u5165 matplotlib\n",
                "import matplotlib.pyplot as plt"
            ]
        },
        {
            "cell_type": "markdown",
            "metadata": {},
            "source": [
                "## 2. \u51c6\u5907\u6570\u636e"
            ]
        },
        {
            "cell_type": "code",
            "execution_count": 2,
            "metadata": {},
            "outputs": [],
            "source": []
        },
        {
            "cell_type": "markdown",
            "metadata": {},
            "source": [
                "## 3. \u8c03\u7528\u7ed8\u56feAPI"
            ]
        },
        {
            "cell_type": "code",
            "execution_count": 5,
            "metadata": {},
            "outputs": [],
            "source": [
                "# \u751f\u6210\u591a\u5217\u5750\u6807\u7cfb\n",
                "fig, axs = plt.subplots(nrows=2, ncols=8, figsize=(7.2, 6))\n",
                "# \u8bbe\u7f6e\u5750\u6807\u7cfb\u4e4b\u95f4\u7684\u95f4\u8ddd\n",
                "plt.subplots_adjust(wspace=0.05, hspace=0.2)\n",
                "\n",
                "# \u4e3a\u6bcf\u4e2a\u5750\u6807\u7cfb\u6dfb\u52a0\u6807\u7b7e\n",
                "for i in range(2):\n",
                "    for j in range(8):\n",
                "        axs[i, j].set_xticks([])\n",
                "        axs[i, j].set_yticks([])\n",
                "        txt = f\"{i*8+j+1} s\"\n",
                "        axs[i, j].set_title(txt, y=-0.14)\n",
                "\n",
                "# \u663e\u793a\u56fe\u7247\n",
                "# plt.savefig('./\u591a\u5217\u5e03\u5c40.png', dpi=300)\n",
                "\n",
                "# \u663e\u793a\u56fe\u5f62\n",
                "plt.show()"
            ]
        }
    ],
    "metadata": {
        "kernelspec": {
            "display_name": "Python 3",
            "language": "python",
            "name": "python3"
        },
        "language_info": {
            "codemirror_mode": {
                "name": "ipython",
                "version": 3
            },
            "file_extension": ".py",
            "mimetype": "text/x-python",
            "name": "python",
            "nbconvert_exporter": "python",
            "pygments_lexer": "ipython3",
            "version": "3.13.1"
        }
    },
    "nbformat": 4,
    "nbformat_minor": 2
}
{
    "cells": [
        {
            "cell_type": "markdown",
            "metadata": {},
            "source": [
                "# 奇葩布局\n",
                "\n",
                "> [更多绘图，尽在“matplotlib制图师”](https://www.wolai.com/matplotlib/uecbhR3MHhaZkK55za779h)\n",
                "\n",
                "## 1. 导入相关库"
            ]
        },
        {
            "cell_type": "code",
            "execution_count": 2,
            "metadata": {},
            "outputs": [],
            "source": [
                "# 导入 matplotlib\n",
                "import matplotlib.pyplot as plt\n",
                "from matplotlib import gridspec"
            ]
        },
        {
            "cell_type": "markdown",
            "metadata": {},
            "source": [
                "## 2. 准备数据"
            ]
        },
        {
            "cell_type": "code",
            "execution_count": null,
            "metadata": {},
            "outputs": [],
            "source": []
        },
        {
            "cell_type": "markdown",
            "metadata": {},
            "source": [
                "## 3. 调用绘图API"
            ]
        },
        {
            "cell_type": "code",
            "execution_count": null,
            "metadata": {},
            "outputs": [],
            "source": [
                "# 更多布局细节参见 https://www.wolai.com/matplotlib/mLZZUWqMf6fHc5sm5pJSpD\n",
                "fig = plt.figure(figsize=(6, 8))\n",
                "\n",
                "gs = gridspec.GridSpec(3, 2, width_ratios=[1, 2], hspace=0.3, wspace=0.3)\n",
                "\n",
                "# 在指定网格位置创建坐标系对象\n",
                "ax1 = fig.add_subplot(gs[0, :])\n",
                "ax1.set_ylabel(\"YLabel0\")\n",
                "ax1.set_xlabel(\"XLabel0\")\n",
                "# 设置坐标系的长宽比\n",
                "ax1.set_aspect(1, adjustable=\"box\")\n",
                "\n",
                "ax2 = []\n",
                "for i in range(2):\n",
                "    ax = fig.add_subplot(gs[1, i])\n",
                "    ax.set_ylabel(\"YLabel1 %d\" % i)\n",
                "    ax.set_xlabel(\"XLabel1 %d\" % i)\n",
                "    ax2.append(ax)\n",
                "\n",
                "ax3 = fig.add_subplot(gs[2, :])\n",
                "ax3.set_ylabel(\"YLabel2\")\n",
                "ax3.set_xlabel(\"XLabel2\")\n",
                "ax3.set_aspect(1, adjustable=\"box\")\n",
                "\n",
                "# 保存图片\n",
                "# plt.savefig('./奇葩布局.png', dpi=300)\n",
                "\n",
                "# 显示图像\n",
                "plt.show()"
            ]
        }
    ],
    "metadata": {
        "kernelspec": {
            "display_name": "Python 3",
            "language": "python",
            "name": "python3"
        },
        "language_info": {
            "codemirror_mode": {
                "name": "ipython",
                "version": 3
            },
            "file_extension": ".py",
            "mimetype": "text/x-python",
            "name": "python",
            "nbconvert_exporter": "python",
            "pygments_lexer": "ipython3",
            "version": "3.13.1"
        }
    },
    "nbformat": 4,
    "nbformat_minor": 2
}

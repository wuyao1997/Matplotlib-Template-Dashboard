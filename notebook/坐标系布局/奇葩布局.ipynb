{
    "cells": [
        {
            "cell_type": "markdown",
            "metadata": {},
            "source": [
                "# \u5947\u8469\u5e03\u5c40\n",
                "\n",
                "> [\u66f4\u591a\u7ed8\u56fe\uff0c\u5c3d\u5728\u201cmatplotlib\u5236\u56fe\u5e08\u201d](https://www.wolai.com/matplotlib/uecbhR3MHhaZkK55za779h)\n",
                "\n",
                "## 1. \u5bfc\u5165\u76f8\u5173\u5e93"
            ]
        },
        {
            "cell_type": "code",
            "execution_count": 2,
            "metadata": {},
            "outputs": [],
            "source": [
                "# \u5bfc\u5165 matplotlib\n",
                "import matplotlib.pyplot as plt\n",
                "from matplotlib import gridspec"
            ]
        },
        {
            "cell_type": "markdown",
            "metadata": {},
            "source": [
                "## 2. \u51c6\u5907\u6570\u636e"
            ]
        },
        {
            "cell_type": "code",
            "execution_count": null,
            "metadata": {},
            "outputs": [],
            "source": []
        },
        {
            "cell_type": "markdown",
            "metadata": {},
            "source": [
                "## 3. \u8c03\u7528\u7ed8\u56feAPI"
            ]
        },
        {
            "cell_type": "code",
            "execution_count": null,
            "metadata": {},
            "outputs": [],
            "source": [
                "fig = plt.figure(figsize=(6, 8))\n",
                "\n",
                "gs = gridspec.GridSpec(3, 2, width_ratios=[1, 2], hspace=0.3, wspace=0.3)\n",
                "\n",
                "# \u5728\u6307\u5b9a\u7f51\u683c\u4f4d\u7f6e\u521b\u5efa\u5750\u6807\u7cfb\u5bf9\u8c61\n",
                "ax1 = fig.add_subplot(gs[0, :])\n",
                "ax1.set_ylabel(\"YLabel0\")\n",
                "ax1.set_xlabel(\"XLabel0\")\n",
                "# \u8bbe\u7f6e\u5750\u6807\u7cfb\u7684\u957f\u5bbd\u6bd4\n",
                "ax1.set_aspect(1, adjustable=\"box\")\n",
                "\n",
                "ax2 = []\n",
                "for i in range(2):\n",
                "    ax = fig.add_subplot(gs[1, i])\n",
                "    ax.set_ylabel(\"YLabel1 %d\" % i)\n",
                "    ax.set_xlabel(\"XLabel1 %d\" % i)\n",
                "    ax2.append(ax)\n",
                "\n",
                "ax3 = fig.add_subplot(gs[2, :])\n",
                "ax3.set_ylabel(\"YLabel2\")\n",
                "ax3.set_xlabel(\"XLabel2\")\n",
                "ax3.set_aspect(1, adjustable=\"box\")\n",
                "\n",
                "# \u4fdd\u5b58\u56fe\u7247\n",
                "# plt.savefig('./\u5947\u8469\u5e03\u5c40.png', dpi=300)\n",
                "\n",
                "# \u663e\u793a\u56fe\u50cf\n",
                "plt.show()"
            ]
        }
    ],
    "metadata": {
        "kernelspec": {
            "display_name": "Python 3",
            "language": "python",
            "name": "python3"
        },
        "language_info": {
            "codemirror_mode": {
                "name": "ipython",
                "version": 3
            },
            "file_extension": ".py",
            "mimetype": "text/x-python",
            "name": "python",
            "nbconvert_exporter": "python",
            "pygments_lexer": "ipython3",
            "version": "3.13.1"
        }
    },
    "nbformat": 4,
    "nbformat_minor": 2
}
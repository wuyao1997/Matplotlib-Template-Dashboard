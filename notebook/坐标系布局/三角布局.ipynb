{
    "cells": [
        {
            "cell_type": "markdown",
            "metadata": {},
            "source": [
                "# \u4e09\u89d2\u5e03\u5c40\n",
                "\n",
                "> [\u66f4\u591a\u7ed8\u56fe\uff0c\u5c3d\u5728\u201cmatplotlib\u5236\u56fe\u5e08\u201d](https://www.wolai.com/matplotlib/uecbhR3MHhaZkK55za779h)\n",
                "\n",
                "## 1. \u5bfc\u5165\u76f8\u5173\u5e93"
            ]
        },
        {
            "cell_type": "code",
            "execution_count": 1,
            "metadata": {},
            "outputs": [],
            "source": [
                "# \u5bfc\u5165 matplotlib\n",
                "import matplotlib.pyplot as plt\n",
                "from matplotlib import gridspec"
            ]
        },
        {
            "cell_type": "markdown",
            "metadata": {},
            "source": [
                "## 2. \u51c6\u5907\u6570\u636e"
            ]
        },
        {
            "cell_type": "code",
            "execution_count": null,
            "metadata": {},
            "outputs": [],
            "source": []
        },
        {
            "cell_type": "markdown",
            "metadata": {},
            "source": [
                "## 3. \u8c03\u7528\u7ed8\u56feAPI"
            ]
        },
        {
            "cell_type": "code",
            "execution_count": 15,
            "metadata": {},
            "outputs": [],
            "source": [
                "fig = plt.figure(figsize=(6, 5.5))\n",
                "\n",
                "# \u4f7f\u7528GridSpec\u521b\u5efa\u5e03\u5c40\u7f51\u683c\n",
                "gs = gridspec.GridSpec(2, 4, hspace=0.32, wspace=0.4)\n",
                "\n",
                "# \u5728\u6307\u5b9a\u7f51\u683c\u4f4d\u7f6e\u521b\u5efa\u5750\u6807\u7cfb\u5bf9\u8c61\n",
                "ax1 = fig.add_subplot(gs[0, :2])\n",
                "ax2 = fig.add_subplot(gs[0, 2:])\n",
                "ax3 = fig.add_subplot(gs[1, 1:3])\n",
                "\n",
                "# \u8bbe\u7f6e\u5750\u6807\u7cfb\u6807\u9898\n",
                "ax1.set_title(\"(a) Axes\", y=-0.24)\n",
                "ax2.set_title(\"(b) Axes\", y=-0.24)\n",
                "ax3.set_title(\"(c) Axes\", y=-0.24)\n",
                "\n",
                "# \u4fdd\u5b58\u56fe\u7247\n",
                "# plt.savefig('./\u5947\u8469\u5e03\u5c40.png', dpi=300)\n",
                "\n",
                "# \u663e\u793a\u56fe\u50cf\n",
                "plt.show()"
            ]
        }
    ],
    "metadata": {
        "kernelspec": {
            "display_name": "Python 3",
            "language": "python",
            "name": "python3"
        },
        "language_info": {
            "codemirror_mode": {
                "name": "ipython",
                "version": 3
            },
            "file_extension": ".py",
            "mimetype": "text/x-python",
            "name": "python",
            "nbconvert_exporter": "python",
            "pygments_lexer": "ipython3",
            "version": "3.13.1"
        }
    },
    "nbformat": 4,
    "nbformat_minor": 2
}
{
    "cells": [
        {
            "cell_type": "markdown",
            "metadata": {},
            "source": [
                "# 三角布局\n",
                "\n",
                "> [更多绘图，尽在“matplotlib制图师”](https://www.wolai.com/matplotlib/uecbhR3MHhaZkK55za779h)\n",
                "\n",
                "## 1. 导入相关库"
            ]
        },
        {
            "cell_type": "code",
            "execution_count": 1,
            "metadata": {},
            "outputs": [],
            "source": [
                "# 导入 matplotlib\n",
                "import matplotlib.pyplot as plt\n",
                "from matplotlib import gridspec"
            ]
        },
        {
            "cell_type": "markdown",
            "metadata": {},
            "source": [
                "## 2. 准备数据"
            ]
        },
        {
            "cell_type": "code",
            "execution_count": null,
            "metadata": {},
            "outputs": [],
            "source": []
        },
        {
            "cell_type": "markdown",
            "metadata": {},
            "source": [
                "## 3. 调用绘图API"
            ]
        },
        {
            "cell_type": "code",
            "execution_count": 15,
            "metadata": {},
            "outputs": [],
            "source": [
                "# 更多布局细节参见 https://www.wolai.com/matplotlib/mLZZUWqMf6fHc5sm5pJSpD\n",
                "fig = plt.figure(figsize=(6, 5.5))\n",
                "\n",
                "# 使用GridSpec创建布局网格\n",
                "gs = gridspec.GridSpec(2, 4, hspace=0.32, wspace=0.4)\n",
                "\n",
                "# 在指定网格位置创建坐标系对象\n",
                "ax1 = fig.add_subplot(gs[0, :2])\n",
                "ax2 = fig.add_subplot(gs[0, 2:])\n",
                "ax3 = fig.add_subplot(gs[1, 1:3])\n",
                "\n",
                "# 设置坐标系标题\n",
                "ax1.set_title(\"(a) Axes\", y=-0.24)\n",
                "ax2.set_title(\"(b) Axes\", y=-0.24)\n",
                "ax3.set_title(\"(c) Axes\", y=-0.24)\n",
                "\n",
                "# 保存图片\n",
                "# plt.savefig('./奇葩布局.png', dpi=300)\n",
                "\n",
                "# 显示图像\n",
                "plt.show()"
            ]
        }
    ],
    "metadata": {
        "kernelspec": {
            "display_name": "Python 3",
            "language": "python",
            "name": "python3"
        },
        "language_info": {
            "codemirror_mode": {
                "name": "ipython",
                "version": 3
            },
            "file_extension": ".py",
            "mimetype": "text/x-python",
            "name": "python",
            "nbconvert_exporter": "python",
            "pygments_lexer": "ipython3",
            "version": "3.13.1"
        }
    },
    "nbformat": 4,
    "nbformat_minor": 2
}

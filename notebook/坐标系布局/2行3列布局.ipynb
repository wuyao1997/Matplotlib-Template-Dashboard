{
    "cells": [
        {
            "cell_type": "markdown",
            "metadata": {},
            "source": [
                "# 2行3列布局\n",
                "\n",
                "> [更多绘图，尽在“matplotlib制图师”](https://www.wolai.com/matplotlib/uecbhR3MHhaZkK55za779h)\n",
                "\n",
                "## 1. 导入相关库"
            ]
        },
        {
            "cell_type": "code",
            "execution_count": 1,
            "metadata": {},
            "outputs": [],
            "source": [
                "# 导入 matplotlib\n",
                "import matplotlib.pyplot as plt"
            ]
        },
        {
            "cell_type": "markdown",
            "metadata": {},
            "source": [
                "## 2. 准备数据"
            ]
        },
        {
            "cell_type": "code",
            "execution_count": 2,
            "metadata": {},
            "outputs": [],
            "source": []
        },
        {
            "cell_type": "markdown",
            "metadata": {},
            "source": [
                "## 3. 调用绘图API"
            ]
        },
        {
            "cell_type": "code",
            "execution_count": null,
            "metadata": {},
            "outputs": [],
            "source": [
                "# nrows, ncols: 指定子图的行数和列数\n",
                "# figsize: 指定图形的大小\n",
                "# gridspec_kw: 指定子图的布局参数\n",
                "#   - width_ratios:   指定每列的宽度比例\n",
                "#   - height_ratios:  指定每行的高度比例\n",
                "#   - wspace, hspace: 指定子图之间的水平和垂直间距\n",
                "# sharex, sharey: 指定是否共享 x 轴或 y 轴\n",
                "# 更多布局细节参见 https://www.wolai.com/matplotlib/mLZZUWqMf6fHc5sm5pJSpD\n",
                "fig, axs = plt.subplots(\n",
                "    nrows=2,\n",
                "    ncols=3,\n",
                "    figsize=(7.2, 5),\n",
                "    gridspec_kw={\n",
                "        \"width_ratios\": [1, 1.5, 1],\n",
                "        \"height_ratios\": [1, 1],\n",
                "        \"wspace\": 0.3,\n",
                "        \"hspace\": 0.35,\n",
                "    },\n",
                "    sharex=False,\n",
                "    sharey=False,\n",
                ")\n",
                "\n",
                "# 添加坐标轴标签\n",
                "for i in range(2):\n",
                "    for j in range(3):\n",
                "        txt = f\"({chr(97+i*3+j)}) Axes({i}, {j}) \"\n",
                "        axs[i, j].set_title(txt, y=-0.25)\n",
                "\n",
                "# 保存图片\n",
                "# plt.savefig('./2行3列布局.png', dpi=300)\n",
                "\n",
                "# 显示图片\n",
                "plt.show()"
            ]
        }
    ],
    "metadata": {
        "kernelspec": {
            "display_name": "Python 3",
            "language": "python",
            "name": "python3"
        },
        "language_info": {
            "codemirror_mode": {
                "name": "ipython",
                "version": 3
            },
            "file_extension": ".py",
            "mimetype": "text/x-python",
            "name": "python",
            "nbconvert_exporter": "python",
            "pygments_lexer": "ipython3",
            "version": "3.13.1"
        }
    },
    "nbformat": 4,
    "nbformat_minor": 2
}

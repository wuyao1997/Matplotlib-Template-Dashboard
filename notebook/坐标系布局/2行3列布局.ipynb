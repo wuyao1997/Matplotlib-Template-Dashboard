{
    "cells": [
        {
            "cell_type": "markdown",
            "metadata": {},
            "source": [
                "# 2\u884c3\u5217\u5e03\u5c40\n",
                "\n",
                "> [\u66f4\u591a\u7ed8\u56fe\uff0c\u5c3d\u5728\u201cmatplotlib\u5236\u56fe\u5e08\u201d](https://www.wolai.com/matplotlib/uecbhR3MHhaZkK55za779h)\n",
                "\n",
                "## 1. \u5bfc\u5165\u76f8\u5173\u5e93"
            ]
        },
        {
            "cell_type": "code",
            "execution_count": 1,
            "metadata": {},
            "outputs": [],
            "source": [
                "# \u5bfc\u5165 matplotlib\n",
                "import matplotlib.pyplot as plt"
            ]
        },
        {
            "cell_type": "markdown",
            "metadata": {},
            "source": [
                "## 2. \u51c6\u5907\u6570\u636e"
            ]
        },
        {
            "cell_type": "code",
            "execution_count": 2,
            "metadata": {},
            "outputs": [],
            "source": []
        },
        {
            "cell_type": "markdown",
            "metadata": {},
            "source": [
                "## 3. \u8c03\u7528\u7ed8\u56feAPI"
            ]
        },
        {
            "cell_type": "code",
            "execution_count": null,
            "metadata": {},
            "outputs": [],
            "source": [
                "# nrows, ncols: \u6307\u5b9a\u5b50\u56fe\u7684\u884c\u6570\u548c\u5217\u6570\n",
                "# figsize: \u6307\u5b9a\u56fe\u5f62\u7684\u5927\u5c0f\n",
                "# gridspec_kw: \u6307\u5b9a\u5b50\u56fe\u7684\u5e03\u5c40\u53c2\u6570\n",
                "#   - width_ratios:   \u6307\u5b9a\u6bcf\u5217\u7684\u5bbd\u5ea6\u6bd4\u4f8b\n",
                "#   - height_ratios:  \u6307\u5b9a\u6bcf\u884c\u7684\u9ad8\u5ea6\u6bd4\u4f8b\n",
                "#   - wspace, hspace: \u6307\u5b9a\u5b50\u56fe\u4e4b\u95f4\u7684\u6c34\u5e73\u548c\u5782\u76f4\u95f4\u8ddd\n",
                "# sharex, sharey: \u6307\u5b9a\u662f\u5426\u5171\u4eab x \u8f74\u6216 y \u8f74\n",
                "fig, axs = plt.subplots(\n",
                "    nrows=2,\n",
                "    ncols=3,\n",
                "    figsize=(7.2, 5),\n",
                "    gridspec_kw={\n",
                "        \"width_ratios\": [1, 1.5, 1],\n",
                "        \"height_ratios\": [1, 1],\n",
                "        \"wspace\": 0.3,\n",
                "        \"hspace\": 0.35,\n",
                "    },\n",
                "    sharex=False,\n",
                "    sharey=False,\n",
                ")\n",
                "\n",
                "# \u6dfb\u52a0\u5750\u6807\u8f74\u6807\u7b7e\n",
                "for i in range(2):\n",
                "    for j in range(3):\n",
                "        txt = f\"({chr(97+i*3+j)}) Axes({i}, {j}) \"\n",
                "        axs[i, j].set_title(txt, y=-0.25)\n",
                "\n",
                "# \u4fdd\u5b58\u56fe\u7247\n",
                "# plt.savefig('./2\u884c3\u5217\u5e03\u5c40.png', dpi=300)\n",
                "\n",
                "# \u663e\u793a\u56fe\u7247\n",
                "plt.show()"
            ]
        }
    ],
    "metadata": {
        "kernelspec": {
            "display_name": "Python 3",
            "language": "python",
            "name": "python3"
        },
        "language_info": {
            "codemirror_mode": {
                "name": "ipython",
                "version": 3
            },
            "file_extension": ".py",
            "mimetype": "text/x-python",
            "name": "python",
            "nbconvert_exporter": "python",
            "pygments_lexer": "ipython3",
            "version": "3.13.1"
        }
    },
    "nbformat": 4,
    "nbformat_minor": 2
}
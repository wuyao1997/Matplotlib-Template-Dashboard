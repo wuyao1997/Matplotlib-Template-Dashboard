{
    "cells": [
        {
            "cell_type": "markdown",
            "metadata": {},
            "source": [
                "# \u5c40\u90e8\u653e\u5927\u56fe\n",
                "\n",
                "> [\u66f4\u591a\u7ed8\u56fe\uff0c\u5c3d\u5728\u201cmatplotlib\u5236\u56fe\u5e08\u201d](https://www.wolai.com/matplotlib/uecbhR3MHhaZkK55za779h)\n",
                "\n",
                "## 1. \u5bfc\u5165\u76f8\u5173\u5e93"
            ]
        },
        {
            "cell_type": "code",
            "execution_count": 1,
            "metadata": {},
            "outputs": [],
            "source": [
                "# \u5bfc\u5165 matplotlib \u548c numpy \u5305\n",
                "import matplotlib.pyplot as plt\n",
                "import numpy as np"
            ]
        },
        {
            "cell_type": "markdown",
            "metadata": {},
            "source": [
                "## 2. \u51c6\u5907\u6570\u636e"
            ]
        },
        {
            "cell_type": "code",
            "execution_count": 2,
            "metadata": {},
            "outputs": [],
            "source": [
                "x = np.linspace(0, np.pi, 400)\n",
                "f = 2 * x**0.4 + np.sin(0.5 * x) + 0.15 * np.random.random(400) * np.sin(200 * x)"
            ]
        },
        {
            "cell_type": "markdown",
            "metadata": {},
            "source": [
                "## 3. \u8c03\u7528\u7ed8\u56feAPI"
            ]
        },
        {
            "cell_type": "code",
            "execution_count": 3,
            "metadata": {},
            "outputs": [],
            "source": [
                "# \u751f\u6210\u56fe\u5f62\u5bf9\u8c61 fig \u548c \u5b50\u56fe\u5bf9\u8c61 ax\uff0c\u4f7f\u7528\u7ea6\u675f\u5e03\u5c40\u907f\u514d\u91cd\u53e0\n",
                "fig, ax = plt.subplots(constrained_layout=True)\n",
                "\n",
                "# \u7ed8\u5236\u6298\u7ebf\n",
                "ax.plot(x, f, lw=1.0, color=\"C1\", alpha=0.75)\n",
                "\n",
                "# \u8bbe\u7f6e x \u8f74\u548c y \u8f74\u7684\u8f74\u6807\u7b7e\uff0c\u52a0\u7c97\u663e\u793a\n",
                "ax.set_xlabel(\"x (unit)\", fontweight=\"bold\")\n",
                "ax.set_ylabel(\"y (unit)\", fontweight=\"bold\")\n",
                "\n",
                "# \u5728\u6307\u5b9a\u533a\u57df\u7ed8\u5236\u5c40\u90e8\u653e\u5927\u56fe\n",
                "x1, x2, y1, y2 = 1.8, 2.0, 3.2, 3.6\n",
                "axins = ax.inset_axes([0.55, 0.12, 0.4, 0.45], xlim=(x1, x2), ylim=(y1, y2))\n",
                "axins.plot(x, f, lw=1.0, color=\"C1\", alpha=0.75)\n",
                "\n",
                "# \u6807\u6ce8\u5c40\u90e8\u653e\u5927\u533a\u57df\n",
                "rect, lines = ax.indicate_inset_zoom(axins, edgecolor=\"black\")\n",
                "\n",
                "# \u4fdd\u5b58\u56fe\u7247\n",
                "# plt.savefig('./\u5c40\u90e8\u653e\u5927\u56fe.png', dpi=300)\n",
                "\n",
                "# \u663e\u793a\u56fe\u5f62\n",
                "plt.show()"
            ]
        }
    ],
    "metadata": {
        "kernelspec": {
            "display_name": "Python 3",
            "language": "python",
            "name": "python3"
        },
        "language_info": {
            "codemirror_mode": {
                "name": "ipython",
                "version": 3
            },
            "file_extension": ".py",
            "mimetype": "text/x-python",
            "name": "python",
            "nbconvert_exporter": "python",
            "pygments_lexer": "ipython3",
            "version": "3.13.1"
        }
    },
    "nbformat": 4,
    "nbformat_minor": 2
}
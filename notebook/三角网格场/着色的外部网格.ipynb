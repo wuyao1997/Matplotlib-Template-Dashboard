{
    "cells": [
        {
            "cell_type": "markdown",
            "metadata": {},
            "source": [
                "# \u7740\u8272\u7684\u5916\u90e8\u7f51\u683c\n",
                "\n",
                "> [\u66f4\u591a\u7ed8\u56fe\uff0c\u5c3d\u5728\u201cmatplotlib\u5236\u56fe\u5e08\u201d](https://www.wolai.com/matplotlib/uecbhR3MHhaZkK55za779h)\n",
                "\n",
                "- [meshio](https://pypi.org/project/meshio/) \u662f\u4e00\u4e2a\u7528\u4e8e\u8bfb\u53d6\u548c\u5199\u5165\u7f51\u683c\u6570\u636e\u7684\u5e93\u3002\n",
                "\n",
                "## 1. \u5bfc\u5165\u76f8\u5173\u5e93"
            ]
        },
        {
            "cell_type": "code",
            "execution_count": 2,
            "metadata": {},
            "outputs": [],
            "source": [
                "# \u5bfc\u5165 matplotlib, meshio, numpy \u5305\n",
                "import meshio\n",
                "import numpy as np\n",
                "import matplotlib.pyplot as plt\n",
                "from matplotlib.tri import Triangulation"
            ]
        },
        {
            "cell_type": "markdown",
            "metadata": {},
            "source": [
                "## 2. \u51c6\u5907\u6570\u636e\n",
                "\n",
                "> \u5b9e\u9645\u8fc7\u7a0b\u4e2d\u901a\u5e38\u4ece\u7f51\u683c\u6587\u4ef6\u52a0\u8f7d\u9876\u70b9\u6570\u636e\u548c\u4e09\u89d2\u5f62\u7d22\u5f15\u6570\u636e\u3002"
            ]
        },
        {
            "cell_type": "code",
            "execution_count": 4,
            "metadata": {},
            "outputs": [],
            "source": [
                "# \"cleveland.msh\" \u662f\u4e00\u4e2a\u4f7f\u7528gmsh\u751f\u6210\u7684\u4e09\u89d2\u7f51\u683c\u6587\u4ef6\n",
                "mesh = meshio.read(\"../../resources/mesh/cleveland.msh\")\n",
                "# \u89e3\u6790\u70b9\u5750\u6807\n",
                "points = mesh.points[:, :2]\n",
                "x, y = points[:, 0], points[:, 1]\n",
                "# \u89e3\u6790\u4e09\u89d2\u5f62\u9876\u70b9\u7d22\u5f15\n",
                "triangles = mesh.cells[-1].data\n",
                "\n",
                "# \u751f\u6210\u4e09\u89d2\u7f51\u683c\n",
                "tri_mesh = Triangulation(x, y, triangles)"
            ]
        },
        {
            "cell_type": "markdown",
            "metadata": {},
            "source": [
                "## 3. \u8c03\u7528\u7ed8\u56feAPI"
            ]
        },
        {
            "cell_type": "code",
            "execution_count": 6,
            "metadata": {},
            "outputs": [],
            "source": [
                "# \u751f\u6210\u56fe\u5f62\u5bf9\u8c61 fig \u548c \u5b50\u56fe\u5bf9\u8c61 ax\uff0c\u4f7f\u7528\u7ea6\u675f\u5e03\u5c40\u907f\u514d\u91cd\u53e0\n",
                "fig, ax = plt.subplots(constrained_layout=True)\n",
                "# \u8bbe\u7f6e\u5750\u6807\u8f74\u6bd4\u4f8b\n",
                "ax.set_aspect(\"equal\")\n",
                "\n",
                "# \u7ed8\u5236\u4e09\u89d2\u5f62\u7f51\u683c\n",
                "ax.triplot(tri_mesh, color=\"dimgray\", lw=0.75)\n",
                "\n",
                "# \u8bbe\u7f6e\u5750\u6807\u8f74\u8303\u56f4\n",
                "ax.set(xlim=(-1.1, 2.1), ylim=(-0.1, 2.1))\n",
                "\n",
                "# \u8bbe\u7f6e x \u8f74\u548c y \u8f74\u7684\u8f74\u6807\u7b7e\uff0c\u52a0\u7c97\u663e\u793a\n",
                "ax.set_xlabel(\"x (m)\", fontweight=\"bold\")\n",
                "ax.set_ylabel(\"y (m)\", fontweight=\"bold\")\n",
                "\n",
                "# \u4fdd\u5b58\u56fe\u7247\n",
                "# plt.savefig('./\u4ece\u6587\u4ef6\u52a0\u8f7d\u7f51\u683c.png', dpi=300)\n",
                "\n",
                "# \u663e\u793a\u56fe\u5f62\n",
                "plt.show()"
            ]
        },
        {
            "cell_type": "markdown",
            "metadata": {},
            "source": [
                "## \u52a0\u8f7d\u6e29\u5ea6\u6570\u636e\uff0c\u5e76\u4f7f\u7528\u6e29\u5ea6\u5bf9\u4e09\u89d2\u5f62\u8fdb\u884c\u7740\u8272"
            ]
        },
        {
            "cell_type": "code",
            "execution_count": 7,
            "metadata": {},
            "outputs": [],
            "source": [
                "# \u52a0\u8f7d\u7f51\u683c\u9762\u4e0a\u7684\u6e29\u5ea6\u6570\u636e\n",
                "T = np.load(\"../../resources/mesh/temperature.npy\")"
            ]
        },
        {
            "cell_type": "code",
            "execution_count": null,
            "metadata": {},
            "outputs": [],
            "source": [
                "# \u751f\u6210\u56fe\u5f62\u5bf9\u8c61 fig \u548c \u5b50\u56fe\u5bf9\u8c61 ax\uff0c\u4f7f\u7528\u7ea6\u675f\u5e03\u5c40\u907f\u514d\u91cd\u53e0\n",
                "fig, ax = plt.subplots(constrained_layout=True)\n",
                "# \u8bbe\u7f6e\u5750\u6807\u8f74\u6bd4\u4f8b\n",
                "ax.set_aspect(\"equal\")\n",
                "\n",
                "# \u7ed8\u5236\u4e09\u89d2\u5f62\u7f51\u683c\n",
                "tpc = ax.tripcolor(tri_mesh, facecolors=T, cmap=\"coolwarm\", edgecolors=\"k\")\n",
                "\n",
                "# \u6dfb\u52a0\u989c\u8272\u6761\n",
                "cbar = fig.colorbar(tpc, location=\"top\")\n",
                "cbar.set_label(\"Temperature (\u2103)\")\n",
                "\n",
                "# \u8bbe\u7f6e\u5750\u6807\u8f74\u8303\u56f4\n",
                "ax.set(xlim=(-1.1, 2.1), ylim=(-0.1, 2.1))\n",
                "\n",
                "# \u8bbe\u7f6e x \u8f74\u548c y \u8f74\u7684\u8f74\u6807\u7b7e\uff0c\u52a0\u7c97\u663e\u793a\n",
                "ax.set_xlabel(\"x (m)\", fontweight=\"bold\")\n",
                "ax.set_ylabel(\"y (m)\", fontweight=\"bold\")\n",
                "\n",
                "# \u4fdd\u5b58\u56fe\u7247\n",
                "# plt.savefig('./\u7740\u8272\u7684\u5916\u90e8\u7f51\u683c.png', dpi=300)\n",
                "\n",
                "# \u663e\u793a\u56fe\u5f62\n",
                "plt.show()"
            ]
        }
    ],
    "metadata": {
        "kernelspec": {
            "display_name": "Python 3",
            "language": "python",
            "name": "python3"
        },
        "language_info": {
            "codemirror_mode": {
                "name": "ipython",
                "version": 3
            },
            "file_extension": ".py",
            "mimetype": "text/x-python",
            "name": "python",
            "nbconvert_exporter": "python",
            "pygments_lexer": "ipython3",
            "version": "3.13.1"
        }
    },
    "nbformat": 4,
    "nbformat_minor": 2
}
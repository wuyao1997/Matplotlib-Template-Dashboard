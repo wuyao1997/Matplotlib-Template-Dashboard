{
    "cells": [
        {
            "cell_type": "markdown",
            "metadata": {},
            "source": [
                "# 着色的外部网格\n",
                "\n",
                "> [更多绘图，尽在“matplotlib制图师”](https://www.wolai.com/matplotlib/uecbhR3MHhaZkK55za779h)\n",
                "\n",
                "- [meshio](https://pypi.org/project/meshio/) 是一个用于读取和写入网格数据的库。\n",
                "\n",
                "## 1. 导入相关库"
            ]
        },
        {
            "cell_type": "code",
            "execution_count": 2,
            "metadata": {},
            "outputs": [],
            "source": [
                "# 导入 matplotlib, meshio, numpy 包\n",
                "import meshio\n",
                "import numpy as np\n",
                "import matplotlib.pyplot as plt\n",
                "from matplotlib.tri import Triangulation"
            ]
        },
        {
            "cell_type": "markdown",
            "metadata": {},
            "source": [
                "## 2. 准备数据\n",
                "\n",
                "> 实际过程中通常从网格文件加载顶点数据和三角形索引数据。"
            ]
        },
        {
            "cell_type": "code",
            "execution_count": 4,
            "metadata": {},
            "outputs": [],
            "source": [
                "# \"cleveland.msh\" 是一个使用gmsh生成的三角网格文件\n",
                "mesh = meshio.read(\"../../resources/mesh/cleveland.msh\")\n",
                "# 解析点坐标\n",
                "points = mesh.points[:, :2]\n",
                "x, y = points[:, 0], points[:, 1]\n",
                "# 解析三角形顶点索引\n",
                "triangles = mesh.cells[-1].data\n",
                "\n",
                "# 生成三角网格\n",
                "tri_mesh = Triangulation(x, y, triangles)"
            ]
        },
        {
            "cell_type": "markdown",
            "metadata": {},
            "source": [
                "## 3. 调用绘图API"
            ]
        },
        {
            "cell_type": "code",
            "execution_count": 6,
            "metadata": {},
            "outputs": [],
            "source": [
                "# 生成图形对象 fig 和 子图对象 ax，使用约束布局避免重叠\n",
                "fig, ax = plt.subplots(constrained_layout=True)\n",
                "# 设置坐标轴比例\n",
                "ax.set_aspect(\"equal\")\n",
                "\n",
                "# 绘制三角形网格，详见 https://www.wolai.com/matplotlib/urE8LcbiGrFYHK6scY3Qrh\n",
                "ax.triplot(tri_mesh, color=\"dimgray\", lw=0.75)\n",
                "\n",
                "# 设置坐标轴范围\n",
                "ax.set(xlim=(-1.1, 2.1), ylim=(-0.1, 2.1))\n",
                "\n",
                "# 设置 x 轴和 y 轴的轴标签，加粗显示\n",
                "ax.set_xlabel(\"x (m)\", fontweight=\"bold\")\n",
                "ax.set_ylabel(\"y (m)\", fontweight=\"bold\")\n",
                "\n",
                "# 保存图片\n",
                "# plt.savefig('./从文件加载网格.png', dpi=300)\n",
                "\n",
                "# 显示图形\n",
                "plt.show()"
            ]
        },
        {
            "cell_type": "markdown",
            "metadata": {},
            "source": [
                "## 加载温度数据，并使用温度对三角形进行着色"
            ]
        },
        {
            "cell_type": "code",
            "execution_count": 7,
            "metadata": {},
            "outputs": [],
            "source": [
                "# 加载网格面上的温度数据\n",
                "T = np.load(\"../../resources/mesh/temperature.npy\")"
            ]
        },
        {
            "cell_type": "code",
            "execution_count": null,
            "metadata": {},
            "outputs": [],
            "source": [
                "# 生成图形对象 fig 和 子图对象 ax，使用约束布局避免重叠\n",
                "fig, ax = plt.subplots(constrained_layout=True)\n",
                "# 设置坐标轴比例\n",
                "ax.set_aspect(\"equal\")\n",
                "\n",
                "# 绘制三角形网格\n",
                "tpc = ax.tripcolor(tri_mesh, facecolors=T, cmap=\"coolwarm\", edgecolors=\"k\")\n",
                "\n",
                "# 添加颜色条\n",
                "cbar = fig.colorbar(tpc, location=\"top\")\n",
                "cbar.set_label(\"Temperature (℃)\")\n",
                "\n",
                "# 设置坐标轴范围\n",
                "ax.set(xlim=(-1.1, 2.1), ylim=(-0.1, 2.1))\n",
                "\n",
                "# 设置 x 轴和 y 轴的轴标签，加粗显示\n",
                "ax.set_xlabel(\"x (m)\", fontweight=\"bold\")\n",
                "ax.set_ylabel(\"y (m)\", fontweight=\"bold\")\n",
                "\n",
                "# 保存图片\n",
                "# plt.savefig('./着色的外部网格.png', dpi=300)\n",
                "\n",
                "# 显示图形\n",
                "plt.show()"
            ]
        }
    ],
    "metadata": {
        "kernelspec": {
            "display_name": "Python 3",
            "language": "python",
            "name": "python3"
        },
        "language_info": {
            "codemirror_mode": {
                "name": "ipython",
                "version": 3
            },
            "file_extension": ".py",
            "mimetype": "text/x-python",
            "name": "python",
            "nbconvert_exporter": "python",
            "pygments_lexer": "ipython3",
            "version": "3.13.1"
        }
    },
    "nbformat": 4,
    "nbformat_minor": 2
}

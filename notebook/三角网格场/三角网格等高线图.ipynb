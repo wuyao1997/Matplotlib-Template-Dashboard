{
    "cells": [
        {
            "cell_type": "markdown",
            "metadata": {},
            "source": [
                "# 三角网格等高线图\n",
                "\n",
                "> [更多绘图，尽在“matplotlib制图师”](https://www.wolai.com/matplotlib/uecbhR3MHhaZkK55za779h)\n",
                "\n",
                "## 1. 导入相关库"
            ]
        },
        {
            "cell_type": "code",
            "execution_count": 1,
            "metadata": {},
            "outputs": [],
            "source": [
                "# 导入 matplotlib 和 numpy 包\n",
                "import matplotlib.pyplot as plt\n",
                "import matplotlib.tri as tri\n",
                "import numpy as np"
            ]
        },
        {
            "cell_type": "markdown",
            "metadata": {},
            "source": [
                "## 2. 准备数据"
            ]
        },
        {
            "cell_type": "code",
            "execution_count": 17,
            "metadata": {},
            "outputs": [],
            "source": [
                "# 三角网格基本参数\n",
                "n_angles = 45\n",
                "n_radii = 8\n",
                "min_radius = 0.25\n",
                "radii = np.linspace(min_radius, 0.95, n_radii)\n",
                "\n",
                "angles = np.linspace(0, 2 * np.pi, n_angles, endpoint=False)\n",
                "angles = np.repeat(angles[..., np.newaxis], n_radii, axis=1)\n",
                "angles[:, 1::2] += np.pi / n_angles\n",
                "\n",
                "# 顶点和颜色坐标\n",
                "x = (radii * np.cos(angles)).flatten()\n",
                "y = (radii * np.sin(angles)).flatten()\n",
                "z = (np.cos(radii) * np.cos(3 * angles)).flatten()\n",
                "\n",
                "# 创建三角剖分对象\n",
                "triang = tri.Triangulation(x, y)\n",
                "\n",
                "# 内圈三角形设置掩码，使内圈三角形不可见\n",
                "triang.set_mask(\n",
                "    np.hypot(x[triang.triangles].mean(axis=1), y[triang.triangles].mean(axis=1))\n",
                "    < min_radius\n",
                ")\n",
                "\n",
                "# 指定等高线区间\n",
                "levels = [-1, -0.5, 0, 0.5, 1]"
            ]
        },
        {
            "cell_type": "markdown",
            "metadata": {},
            "source": [
                "## 3. 调用绘图API\n"
            ]
        },
        {
            "cell_type": "code",
            "execution_count": null,
            "metadata": {},
            "outputs": [],
            "source": [
                "# 生成图形对象 fig 和 子图对象 ax，使用约束布局避免重叠\n",
                "fig, ax = plt.subplots(constrained_layout=True)\n",
                "# 设置坐标轴比例，关闭边框\n",
                "ax.set_aspect(\"equal\")\n",
                "ax.set_axis_off()\n",
                "\n",
                "# 设置坐标轴等比例\n",
                "ax.set_aspect(\"equal\")\n",
                "\n",
                "# 绘制等高线，详见 https://www.wolai.com/matplotlib/pbg4wrMJk9etfmvg51Ssnx\n",
                "_ = ax.triplot(triang, color=\"dimgray\", ls=\"-\", lw=0.25, zorder=100)\n",
                "_ = ax.tricontour(triang, z, levels=levels, colors=\"dimgray\", linestyles=\"-\")\n",
                "tpc = ax.tricontourf(triang, z, levels=levels, cmap=\"coolwarm\", vmin=-1.0, vmax=1.0)\n",
                "\n",
                "# 添加颜色条\n",
                "cbar = fig.colorbar(tpc, shrink=0.9)\n",
                "cbar.set_label(\"velocity (m/s)\", fontweight=\"bold\")\n",
                "\n",
                "# 保存图片\n",
                "# plt.savefig('./三角网格等高线图.png', dpi=300)\n",
                "\n",
                "# 显示图形\n",
                "plt.show()"
            ]
        }
    ],
    "metadata": {
        "kernelspec": {
            "display_name": "Python 3",
            "language": "python",
            "name": "python3"
        },
        "language_info": {
            "codemirror_mode": {
                "name": "ipython",
                "version": 3
            },
            "file_extension": ".py",
            "mimetype": "text/x-python",
            "name": "python",
            "nbconvert_exporter": "python",
            "pygments_lexer": "ipython3",
            "version": "3.13.1"
        }
    },
    "nbformat": 4,
    "nbformat_minor": 2
}

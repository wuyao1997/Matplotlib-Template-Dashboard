{
    "cells": [
        {
            "cell_type": "markdown",
            "metadata": {},
            "source": [
                "# \u4e09\u89d2\u7f51\u683c\u7b49\u9ad8\u7ebf\u56fe\n",
                "\n",
                "> [\u66f4\u591a\u7ed8\u56fe\uff0c\u5c3d\u5728\u201cmatplotlib\u5236\u56fe\u5e08\u201d](https://www.wolai.com/matplotlib/uecbhR3MHhaZkK55za779h)\n",
                "\n",
                "## 1. \u5bfc\u5165\u76f8\u5173\u5e93"
            ]
        },
        {
            "cell_type": "code",
            "execution_count": 1,
            "metadata": {},
            "outputs": [],
            "source": [
                "# \u5bfc\u5165 matplotlib \u548c numpy \u5305\n",
                "import matplotlib.pyplot as plt\n",
                "import matplotlib.tri as tri\n",
                "import numpy as np"
            ]
        },
        {
            "cell_type": "markdown",
            "metadata": {},
            "source": [
                "## 2. \u51c6\u5907\u6570\u636e"
            ]
        },
        {
            "cell_type": "code",
            "execution_count": 17,
            "metadata": {},
            "outputs": [],
            "source": [
                "# \u4e09\u89d2\u7f51\u683c\u57fa\u672c\u53c2\u6570\n",
                "n_angles = 45\n",
                "n_radii = 8\n",
                "min_radius = 0.25\n",
                "radii = np.linspace(min_radius, 0.95, n_radii)\n",
                "\n",
                "angles = np.linspace(0, 2 * np.pi, n_angles, endpoint=False)\n",
                "angles = np.repeat(angles[..., np.newaxis], n_radii, axis=1)\n",
                "angles[:, 1::2] += np.pi / n_angles\n",
                "\n",
                "# \u9876\u70b9\u548c\u989c\u8272\u5750\u6807\n",
                "x = (radii * np.cos(angles)).flatten()\n",
                "y = (radii * np.sin(angles)).flatten()\n",
                "z = (np.cos(radii) * np.cos(3 * angles)).flatten()\n",
                "\n",
                "# \u521b\u5efa\u4e09\u89d2\u5256\u5206\u5bf9\u8c61\n",
                "triang = tri.Triangulation(x, y)\n",
                "\n",
                "# \u5185\u5708\u4e09\u89d2\u5f62\u8bbe\u7f6e\u63a9\u7801\uff0c\u4f7f\u5185\u5708\u4e09\u89d2\u5f62\u4e0d\u53ef\u89c1\n",
                "triang.set_mask(\n",
                "    np.hypot(x[triang.triangles].mean(axis=1), y[triang.triangles].mean(axis=1))\n",
                "    < min_radius\n",
                ")\n",
                "\n",
                "# \u6307\u5b9a\u7b49\u9ad8\u7ebf\u533a\u95f4\n",
                "levels = [-1, -0.5, 0, 0.5, 1]"
            ]
        },
        {
            "cell_type": "markdown",
            "metadata": {},
            "source": [
                "## 3. \u8c03\u7528\u7ed8\u56feAPI\n"
            ]
        },
        {
            "cell_type": "code",
            "execution_count": null,
            "metadata": {},
            "outputs": [],
            "source": [
                "# \u751f\u6210\u56fe\u5f62\u5bf9\u8c61 fig \u548c \u5b50\u56fe\u5bf9\u8c61 ax\uff0c\u4f7f\u7528\u7ea6\u675f\u5e03\u5c40\u907f\u514d\u91cd\u53e0\n",
                "fig, ax = plt.subplots(constrained_layout=True)\n",
                "# \u8bbe\u7f6e\u5750\u6807\u8f74\u6bd4\u4f8b\uff0c\u5173\u95ed\u8fb9\u6846\n",
                "ax.set_aspect(\"equal\")\n",
                "ax.set_axis_off()\n",
                "\n",
                "# \u8bbe\u7f6e\u5750\u6807\u8f74\u7b49\u6bd4\u4f8b\n",
                "ax.set_aspect(\"equal\")\n",
                "\n",
                "# \u7ed8\u5236\u7b49\u9ad8\u7ebf\n",
                "_ = ax.triplot(triang, color=\"dimgray\", ls=\"-\", lw=0.25, zorder=100)\n",
                "_ = ax.tricontour(triang, z, levels=levels, colors=\"dimgray\", linestyles=\"-\")\n",
                "tpc = ax.tricontourf(triang, z, levels=levels, cmap=\"coolwarm\", vmin=-1.0, vmax=1.0)\n",
                "\n",
                "# \u6dfb\u52a0\u989c\u8272\u6761\n",
                "cbar = fig.colorbar(tpc, shrink=0.9)\n",
                "cbar.set_label(\"velocity (m/s)\", fontweight=\"bold\")\n",
                "\n",
                "# \u4fdd\u5b58\u56fe\u7247\n",
                "# plt.savefig('./\u4e09\u89d2\u7f51\u683c\u7b49\u9ad8\u7ebf\u56fe.png', dpi=300)\n",
                "\n",
                "# \u663e\u793a\u56fe\u5f62\n",
                "plt.show()"
            ]
        }
    ],
    "metadata": {
        "kernelspec": {
            "display_name": "Python 3",
            "language": "python",
            "name": "python3"
        },
        "language_info": {
            "codemirror_mode": {
                "name": "ipython",
                "version": 3
            },
            "file_extension": ".py",
            "mimetype": "text/x-python",
            "name": "python",
            "nbconvert_exporter": "python",
            "pygments_lexer": "ipython3",
            "version": "3.13.1"
        }
    },
    "nbformat": 4,
    "nbformat_minor": 2
}
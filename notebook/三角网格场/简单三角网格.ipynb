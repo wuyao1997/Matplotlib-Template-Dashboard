{
    "cells": [
        {
            "cell_type": "markdown",
            "metadata": {},
            "source": [
                "# \u7b80\u5355\u4e09\u89d2\u7f51\u683c\n",
                "\n",
                "> [\u66f4\u591a\u7ed8\u56fe\uff0c\u5c3d\u5728\u201cmatplotlib\u5236\u56fe\u5e08\u201d](https://www.wolai.com/matplotlib/uecbhR3MHhaZkK55za779h)\n",
                "\n",
                "## 1. \u5bfc\u5165\u76f8\u5173\u5e93"
            ]
        },
        {
            "cell_type": "code",
            "execution_count": 1,
            "metadata": {},
            "outputs": [],
            "source": [
                "# \u5bfc\u5165 matplotlib \u548c numpy \u5305\n",
                "import matplotlib.pyplot as plt\n",
                "import numpy as np\n",
                "from matplotlib.tri import Triangulation"
            ]
        },
        {
            "cell_type": "markdown",
            "metadata": {},
            "source": [
                "## 2. \u51c6\u5907\u6570\u636e\n",
                "\n",
                "> \u5b9e\u9645\u8fc7\u7a0b\u4e2d\u901a\u5e38\u4ece\u7f51\u683c\u6587\u4ef6\u52a0\u8f7d\u9876\u70b9\u6570\u636e\u548c\u4e09\u89d2\u5f62\u7d22\u5f15\u6570\u636e\u3002"
            ]
        },
        {
            "cell_type": "code",
            "execution_count": 6,
            "metadata": {},
            "outputs": [],
            "source": [
                "# \u751f\u6210\u5750\u6807\u6570\u636e\n",
                "np.random.seed(13210298)\n",
                "x = np.random.uniform(-3, 3, 7)\n",
                "y = np.random.uniform(-3, 3, 7)\n",
                "\n",
                "# \u751f\u6210\u4e09\u89d2\u5256\u5206\u5bf9\u8c61\uff0c\u4e0d\u4f20\u5165\u4e09\u89d2\u5f62\u9876\u70b9\u7d22\u5f15\u65f6\uff0c\u4f7f\u7528 Delaunay \u7b97\u6cd5\u751f\u6210\n",
                "tri = Triangulation(x, y)\n",
                "# \u4e5f\u53ef\u4ee5\u4f20\u5165\u4e09\u89d2\u5f62\u9876\u70b9\u7d22\u5f15\n",
                "# tri = Triangulation(x, y, triangles=[[0,6,2], [1,4,3], [0,5,4]])"
            ]
        },
        {
            "cell_type": "markdown",
            "metadata": {},
            "source": [
                "## 3. \u8c03\u7528\u7ed8\u56feAPI"
            ]
        },
        {
            "cell_type": "code",
            "execution_count": 10,
            "metadata": {},
            "outputs": [],
            "source": [
                "# \u751f\u6210\u56fe\u5f62\u5bf9\u8c61 fig \u548c \u5b50\u56fe\u5bf9\u8c61 ax\uff0c\u4f7f\u7528\u7ea6\u675f\u5e03\u5c40\u907f\u514d\u91cd\u53e0\n",
                "fig, ax = plt.subplots(constrained_layout=True)\n",
                "# \u8bbe\u7f6e\u5750\u6807\u8f74\u6bd4\u4f8b\n",
                "ax.set_aspect(\"equal\")\n",
                "\n",
                "# \u7ed8\u5236\u70b9\uff0c\u6dfb\u52a0\u6587\u672c\u6807\u7b7e\n",
                "ax.scatter(x, y, color=\"darkred\")\n",
                "for i in range(7):\n",
                "    ax.text(x[i], y[i], i, fontsize=12, ha=\"center\", va=\"bottom\")\n",
                "\n",
                "# \u7ed8\u5236\u4e09\u89d2\u5f62\u7f51\u683c\n",
                "ax.triplot(tri, color=\"dimgray\", ls=\":\", lw=1)\n",
                "\n",
                "# \u8bbe\u7f6e\u5750\u6807\u8f74\u8303\u56f4\n",
                "ax.set(xlim=(-3.2, 3.2), ylim=(-3.2, 3.2))\n",
                "\n",
                "# \u8bbe\u7f6e x \u8f74\u548c y \u8f74\u7684\u8f74\u6807\u7b7e\uff0c\u52a0\u7c97\u663e\u793a\n",
                "ax.set_xlabel(\"x (unit)\", fontweight=\"bold\")\n",
                "ax.set_ylabel(\"y (unit)\", fontweight=\"bold\")\n",
                "\n",
                "# \u4fdd\u5b58\u56fe\u7247\n",
                "# plt.savefig('./\u7b80\u5355\u4e09\u89d2\u7f51\u683c.png', dpi=300)\n",
                "\n",
                "# \u663e\u793a\u56fe\u5f62\n",
                "plt.show()"
            ]
        }
    ],
    "metadata": {
        "kernelspec": {
            "display_name": "Python 3",
            "language": "python",
            "name": "python3"
        },
        "language_info": {
            "codemirror_mode": {
                "name": "ipython",
                "version": 3
            },
            "file_extension": ".py",
            "mimetype": "text/x-python",
            "name": "python",
            "nbconvert_exporter": "python",
            "pygments_lexer": "ipython3",
            "version": "3.13.1"
        }
    },
    "nbformat": 4,
    "nbformat_minor": 2
}
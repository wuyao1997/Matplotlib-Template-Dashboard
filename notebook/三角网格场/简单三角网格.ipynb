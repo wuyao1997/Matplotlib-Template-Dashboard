{
    "cells": [
        {
            "cell_type": "markdown",
            "metadata": {},
            "source": [
                "# 简单三角网格\n",
                "\n",
                "> [更多绘图，尽在“matplotlib制图师”](https://www.wolai.com/matplotlib/uecbhR3MHhaZkK55za779h)\n",
                "\n",
                "## 1. 导入相关库"
            ]
        },
        {
            "cell_type": "code",
            "execution_count": 1,
            "metadata": {},
            "outputs": [],
            "source": [
                "# 导入 matplotlib 和 numpy 包\n",
                "import matplotlib.pyplot as plt\n",
                "import numpy as np\n",
                "from matplotlib.tri import Triangulation"
            ]
        },
        {
            "cell_type": "markdown",
            "metadata": {},
            "source": [
                "## 2. 准备数据\n",
                "\n",
                "> 实际过程中通常从网格文件加载顶点数据和三角形索引数据。"
            ]
        },
        {
            "cell_type": "code",
            "execution_count": 6,
            "metadata": {},
            "outputs": [],
            "source": [
                "# 生成坐标数据\n",
                "np.random.seed(13210298)\n",
                "x = np.random.uniform(-3, 3, 7)\n",
                "y = np.random.uniform(-3, 3, 7)\n",
                "\n",
                "# 生成三角剖分对象，不传入三角形顶点索引时，使用 Delaunay 算法生成\n",
                "tri = Triangulation(x, y)\n",
                "# 也可以传入三角形顶点索引\n",
                "# tri = Triangulation(x, y, triangles=[[0,6,2], [1,4,3], [0,5,4]])"
            ]
        },
        {
            "cell_type": "markdown",
            "metadata": {},
            "source": [
                "## 3. 调用绘图API"
            ]
        },
        {
            "cell_type": "code",
            "execution_count": 10,
            "metadata": {},
            "outputs": [],
            "source": [
                "# 生成图形对象 fig 和 子图对象 ax，使用约束布局避免重叠\n",
                "fig, ax = plt.subplots(constrained_layout=True)\n",
                "# 设置坐标轴比例\n",
                "ax.set_aspect(\"equal\")\n",
                "\n",
                "# 绘制点，添加文本标签\n",
                "ax.scatter(x, y, color=\"darkred\")\n",
                "for i in range(7):\n",
                "    ax.text(x[i], y[i], i, fontsize=12, ha=\"center\", va=\"bottom\")\n",
                "\n",
                "# 绘制三角形网格，详见 https://www.wolai.com/matplotlib/urE8LcbiGrFYHK6scY3Qrh\n",
                "ax.triplot(tri, color=\"dimgray\", ls=\":\", lw=1)\n",
                "\n",
                "# 设置坐标轴范围\n",
                "ax.set(xlim=(-3.2, 3.2), ylim=(-3.2, 3.2))\n",
                "\n",
                "# 设置 x 轴和 y 轴的轴标签，加粗显示\n",
                "ax.set_xlabel(\"x (unit)\", fontweight=\"bold\")\n",
                "ax.set_ylabel(\"y (unit)\", fontweight=\"bold\")\n",
                "\n",
                "# 保存图片\n",
                "# plt.savefig('./简单三角网格.png', dpi=300)\n",
                "\n",
                "# 显示图形\n",
                "plt.show()"
            ]
        }
    ],
    "metadata": {
        "kernelspec": {
            "display_name": "Python 3",
            "language": "python",
            "name": "python3"
        },
        "language_info": {
            "codemirror_mode": {
                "name": "ipython",
                "version": 3
            },
            "file_extension": ".py",
            "mimetype": "text/x-python",
            "name": "python",
            "nbconvert_exporter": "python",
            "pygments_lexer": "ipython3",
            "version": "3.13.1"
        }
    },
    "nbformat": 4,
    "nbformat_minor": 2
}

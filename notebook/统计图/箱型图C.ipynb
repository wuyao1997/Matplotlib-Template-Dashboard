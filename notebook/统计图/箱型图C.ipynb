{
    "cells": [
        {
            "cell_type": "markdown",
            "metadata": {},
            "source": [
                "# \u7bb1\u578b\u56feC\n",
                "\n",
                "> [\u66f4\u591a\u7ed8\u56fe\uff0c\u5c3d\u5728\u201cmatplotlib\u5236\u56fe\u5e08\u201d](https://www.wolai.com/matplotlib/uecbhR3MHhaZkK55za779h)\n",
                "\n",
                "## 1. \u5bfc\u5165\u76f8\u5173\u5e93"
            ]
        },
        {
            "cell_type": "code",
            "execution_count": 26,
            "metadata": {},
            "outputs": [],
            "source": [
                "# \u5bfc\u5165 matplotlib \u548c numpy \u5305\n",
                "import matplotlib.pyplot as plt\n",
                "import numpy as np"
            ]
        },
        {
            "cell_type": "markdown",
            "metadata": {},
            "source": [
                "## 2. \u51c6\u5907\u6570\u636e"
            ]
        },
        {
            "cell_type": "code",
            "execution_count": 27,
            "metadata": {},
            "outputs": [],
            "source": [
                "np.random.seed(341126)\n",
                "N = 1 << 10\n",
                "\n",
                "a = 0.75 * np.random.randn(N) + 0.5\n",
                "b = 2 * np.random.randn(N) - 1.0\n",
                "c = 1.6 * np.random.randn(N) + 1\n",
                "\n",
                "data1 = [a, b, c]\n",
                "data2 = [a + 1, b - 1, 1.4 * c]"
            ]
        },
        {
            "cell_type": "markdown",
            "metadata": {},
            "source": [
                "## 3. \u8c03\u7528\u7ed8\u56feAPI\n",
                "\n",
                "`boxplot`\u51fd\u6570\u5173\u952e\u5b57\u53c2\u6570\uff1a\n",
                "- `vert`\uff1a\u662f\u5426\u5782\u76f4\u663e\u793a\uff0c\u9ed8\u8ba4\u5782\u76f4\u663e\u793a\n",
                "- `notch`\uff1a\u662f\u5426\u7f3a\u53e3\uff0c\u9ed8\u8ba4\u65e0\u7f3a\u53e3\n",
                "- `sym`\uff1a\u5f02\u5e38\u503c\u6807\u8bc6\u7b26\uff0c\u8bbe\u7f6e\u4e3a\u7a7a\u5b57\u7b26\u4e32`\"\"`\u65f6\u4e0d\u663e\u793a\u5f02\u5e38\u503c\n",
                "- `whis`\uff1a\u8bbe\u7f6e\u5f02\u5e38\u503c\u8303\u56f4\uff0c\u9ed8\u8ba4\u4e3a1.5\u500d\u56db\u5206\u4f4d\u8ddd\n",
                "- `capwidths`\uff1a\u8bbe\u7f6e\u987b\u7684\u5bbd\u5ea6\n",
                "- `patch_artist`\uff1a\u662f\u5426\u586b\u5145\u7bb1\u4f53\uff0c\u9ed8\u8ba4\u4e0d\u586b\u5145\n",
                "- `boxprops`\uff1a\u8bbe\u7f6e\u7bb1\u4f53\u5c5e\u6027\uff0c\u5982\u8fb9\u6846\u989c\u8272`facecolor`\u3001\u586b\u5145\u8272`color`\u7b49\n",
                "- `capprops`\uff1a\u8bbe\u7f6e\u987b\u7684\u5c5e\u6027\uff0c\u5982\u989c\u8272`color`\u3001\u7ebf\u5bbd`lw`\u7b49\n",
                "- `whiskerprops`\uff1a\u8bbe\u7f6e\u7ad6\u7ebf\u7684\u5c5e\u6027\uff0c\u5982\u989c\u8272`color`\u3001\u7ebf\u5bbd`lw`\u7b49\n",
                "- `medianprops`\uff1a\u8bbe\u7f6e\u4e2d\u4f4d\u6570\u7684\u5c5e\u6027\uff0c\u5982\u989c\u8272`color`\u3001\u7ebf\u5bbd`lw`\u7b49\n",
                "- `flierprops`\uff1a\u8bbe\u7f6e\u5f02\u5e38\u503c\u6807\u8bc6\u7b26\u7684\u5c5e\u6027\uff0c\u5982`marker`\u3001`markeredgecolor`\u7b49\uff0c\u4f18\u5148\u7ea7\u4f4e\u4e8e\u5173\u952e\u5b57`sym`"
            ]
        },
        {
            "cell_type": "code",
            "execution_count": 49,
            "metadata": {},
            "outputs": [],
            "source": [
                "# \u751f\u6210\u56fe\u5f62\u5bf9\u8c61 fig \u548c \u5b50\u56fe\u5bf9\u8c61 ax\uff0c\u4f7f\u7528\u7ea6\u675f\u5e03\u5c40\u907f\u514d\u91cd\u53e0\n",
                "fig, ax = plt.subplots(constrained_layout=True)\n",
                "\n",
                "# \u8c03\u7528\u5750\u6807\u7cfb\u5bf9\u8c61 ax \u7684 boxplot \u65b9\u6cd5\uff0c\u7ed8\u5236\u7bb1\u578b\u56fe\n",
                "ax.boxplot(\n",
                "    data1,\n",
                "    positions=[0.3, 1.3, 2.3],\n",
                "    widths=0.3,\n",
                "    notch=True,\n",
                "    sym=\"\",\n",
                "    patch_artist=True,\n",
                "    boxprops=dict(facecolor=\"C0\", lw=1, color=\"k\"),\n",
                "    medianprops=dict(color=\"k\"),\n",
                ")\n",
                "\n",
                "ax.boxplot(\n",
                "    data2,\n",
                "    positions=[0.7, 1.7, 2.7],\n",
                "    widths=0.3,\n",
                "    notch=True,\n",
                "    sym=\"\",\n",
                "    patch_artist=True,\n",
                "    boxprops=dict(facecolor=\"C1\", lw=1, color=\"k\"),\n",
                "    medianprops=dict(color=\"k\"),\n",
                ")\n",
                "\n",
                "# \u8bbe\u7f6e Y\u8f74 \u8303\u56f4\n",
                "ax.set_ylim(-8, 8)\n",
                "\n",
                "# \u8bbe\u7f6e x \u8f74\u523b\u5ea6\u548c y \u8f74\u7b7e\uff0c\u52a0\u7c97\u663e\u793a\n",
                "ax.set_xticks([0.5, 1.5, 2.5], [\"A\", \"B\", \"C\"])\n",
                "ax.set_ylabel(\"y (unit)\", fontweight=\"bold\")\n",
                "\n",
                "# \u4fdd\u5b58\u56fe\u7247\n",
                "# plt.savefig('./\u7bb1\u578b\u56feC.png', dpi=300)\n",
                "\n",
                "# \u663e\u793a\u56fe\u50cf\n",
                "plt.show()"
            ]
        }
    ],
    "metadata": {
        "kernelspec": {
            "display_name": "Python 3",
            "language": "python",
            "name": "python3"
        },
        "language_info": {
            "codemirror_mode": {
                "name": "ipython",
                "version": 3
            },
            "file_extension": ".py",
            "mimetype": "text/x-python",
            "name": "python",
            "nbconvert_exporter": "python",
            "pygments_lexer": "ipython3",
            "version": "3.13.1"
        }
    },
    "nbformat": 4,
    "nbformat_minor": 2
}
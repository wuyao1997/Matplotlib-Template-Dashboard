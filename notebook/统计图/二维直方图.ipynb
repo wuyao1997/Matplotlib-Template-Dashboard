{
    "cells": [
        {
            "cell_type": "markdown",
            "metadata": {},
            "source": [
                "# 二维直方图\n",
                "\n",
                "> [更多绘图，尽在“matplotlib制图师”](https://www.wolai.com/matplotlib/uecbhR3MHhaZkK55za779h)\n",
                "\n",
                "## 1. 导入相关库"
            ]
        },
        {
            "cell_type": "code",
            "execution_count": 3,
            "metadata": {},
            "outputs": [],
            "source": [
                "# 导入 matplotlib 和 numpy 包\n",
                "import matplotlib.pyplot as plt\n",
                "import numpy as np"
            ]
        },
        {
            "cell_type": "markdown",
            "metadata": {},
            "source": [
                "## 2. 准备数据"
            ]
        },
        {
            "cell_type": "code",
            "execution_count": 4,
            "metadata": {},
            "outputs": [],
            "source": [
                "# 随机数种子\n",
                "np.random.seed(19680801)\n",
                "# 数据点数量\n",
                "N = 1 << 14\n",
                "\n",
                "x = np.random.randn(N)\n",
                "y = -1.0 * x + 1.5 * np.random.randn(N)\n",
                "\n",
                "# 用于统计样本分布的区间\n",
                "bins = (np.linspace(-3, 3, 16), np.linspace(-3, 3, 16))"
            ]
        },
        {
            "cell_type": "markdown",
            "metadata": {},
            "source": [
                "## 3. 调用绘图API"
            ]
        },
        {
            "cell_type": "code",
            "execution_count": 16,
            "metadata": {},
            "outputs": [],
            "source": [
                "# 生成图形对象 fig 和 子图对象 ax，使用约束布局避免重叠\n",
                "fig, ax = plt.subplots(constrained_layout=True)\n",
                "ax.set_aspect(\"equal\")\n",
                "\n",
                "# 调用坐标系对象 ax 的 hist2d 方法，绘制分布直方图\n",
                "# 参数详见 https://www.wolai.com/matplotlib/wws2ouM2QwfkpoA3toYSqB\n",
                "h, xedges, yedges, pc = ax.hist2d(\n",
                "    x, y, bins=bins, density=True, cmap=\"coolwarm\", lw=0.05, edgecolor=\"gray\"\n",
                ")\n",
                "\n",
                "# 添加颜色条\n",
                "cbar = fig.colorbar(pc, shrink=0.72, pad=0.05)\n",
                "cbar.set_label(\"Density\", fontsize=12, fontweight=\"bold\")\n",
                "\n",
                "# 设置 x 轴和 y 轴的轴标签，加粗显示\n",
                "ax.set_xlabel(\"x\", fontweight=\"bold\")\n",
                "ax.set_ylabel(\"y\", fontweight=\"bold\")\n",
                "\n",
                "# 保存图片\n",
                "# plt.savefig('./二维直方图.png', dpi=300)\n",
                "\n",
                "# 显示图像\n",
                "plt.show()"
            ]
        }
    ],
    "metadata": {
        "kernelspec": {
            "display_name": "Python 3",
            "language": "python",
            "name": "python3"
        },
        "language_info": {
            "codemirror_mode": {
                "name": "ipython",
                "version": 3
            },
            "file_extension": ".py",
            "mimetype": "text/x-python",
            "name": "python",
            "nbconvert_exporter": "python",
            "pygments_lexer": "ipython3",
            "version": "3.13.1"
        }
    },
    "nbformat": 4,
    "nbformat_minor": 2
}

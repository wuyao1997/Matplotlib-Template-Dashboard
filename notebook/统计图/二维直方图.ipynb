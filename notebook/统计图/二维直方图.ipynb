{
    "cells": [
        {
            "cell_type": "markdown",
            "metadata": {},
            "source": [
                "# \u4e8c\u7ef4\u76f4\u65b9\u56fe\n",
                "\n",
                "> [\u66f4\u591a\u7ed8\u56fe\uff0c\u5c3d\u5728\u201cmatplotlib\u5236\u56fe\u5e08\u201d](https://www.wolai.com/matplotlib/uecbhR3MHhaZkK55za779h)\n",
                "\n",
                "## 1. \u5bfc\u5165\u76f8\u5173\u5e93"
            ]
        },
        {
            "cell_type": "code",
            "execution_count": 3,
            "metadata": {},
            "outputs": [],
            "source": [
                "# \u5bfc\u5165 matplotlib \u548c numpy \u5305\n",
                "import matplotlib.pyplot as plt\n",
                "import numpy as np"
            ]
        },
        {
            "cell_type": "markdown",
            "metadata": {},
            "source": [
                "## 2. \u51c6\u5907\u6570\u636e"
            ]
        },
        {
            "cell_type": "code",
            "execution_count": 4,
            "metadata": {},
            "outputs": [],
            "source": [
                "# \u968f\u673a\u6570\u79cd\u5b50\n",
                "np.random.seed(19680801)\n",
                "# \u6570\u636e\u70b9\u6570\u91cf\n",
                "N = 1 << 14\n",
                "\n",
                "x = np.random.randn(N)\n",
                "y = -1.0 * x + 1.5 * np.random.randn(N)\n",
                "\n",
                "# \u7528\u4e8e\u7edf\u8ba1\u6837\u672c\u5206\u5e03\u7684\u533a\u95f4\n",
                "bins = (np.linspace(-3, 3, 16), np.linspace(-3, 3, 16))"
            ]
        },
        {
            "cell_type": "markdown",
            "metadata": {},
            "source": [
                "## 3. \u8c03\u7528\u7ed8\u56feAPI"
            ]
        },
        {
            "cell_type": "code",
            "execution_count": 16,
            "metadata": {},
            "outputs": [],
            "source": [
                "# \u751f\u6210\u56fe\u5f62\u5bf9\u8c61 fig \u548c \u5b50\u56fe\u5bf9\u8c61 ax\uff0c\u4f7f\u7528\u7ea6\u675f\u5e03\u5c40\u907f\u514d\u91cd\u53e0\n",
                "fig, ax = plt.subplots(constrained_layout=True)\n",
                "ax.set_aspect(\"equal\")\n",
                "\n",
                "# \u8c03\u7528\u5750\u6807\u7cfb\u5bf9\u8c61 ax \u7684 hist2d \u65b9\u6cd5\uff0c\u7ed8\u5236\u5206\u5e03\u76f4\u65b9\u56fe\n",
                "h, xedges, yedges, pc = ax.hist2d(\n",
                "    x, y, bins=bins, density=True, cmap=\"coolwarm\", lw=0.05, edgecolor=\"gray\"\n",
                ")\n",
                "\n",
                "# \u6dfb\u52a0\u989c\u8272\u6761\n",
                "cbar = fig.colorbar(pc, shrink=0.72, pad=0.05)\n",
                "cbar.set_label(\"Density\", fontsize=12, fontweight=\"bold\")\n",
                "\n",
                "# \u8bbe\u7f6e x \u8f74\u548c y \u8f74\u7684\u8f74\u6807\u7b7e\uff0c\u52a0\u7c97\u663e\u793a\n",
                "ax.set_xlabel(\"x\", fontweight=\"bold\")\n",
                "ax.set_ylabel(\"y\", fontweight=\"bold\")\n",
                "\n",
                "# \u4fdd\u5b58\u56fe\u7247\n",
                "# plt.savefig('./\u4e8c\u7ef4\u76f4\u65b9\u56fe.png', dpi=300)\n",
                "\n",
                "# \u663e\u793a\u56fe\u50cf\n",
                "plt.show()"
            ]
        }
    ],
    "metadata": {
        "kernelspec": {
            "display_name": "Python 3",
            "language": "python",
            "name": "python3"
        },
        "language_info": {
            "codemirror_mode": {
                "name": "ipython",
                "version": 3
            },
            "file_extension": ".py",
            "mimetype": "text/x-python",
            "name": "python",
            "nbconvert_exporter": "python",
            "pygments_lexer": "ipython3",
            "version": "3.13.1"
        }
    },
    "nbformat": 4,
    "nbformat_minor": 2
}
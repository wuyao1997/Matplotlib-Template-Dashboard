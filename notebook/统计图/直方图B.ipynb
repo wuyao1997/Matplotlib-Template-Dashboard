{
    "cells": [
        {
            "cell_type": "markdown",
            "metadata": {},
            "source": [
                "# 直方图B\n",
                "\n",
                "> [更多绘图，尽在“matplotlib制图师”](https://www.wolai.com/matplotlib/uecbhR3MHhaZkK55za779h)\n",
                "\n",
                "## 1. 导入相关库"
            ]
        },
        {
            "cell_type": "code",
            "execution_count": 2,
            "metadata": {},
            "outputs": [],
            "source": [
                "# 导入 matplotlib 和 numpy 包\n",
                "import matplotlib.pyplot as plt\n",
                "import numpy as np"
            ]
        },
        {
            "cell_type": "markdown",
            "metadata": {},
            "source": [
                "## 2. 准备数据"
            ]
        },
        {
            "cell_type": "code",
            "execution_count": 7,
            "metadata": {},
            "outputs": [],
            "source": [
                "# 随机数种子\n",
                "np.random.seed(341126)\n",
                "# 数据点数量\n",
                "N = 1 << 14\n",
                "\n",
                "# 生成两个标准正态分布的随机数\n",
                "data1 = np.random.randn(N) - 1  # 第一个峰\n",
                "data2 = 1.5 * np.random.randn(N) + 0.5  # 第二个峰"
            ]
        },
        {
            "cell_type": "markdown",
            "metadata": {},
            "source": [
                "## 3. 调用绘图API"
            ]
        },
        {
            "cell_type": "code",
            "execution_count": 14,
            "metadata": {},
            "outputs": [],
            "source": [
                "# 生成图形对象 fig 和 子图对象 ax，使用约束布局避免重叠\n",
                "fig, ax = plt.subplots(constrained_layout=True)\n",
                "\n",
                "# 调用坐标系对象 ax 的 hist 方法，绘制分布直方图\n",
                "# 参数详见 https://www.wolai.com/matplotlib/nKvJ5AnignsqtTEzxnnf5G\n",
                "_ = ax.hist([data1, data2], bins=20, density=True, label=[\"Data 1\", \"Data 2\"])\n",
                "\n",
                "# 设置 x 轴和 y 轴的轴标签，加粗显示\n",
                "ax.set_xlabel(\"x (unit)\", fontweight=\"bold\")\n",
                "ax.set_ylabel(\"Density\", fontweight=\"bold\")\n",
                "\n",
                "# 设置x轴范围\n",
                "ax.set_xlim(-5, 6)\n",
                "\n",
                "# 添加图例\n",
                "ax.legend(frameon=False, loc=0, title=\"\")\n",
                "\n",
                "# 保存图片\n",
                "# plt.savefig('./直方图B.png', dpi=300)\n",
                "\n",
                "# 显示图像\n",
                "plt.show()"
            ]
        }
    ],
    "metadata": {
        "kernelspec": {
            "display_name": "Python 3",
            "language": "python",
            "name": "python3"
        },
        "language_info": {
            "codemirror_mode": {
                "name": "ipython",
                "version": 3
            },
            "file_extension": ".py",
            "mimetype": "text/x-python",
            "name": "python",
            "nbconvert_exporter": "python",
            "pygments_lexer": "ipython3",
            "version": "3.13.1"
        }
    },
    "nbformat": 4,
    "nbformat_minor": 2
}

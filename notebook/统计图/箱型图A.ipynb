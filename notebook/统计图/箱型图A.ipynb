{
    "cells": [
        {
            "cell_type": "markdown",
            "metadata": {},
            "source": [
                "# 箱型图A\n",
                "\n",
                "> [更多绘图，尽在“matplotlib制图师”](https://www.wolai.com/matplotlib/uecbhR3MHhaZkK55za779h)\n",
                "\n",
                "## 1. 导入相关库"
            ]
        },
        {
            "cell_type": "code",
            "execution_count": 16,
            "metadata": {},
            "outputs": [],
            "source": [
                "# 导入 matplotlib 和 numpy 包\n",
                "import matplotlib.pyplot as plt\n",
                "import numpy as np"
            ]
        },
        {
            "cell_type": "markdown",
            "metadata": {},
            "source": [
                "## 2. 准备数据"
            ]
        },
        {
            "cell_type": "code",
            "execution_count": 17,
            "metadata": {},
            "outputs": [],
            "source": [
                "np.random.seed(341126)\n",
                "N = 1 << 10\n",
                "\n",
                "data = np.zeros((N, 4))\n",
                "data[:, 0] = 0.75 * np.random.randn(N) + 0.5\n",
                "data[:, 1] = 2 * np.random.randn(N) - 1.0\n",
                "data[:, 2] = 1.6 * np.random.randn(N) + 1\n",
                "data[:, 3] = 1.9 * np.random.random(N) - 0.8"
            ]
        },
        {
            "cell_type": "markdown",
            "metadata": {},
            "source": [
                "## 3. 调用绘图API\n",
                "\n",
                "`boxplot`函数关键字参数：\n",
                "- `vert`：是否垂直显示，默认垂直显示\n",
                "- `notch`：是否缺口，默认无缺口\n",
                "- `sym`：异常值标识符，设置为空字符串`\"\"`时不显示异常值\n",
                "- `whis`：设置异常值范围，默认为1.5倍四分位距\n",
                "- `capwidths`：设置须的宽度\n",
                "- `patch_artist`：是否填充箱体，默认不填充\n",
                "- `boxprops`：设置箱体属性，如边框颜色`facecolor`、填充色`color`等\n",
                "- `capprops`：设置须的属性，如颜色`color`、线宽`lw`等\n",
                "- `whiskerprops`：设置竖线的属性，如颜色`color`、线宽`lw`等\n",
                "- `medianprops`：设置中位数的属性，如颜色`color`、线宽`lw`等\n",
                "- `flierprops`：设置异常值标识符的属性，如`marker`、`markeredgecolor`等，优先级低于关键字`sym`"
            ]
        },
        {
            "cell_type": "code",
            "execution_count": 18,
            "metadata": {},
            "outputs": [],
            "source": [
                "# 生成图形对象 fig 和 子图对象 ax，使用约束布局避免重叠\n",
                "fig, ax = plt.subplots(constrained_layout=True)\n",
                "\n",
                "# 调用坐标系对象 ax 的 boxplot 方法，绘制箱型图\n",
                "# 参数详见 https://www.wolai.com/matplotlib/aMXVCTTz1Kku6DbKU5Yj2s\n",
                "ax.boxplot(\n",
                "    data,\n",
                "    patch_artist=True,\n",
                "    boxprops=dict(facecolor=\"C0\", lw=1, color=\"k\"),\n",
                ")\n",
                "\n",
                "# 设置 Y轴 范围\n",
                "ax.set_ylim(-8, 8)\n",
                "\n",
                "# 设置 x 轴刻度和 y 轴签，加粗显示\n",
                "ax.set_xticklabels([\"A\", \"B\", \"C\", \"D\"])\n",
                "ax.set_ylabel(\"y (unit)\", fontweight=\"bold\")\n",
                "\n",
                "# 保存图片\n",
                "# plt.savefig('./箱型图A.png', dpi=300)\n",
                "\n",
                "# 显示图像\n",
                "plt.show()"
            ]
        }
    ],
    "metadata": {
        "kernelspec": {
            "display_name": "Python 3",
            "language": "python",
            "name": "python3"
        },
        "language_info": {
            "codemirror_mode": {
                "name": "ipython",
                "version": 3
            },
            "file_extension": ".py",
            "mimetype": "text/x-python",
            "name": "python",
            "nbconvert_exporter": "python",
            "pygments_lexer": "ipython3",
            "version": "3.13.1"
        }
    },
    "nbformat": 4,
    "nbformat_minor": 2
}

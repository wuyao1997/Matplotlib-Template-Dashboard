{
    "cells": [
        {
            "cell_type": "markdown",
            "metadata": {},
            "source": [
                "# \u5149\u987a\u5206\u5e03\u56fe\n",
                "\n",
                "> [\u66f4\u591a\u7ed8\u56fe\uff0c\u5c3d\u5728\u201cmatplotlib\u5236\u56fe\u5e08\u201d](https://www.wolai.com/matplotlib/uecbhR3MHhaZkK55za779h)\n",
                "\n",
                "## 1. \u5bfc\u5165\u76f8\u5173\u5e93"
            ]
        },
        {
            "cell_type": "code",
            "execution_count": 4,
            "metadata": {},
            "outputs": [],
            "source": [
                "# \u5bfc\u5165 matplotlib \u548c numpy \u5305\n",
                "import matplotlib.pyplot as plt\n",
                "import numpy as np\n",
                "\n",
                "# \u4ecescipy\u4e2d\u5bfc\u5165gaussian_kde\u6838\u51fd\u6570\uff0c\u7528\u4e8e\u6570\u636e\u7684\u6838\u5bc6\u5ea6\u4f30\u8ba1\n",
                "# \u5982\u679c\u6ca1\u6709\u5b89\u88c5scipy\uff0c\u53ef\u4ee5\u4f7f\u7528pip install scipy\u547d\u4ee4\u8fdb\u884c\u5b89\u88c5\n",
                "# \u4e5f\u53ef\u4ee5\u547d\u4ee4AI\u4f7f\u7528numpy\u5199\u4e00\u4e2a\u6838\u5bc6\u5ea6\u4f30\u8ba1\u51fd\u6570\n",
                "from scipy.stats import gaussian_kde"
            ]
        },
        {
            "cell_type": "markdown",
            "metadata": {},
            "source": [
                "## 2. \u51c6\u5907\u6570\u636e"
            ]
        },
        {
            "cell_type": "code",
            "execution_count": 6,
            "metadata": {},
            "outputs": [],
            "source": [
                "# \u968f\u673a\u6570\u79cd\u5b50\n",
                "np.random.seed(341126)\n",
                "# \u6570\u636e\u70b9\u6570\u91cf\n",
                "N = 1 << 18\n",
                "\n",
                "# \u751f\u6210\u4e24\u4e2a\u6807\u51c6\u6b63\u6001\u5206\u5e03\u7684\u968f\u673a\u6570\n",
                "data1 = np.random.randn(N) - 3  # \u7b2c\u4e00\u4e2a\u5cf0\n",
                "data2 = 1.5 * np.random.randn(N) + 2  # \u7b2c\u4e8c\u4e2a\u5cf0\n",
                "\n",
                "x = np.linspace(-7, 7, 100)"
            ]
        },
        {
            "cell_type": "markdown",
            "metadata": {},
            "source": [
                "## 3. \u8c03\u7528\u7ed8\u56feAPI"
            ]
        },
        {
            "cell_type": "code",
            "execution_count": 10,
            "metadata": {},
            "outputs": [],
            "source": [
                "# \u751f\u6210\u56fe\u5f62\u5bf9\u8c61 fig \u548c \u5b50\u56fe\u5bf9\u8c61 ax\uff0c\u4f7f\u7528\u7ea6\u675f\u5e03\u5c40\u907f\u514d\u91cd\u53e0\n",
                "fig, ax = plt.subplots(constrained_layout=True)\n",
                "\n",
                "for data, label in zip([data1, data2], [\"Data 1\", \"Data 2\"]):\n",
                "    kde = gaussian_kde(data)\n",
                "    # \u624b\u52a8\u8bbe\u7f6e\u6838\u5bc6\u5ea6\u4f30\u8ba1\u7684\u5e26\u5bbd\uff0c\u5e26\u5bbd\u8d8a\u5927\uff0c\u8d8a\u5149\u6ed1\uff0c\u4f46\u4e5f\u4f1a\u5931\u771f\n",
                "    kde.set_bandwidth(0.15)\n",
                "    ax.plot(x, kde.evaluate(x), label=label)\n",
                "    ax.fill_between(x, kde.evaluate(x), alpha=0.5)\n",
                "\n",
                "# \u8bbe\u7f6e X&Y\u8f74 \u8303\u56f4\n",
                "ax.set_xlim(-7, 7)\n",
                "ax.set_ylim(0, 0.42)\n",
                "\n",
                "# \u8bbe\u7f6e x \u8f74\u548c y \u8f74\u7684\u8f74\u6807\u7b7e\uff0c\u52a0\u7c97\u663e\u793a\n",
                "ax.set_xlabel(\"x (unit)\", fontweight=\"bold\")\n",
                "ax.set_ylabel(\"Density\", fontweight=\"bold\")\n",
                "\n",
                "# \u6dfb\u52a0\u56fe\u4f8b\n",
                "ax.legend(loc=0)\n",
                "\n",
                "# \u4fdd\u5b58\u56fe\u7247\n",
                "# plt.savefig('./\u5149\u987a\u5206\u5e03\u56fe.png', dpi=300)\n",
                "\n",
                "# \u663e\u793a\u56fe\u50cf\n",
                "plt.show()"
            ]
        }
    ],
    "metadata": {
        "kernelspec": {
            "display_name": "Python 3",
            "language": "python",
            "name": "python3"
        },
        "language_info": {
            "codemirror_mode": {
                "name": "ipython",
                "version": 3
            },
            "file_extension": ".py",
            "mimetype": "text/x-python",
            "name": "python",
            "nbconvert_exporter": "python",
            "pygments_lexer": "ipython3",
            "version": "3.13.1"
        }
    },
    "nbformat": 4,
    "nbformat_minor": 2
}
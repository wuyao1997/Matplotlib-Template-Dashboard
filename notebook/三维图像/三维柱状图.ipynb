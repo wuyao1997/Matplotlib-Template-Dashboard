{
    "cells": [
        {
            "cell_type": "markdown",
            "metadata": {},
            "source": [
                "# 三维柱状图\n",
                "\n",
                "> [更多绘图，尽在“matplotlib制图师”](https://www.wolai.com/matplotlib/uecbhR3MHhaZkK55za779h)\n",
                "\n",
                "## 1. 导入相关库"
            ]
        },
        {
            "cell_type": "code",
            "execution_count": 7,
            "metadata": {},
            "outputs": [],
            "source": [
                "# 导入 matplotlib 和 numpy 包\n",
                "import matplotlib.pyplot as plt\n",
                "import numpy as np"
            ]
        },
        {
            "cell_type": "markdown",
            "metadata": {},
            "source": [
                "## 2. 准备数据"
            ]
        },
        {
            "cell_type": "code",
            "execution_count": 8,
            "metadata": {},
            "outputs": [],
            "source": [
                "# 设置随机数，统计区间上的样本数量作为柱状图的高度\n",
                "np.random.seed(19680801)\n",
                "x, y = np.random.rand(2, 100) * 4\n",
                "hist, xedges, yedges = np.histogram2d(x, y, bins=4, range=[[0, 4], [0, 4]])\n",
                "\n",
                "# 构造柱子坐标\n",
                "xpos, ypos = np.meshgrid(xedges[:-1] + 0.25, yedges[:-1] + 0.25, indexing=\"ij\")\n",
                "xpos = xpos.ravel()\n",
                "ypos = ypos.ravel()\n",
                "zpos = 0\n",
                "\n",
                "# 构造柱子宽度、深度、高度\n",
                "dx = dy = 0.5 * np.ones_like(zpos)\n",
                "dz = hist.ravel()"
            ]
        },
        {
            "cell_type": "markdown",
            "metadata": {},
            "source": [
                "## 3. 调用绘图API"
            ]
        },
        {
            "cell_type": "code",
            "execution_count": 21,
            "metadata": {},
            "outputs": [],
            "source": [
                "# 创建三维坐标系对象，详见 https://www.wolai.com/matplotlib/nen32JpbcTrFbDHFmFgDnG\n",
                "fig = plt.figure(figsize=(3.5, 3), constrained_layout=True)\n",
                "ax = fig.add_subplot(projection=\"3d\")\n",
                "\n",
                "# 绘制三维柱状图，参数详见 https://www.wolai.com/matplotlib/5vnEDWerdJEezVyXnWKMY3\n",
                "ax.bar3d(xpos, ypos, zpos, dx, dy, dz)\n",
                "\n",
                "# 设置坐标轴范围\n",
                "ax.set_xlim(0, 4)\n",
                "ax.set_ylim(0, 4)\n",
                "ax.set_zlim(0, 12)\n",
                "\n",
                "# 设置坐标轴标签\n",
                "ax.set_xlabel(\"X axis\")\n",
                "ax.set_ylabel(\"Y axis\")\n",
                "ax.set_zlabel(\"Z axis\")\n",
                "\n",
                "# 调整视角，例如设置仰角为30度，方位角为-45度\n",
                "ax.view_init(elev=30, azim=-45)\n",
                "\n",
                "# 缩放坐标系以避免裁剪\n",
                "ax.set_box_aspect(aspect=None, zoom=0.75)\n",
                "\n",
                "# 保存图像\n",
                "# plt.savefig('./三维柱状图.png', dpi=300, bbox_inches='tight')\n",
                "\n",
                "# 显示图像\n",
                "plt.show()"
            ]
        }
    ],
    "metadata": {
        "kernelspec": {
            "display_name": "Python 3",
            "language": "python",
            "name": "python3"
        },
        "language_info": {
            "codemirror_mode": {
                "name": "ipython",
                "version": 3
            },
            "file_extension": ".py",
            "mimetype": "text/x-python",
            "name": "python",
            "nbconvert_exporter": "python",
            "pygments_lexer": "ipython3",
            "version": "3.13.1"
        }
    },
    "nbformat": 4,
    "nbformat_minor": 2
}

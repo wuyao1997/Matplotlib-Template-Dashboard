{
    "cells": [
        {
            "cell_type": "markdown",
            "metadata": {},
            "source": [
                "# \u4e09\u7ef4\u67f1\u72b6\u56fe\n",
                "\n",
                "> [\u66f4\u591a\u7ed8\u56fe\uff0c\u5c3d\u5728\u201cmatplotlib\u5236\u56fe\u5e08\u201d](https://www.wolai.com/matplotlib/uecbhR3MHhaZkK55za779h)\n",
                "\n",
                "## 1. \u5bfc\u5165\u76f8\u5173\u5e93"
            ]
        },
        {
            "cell_type": "code",
            "execution_count": 7,
            "metadata": {},
            "outputs": [],
            "source": [
                "# \u5bfc\u5165 matplotlib \u548c numpy \u5305\n",
                "import matplotlib.pyplot as plt\n",
                "import numpy as np"
            ]
        },
        {
            "cell_type": "markdown",
            "metadata": {},
            "source": [
                "## 2. \u51c6\u5907\u6570\u636e"
            ]
        },
        {
            "cell_type": "code",
            "execution_count": 8,
            "metadata": {},
            "outputs": [],
            "source": [
                "# \u8bbe\u7f6e\u968f\u673a\u6570\uff0c\u7edf\u8ba1\u533a\u95f4\u4e0a\u7684\u6837\u672c\u6570\u91cf\u4f5c\u4e3a\u67f1\u72b6\u56fe\u7684\u9ad8\u5ea6\n",
                "np.random.seed(19680801)\n",
                "x, y = np.random.rand(2, 100) * 4\n",
                "hist, xedges, yedges = np.histogram2d(x, y, bins=4, range=[[0, 4], [0, 4]])\n",
                "\n",
                "# \u6784\u9020\u67f1\u5b50\u5750\u6807\n",
                "xpos, ypos = np.meshgrid(xedges[:-1] + 0.25, yedges[:-1] + 0.25, indexing=\"ij\")\n",
                "xpos = xpos.ravel()\n",
                "ypos = ypos.ravel()\n",
                "zpos = 0\n",
                "\n",
                "# \u6784\u9020\u67f1\u5b50\u5bbd\u5ea6\u3001\u6df1\u5ea6\u3001\u9ad8\u5ea6\n",
                "dx = dy = 0.5 * np.ones_like(zpos)\n",
                "dz = hist.ravel()"
            ]
        },
        {
            "cell_type": "markdown",
            "metadata": {},
            "source": [
                "## 3. \u8c03\u7528\u7ed8\u56feAPI"
            ]
        },
        {
            "cell_type": "code",
            "execution_count": 21,
            "metadata": {},
            "outputs": [],
            "source": [
                "fig = plt.figure(figsize=(3.5, 3), constrained_layout=True)\n",
                "\n",
                "# \u521b\u5efa\u4e09\u7ef4\u5750\u6807\u7cfb\u5bf9\u8c61\n",
                "ax = fig.add_subplot(projection=\"3d\")\n",
                "\n",
                "# \u7ed8\u5236\u4e09\u7ef4\u67f1\u72b6\u56fe\n",
                "ax.bar3d(xpos, ypos, zpos, dx, dy, dz)\n",
                "\n",
                "# \u8bbe\u7f6e\u5750\u6807\u8f74\u8303\u56f4\n",
                "ax.set_xlim(0, 4)\n",
                "ax.set_ylim(0, 4)\n",
                "ax.set_zlim(0, 12)\n",
                "\n",
                "# \u8bbe\u7f6e\u5750\u6807\u8f74\u6807\u7b7e\n",
                "ax.set_xlabel(\"X axis\")\n",
                "ax.set_ylabel(\"Y axis\")\n",
                "ax.set_zlabel(\"Z axis\")\n",
                "\n",
                "# \u8c03\u6574\u89c6\u89d2\uff0c\u4f8b\u5982\u8bbe\u7f6e\u4ef0\u89d2\u4e3a30\u5ea6\uff0c\u65b9\u4f4d\u89d2\u4e3a-45\u5ea6\n",
                "ax.view_init(elev=30, azim=-45)\n",
                "\n",
                "# \u7f29\u653e\u5750\u6807\u7cfb\u4ee5\u907f\u514d\u88c1\u526a\n",
                "ax.set_box_aspect(aspect=None, zoom=0.75)\n",
                "\n",
                "# \u4fdd\u5b58\u56fe\u50cf\n",
                "# plt.savefig('./\u4e09\u7ef4\u67f1\u72b6\u56fe.png', dpi=300, bbox_inches='tight')\n",
                "\n",
                "# \u663e\u793a\u56fe\u50cf\n",
                "plt.show()"
            ]
        }
    ],
    "metadata": {
        "kernelspec": {
            "display_name": "Python 3",
            "language": "python",
            "name": "python3"
        },
        "language_info": {
            "codemirror_mode": {
                "name": "ipython",
                "version": 3
            },
            "file_extension": ".py",
            "mimetype": "text/x-python",
            "name": "python",
            "nbconvert_exporter": "python",
            "pygments_lexer": "ipython3",
            "version": "3.13.1"
        }
    },
    "nbformat": 4,
    "nbformat_minor": 2
}
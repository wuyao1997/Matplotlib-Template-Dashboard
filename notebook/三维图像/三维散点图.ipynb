{
    "cells": [
        {
            "cell_type": "markdown",
            "metadata": {},
            "source": [
                "# 三维散点图\n",
                "\n",
                "> [更多绘图，尽在“matplotlib制图师”](https://www.wolai.com/matplotlib/uecbhR3MHhaZkK55za779h)\n",
                "\n",
                "## 1. 导入相关库"
            ]
        },
        {
            "cell_type": "code",
            "execution_count": 1,
            "metadata": {},
            "outputs": [],
            "source": [
                "# 导入 matplotlib 和 numpy 包\n",
                "import matplotlib.pyplot as plt\n",
                "import numpy as np"
            ]
        },
        {
            "cell_type": "markdown",
            "metadata": {},
            "source": [
                "## 2. 准备数据"
            ]
        },
        {
            "cell_type": "code",
            "execution_count": 11,
            "metadata": {},
            "outputs": [],
            "source": [
                "np.random.seed(19680801)\n",
                "\n",
                "N = 1 << 5\n",
                "\n",
                "x = 8 * np.random.rand(N) + 12\n",
                "y = 50 * np.random.rand(N)\n",
                "z = 20 * np.random.rand(N) - 40\n",
                "\n",
                "u = 6 * np.random.rand(N) + 15\n",
                "v = 40 * np.random.rand(N) + 5\n",
                "w = 20 * np.random.rand(N) - 5"
            ]
        },
        {
            "cell_type": "markdown",
            "metadata": {},
            "source": [
                "## 3. 调用绘图API"
            ]
        },
        {
            "cell_type": "code",
            "execution_count": 21,
            "metadata": {},
            "outputs": [],
            "source": [
                "# 创建三维坐标系对象，详见 https://www.wolai.com/matplotlib/nen32JpbcTrFbDHFmFgDnG\n",
                "fig = plt.figure(figsize=(3.5, 3), constrained_layout=True)\n",
                "\n",
                "# 创建三维坐标系对象\n",
                "ax = fig.add_subplot(projection=\"3d\")\n",
                "\n",
                "# 绘制三维散点，详见 https://www.wolai.com/matplotlib/v2DohzoiTWbr3jxPr52X81\n",
                "ax.scatter(x, y, z, marker=\"o\", s=18)\n",
                "ax.scatter(u, v, w, marker=\"^\", s=18)\n",
                "\n",
                "# 设置坐标轴范围\n",
                "ax.set_xlim(10, 22)\n",
                "ax.set_ylim(0, 50)\n",
                "ax.set_zlim(-50, 10)\n",
                "ax.set_xticks([10, 15, 20])\n",
                "ax.set_yticks([0, 20, 40])\n",
                "ax.set_zticks([-40, -20, 0])\n",
                "\n",
                "# 设置坐标轴标签\n",
                "ax.set_xlabel(\"X Label\")\n",
                "ax.set_ylabel(\"Y Label\")\n",
                "ax.set_zlabel(\"Z Label\", labelpad=-136)\n",
                "\n",
                "ax.set_box_aspect(aspect=None, zoom=0.9)\n",
                "\n",
                "# 调整视角，例如设置仰角为30度，方位角为-45度\n",
                "ax.view_init(elev=30, azim=-45)\n",
                "\n",
                "# 保存图片\n",
                "# plt.savefig('./三维散点图.png', dpi=300)\n",
                "\n",
                "# 显示图像\n",
                "plt.show()"
            ]
        }
    ],
    "metadata": {
        "kernelspec": {
            "display_name": "Python 3",
            "language": "python",
            "name": "python3"
        },
        "language_info": {
            "codemirror_mode": {
                "name": "ipython",
                "version": 3
            },
            "file_extension": ".py",
            "mimetype": "text/x-python",
            "name": "python",
            "nbconvert_exporter": "python",
            "pygments_lexer": "ipython3",
            "version": "3.13.1"
        }
    },
    "nbformat": 4,
    "nbformat_minor": 2
}

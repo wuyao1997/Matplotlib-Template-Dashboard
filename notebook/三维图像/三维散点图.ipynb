{
    "cells": [
        {
            "cell_type": "markdown",
            "metadata": {},
            "source": [
                "# \u4e09\u7ef4\u6563\u70b9\u56fe\n",
                "\n",
                "> [\u66f4\u591a\u7ed8\u56fe\uff0c\u5c3d\u5728\u201cmatplotlib\u5236\u56fe\u5e08\u201d](https://www.wolai.com/matplotlib/uecbhR3MHhaZkK55za779h)\n",
                "\n",
                "## 1. \u5bfc\u5165\u76f8\u5173\u5e93"
            ]
        },
        {
            "cell_type": "code",
            "execution_count": 1,
            "metadata": {},
            "outputs": [],
            "source": [
                "# \u5bfc\u5165 matplotlib \u548c numpy \u5305\n",
                "import matplotlib.pyplot as plt\n",
                "import numpy as np"
            ]
        },
        {
            "cell_type": "markdown",
            "metadata": {},
            "source": [
                "## 2. \u51c6\u5907\u6570\u636e"
            ]
        },
        {
            "cell_type": "code",
            "execution_count": 11,
            "metadata": {},
            "outputs": [],
            "source": [
                "np.random.seed(19680801)\n",
                "\n",
                "N = 1 << 5\n",
                "\n",
                "x = 8 * np.random.rand(N) + 12\n",
                "y = 50 * np.random.rand(N)\n",
                "z = 20 * np.random.rand(N) - 40\n",
                "\n",
                "u = 6 * np.random.rand(N) + 15\n",
                "v = 40 * np.random.rand(N) + 5\n",
                "w = 20 * np.random.rand(N) - 5"
            ]
        },
        {
            "cell_type": "markdown",
            "metadata": {},
            "source": [
                "## 3. \u8c03\u7528\u7ed8\u56feAPI"
            ]
        },
        {
            "cell_type": "code",
            "execution_count": 21,
            "metadata": {},
            "outputs": [],
            "source": [
                "fig = plt.figure(figsize=(3.5, 3), constrained_layout=True)\n",
                "\n",
                "# \u521b\u5efa\u4e09\u7ef4\u5750\u6807\u7cfb\u5bf9\u8c61\n",
                "ax = fig.add_subplot(projection=\"3d\")\n",
                "\n",
                "# \u7ed8\u5236\u4e09\u7ef4\u6563\u70b9\n",
                "ax.scatter(x, y, z, marker=\"o\", s=18)\n",
                "ax.scatter(u, v, w, marker=\"^\", s=18)\n",
                "\n",
                "# \u8bbe\u7f6e\u5750\u6807\u8f74\u8303\u56f4\n",
                "ax.set_xlim(10, 22)\n",
                "ax.set_ylim(0, 50)\n",
                "ax.set_zlim(-50, 10)\n",
                "ax.set_xticks([10, 15, 20])\n",
                "ax.set_yticks([0, 20, 40])\n",
                "ax.set_zticks([-40, -20, 0])\n",
                "\n",
                "# \u8bbe\u7f6e\u5750\u6807\u8f74\u6807\u7b7e\n",
                "ax.set_xlabel(\"X Label\")\n",
                "ax.set_ylabel(\"Y Label\")\n",
                "ax.set_zlabel(\"Z Label\", labelpad=-136)\n",
                "\n",
                "ax.set_box_aspect(aspect=None, zoom=0.9)\n",
                "\n",
                "# \u8c03\u6574\u89c6\u89d2\uff0c\u4f8b\u5982\u8bbe\u7f6e\u4ef0\u89d2\u4e3a30\u5ea6\uff0c\u65b9\u4f4d\u89d2\u4e3a-45\u5ea6\n",
                "ax.view_init(elev=30, azim=-45)\n",
                "\n",
                "# \u4fdd\u5b58\u56fe\u7247\n",
                "# plt.savefig('./\u4e09\u7ef4\u6563\u70b9\u56fe.png', dpi=300)\n",
                "\n",
                "# \u663e\u793a\u56fe\u50cf\n",
                "plt.show()"
            ]
        }
    ],
    "metadata": {
        "kernelspec": {
            "display_name": "Python 3",
            "language": "python",
            "name": "python3"
        },
        "language_info": {
            "codemirror_mode": {
                "name": "ipython",
                "version": 3
            },
            "file_extension": ".py",
            "mimetype": "text/x-python",
            "name": "python",
            "nbconvert_exporter": "python",
            "pygments_lexer": "ipython3",
            "version": "3.13.1"
        }
    },
    "nbformat": 4,
    "nbformat_minor": 2
}
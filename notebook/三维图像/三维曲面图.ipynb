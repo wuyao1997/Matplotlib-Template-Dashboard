{
    "cells": [
        {
            "cell_type": "markdown",
            "metadata": {},
            "source": [
                "# \u4e09\u7ef4\u66f2\u9762\u56fe\n",
                "\n",
                "> [\u66f4\u591a\u7ed8\u56fe\uff0c\u5c3d\u5728\u201cmatplotlib\u5236\u56fe\u5e08\u201d](https://www.wolai.com/matplotlib/uecbhR3MHhaZkK55za779h)\n",
                "\n",
                "## 1. \u5bfc\u5165\u76f8\u5173\u5e93"
            ]
        },
        {
            "cell_type": "code",
            "execution_count": 1,
            "metadata": {},
            "outputs": [],
            "source": [
                "# \u5bfc\u5165 matplotlib \u548c numpy \u5305\n",
                "import matplotlib.pyplot as plt\n",
                "import numpy as np"
            ]
        },
        {
            "cell_type": "markdown",
            "metadata": {},
            "source": [
                "## 2. \u51c6\u5907\u6570\u636e"
            ]
        },
        {
            "cell_type": "code",
            "execution_count": 7,
            "metadata": {},
            "outputs": [],
            "source": [
                "X = np.linspace(-5, 5, 200)\n",
                "Y = np.linspace(-5, 5, 200)\n",
                "X, Y = np.meshgrid(X, Y)\n",
                "R = np.sqrt(X**2 + Y**2)\n",
                "Z = np.sin(R)"
            ]
        },
        {
            "cell_type": "markdown",
            "metadata": {},
            "source": [
                "## 3. \u8c03\u7528\u7ed8\u56feAPI"
            ]
        },
        {
            "cell_type": "code",
            "execution_count": null,
            "metadata": {},
            "outputs": [],
            "source": [
                "# \u521b\u5efa\u4e09\u7ef4\u5750\u6807\u7cfb\u5bf9\u8c61\n",
                "fig, ax = plt.subplots(figsize=(4, 3), subplot_kw={\"projection\": \"3d\"})\n",
                "\n",
                "# \u7ed8\u5236\u4e09\u7ef4\u66f2\u9762\n",
                "surf = ax.plot_surface(\n",
                "    X, Y, Z, cmap=\"coolwarm\", vmax=1, vmin=-1, linewidth=0, antialiased=False\n",
                ")\n",
                "\n",
                "# \u8bbe\u7f6e\u5750\u6807\u8f74\u8303\u56f4\n",
                "ax.set_zlim(-1.2, 1.2)\n",
                "\n",
                "# \u6dfb\u52a0\u989c\u8272\u6761\n",
                "fig.colorbar(surf, shrink=0.75, aspect=12, pad=0.12)\n",
                "\n",
                "# \u4fdd\u5b58\u56fe\u7247\n",
                "# plt.savefig('./\u4e09\u7ef4\u66f2\u9762\u56fe.png', dpi=300, bbox_inches='tight')\n",
                "\n",
                "# \u663e\u793a\u56fe\u50cf\n",
                "plt.show()"
            ]
        }
    ],
    "metadata": {
        "kernelspec": {
            "display_name": "Python 3",
            "language": "python",
            "name": "python3"
        },
        "language_info": {
            "codemirror_mode": {
                "name": "ipython",
                "version": 3
            },
            "file_extension": ".py",
            "mimetype": "text/x-python",
            "name": "python",
            "nbconvert_exporter": "python",
            "pygments_lexer": "ipython3",
            "version": "3.13.1"
        }
    },
    "nbformat": 4,
    "nbformat_minor": 2
}
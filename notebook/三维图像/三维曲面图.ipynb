{
    "cells": [
        {
            "cell_type": "markdown",
            "metadata": {},
            "source": [
                "# 三维曲面图\n",
                "\n",
                "> [更多绘图，尽在“matplotlib制图师”](https://www.wolai.com/matplotlib/uecbhR3MHhaZkK55za779h)\n",
                "\n",
                "## 1. 导入相关库"
            ]
        },
        {
            "cell_type": "code",
            "execution_count": 1,
            "metadata": {},
            "outputs": [],
            "source": [
                "# 导入 matplotlib 和 numpy 包\n",
                "import matplotlib.pyplot as plt\n",
                "import numpy as np"
            ]
        },
        {
            "cell_type": "markdown",
            "metadata": {},
            "source": [
                "## 2. 准备数据"
            ]
        },
        {
            "cell_type": "code",
            "execution_count": 7,
            "metadata": {},
            "outputs": [],
            "source": [
                "X = np.linspace(-5, 5, 200)\n",
                "Y = np.linspace(-5, 5, 200)\n",
                "X, Y = np.meshgrid(X, Y)\n",
                "R = np.sqrt(X**2 + Y**2)\n",
                "Z = np.sin(R)"
            ]
        },
        {
            "cell_type": "markdown",
            "metadata": {},
            "source": [
                "## 3. 调用绘图API"
            ]
        },
        {
            "cell_type": "code",
            "execution_count": null,
            "metadata": {},
            "outputs": [],
            "source": [
                "# 创建三维坐标系对象，详见 https://www.wolai.com/matplotlib/nen32JpbcTrFbDHFmFgDnG\n",
                "fig, ax = plt.subplots(figsize=(4, 3), subplot_kw={\"projection\": \"3d\"})\n",
                "\n",
                "# 绘制三维曲面，详见 https://www.wolai.com/matplotlib/rmyHoDr7xspWq2iHWHjkct\n",
                "surf = ax.plot_surface(\n",
                "    X, Y, Z, cmap=\"coolwarm\", vmax=1, vmin=-1, linewidth=0, antialiased=False\n",
                ")\n",
                "\n",
                "# 设置坐标轴范围\n",
                "ax.set_zlim(-1.2, 1.2)\n",
                "\n",
                "# 添加颜色条\n",
                "fig.colorbar(surf, shrink=0.75, aspect=12, pad=0.12)\n",
                "\n",
                "# 保存图片\n",
                "# plt.savefig('./三维曲面图.png', dpi=300, bbox_inches='tight')\n",
                "\n",
                "# 显示图像\n",
                "plt.show()"
            ]
        }
    ],
    "metadata": {
        "kernelspec": {
            "display_name": "Python 3",
            "language": "python",
            "name": "python3"
        },
        "language_info": {
            "codemirror_mode": {
                "name": "ipython",
                "version": 3
            },
            "file_extension": ".py",
            "mimetype": "text/x-python",
            "name": "python",
            "nbconvert_exporter": "python",
            "pygments_lexer": "ipython3",
            "version": "3.13.1"
        }
    },
    "nbformat": 4,
    "nbformat_minor": 2
}

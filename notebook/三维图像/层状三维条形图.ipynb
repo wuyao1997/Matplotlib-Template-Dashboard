{
    "cells": [
        {
            "cell_type": "markdown",
            "metadata": {},
            "source": [
                "# 层状三维条形图\n",
                "\n",
                "> [更多绘图，尽在“matplotlib制图师”](https://www.wolai.com/matplotlib/uecbhR3MHhaZkK55za779h)\n",
                "\n",
                "## 1. 导入相关库"
            ]
        },
        {
            "cell_type": "code",
            "execution_count": 31,
            "metadata": {},
            "outputs": [],
            "source": [
                "# 导入 matplotlib 和 numpy 包\n",
                "import matplotlib.pyplot as plt\n",
                "import numpy as np"
            ]
        },
        {
            "cell_type": "markdown",
            "metadata": {},
            "source": [
                "## 2. 准备数据"
            ]
        },
        {
            "cell_type": "code",
            "execution_count": 35,
            "metadata": {},
            "outputs": [],
            "source": [
                "# Fixing random state for reproducibility\n",
                "np.random.seed(19680801)\n",
                "\n",
                "N = 20\n",
                "x = np.arange(N)\n",
                "\n",
                "colors = [\"C0\", \"C1\", \"C2\", \"C3\"]\n",
                "yticks = [3, 2, 1, 0]"
            ]
        },
        {
            "cell_type": "markdown",
            "metadata": {},
            "source": [
                "## 3. 调用绘图API"
            ]
        },
        {
            "cell_type": "code",
            "execution_count": null,
            "metadata": {},
            "outputs": [],
            "source": [
                "# 创建三维坐标系对象，详见 https://www.wolai.com/matplotlib/nen32JpbcTrFbDHFmFgDnG\n",
                "fig = plt.figure(figsize=(5, 3))\n",
                "ax = fig.add_subplot(projection=\"3d\")\n",
                "\n",
                "for c, k in zip(colors, yticks):\n",
                "    # Generate the random data for the y=k 'layer'.\n",
                "    xs = np.arange(20)\n",
                "    ys = np.random.rand(20)\n",
                "\n",
                "    # 绘制三维条形图，详见 https://www.wolai.com/matplotlib/5vnEDWerdJEezVyXnWKMY3\n",
                "    ax.bar(xs, ys, zs=k, zdir=\"y\", color=c, alpha=0.8)\n",
                "\n",
                "# 设置坐标轴范围\n",
                "ax.set_xlim(0, 20)\n",
                "ax.set_ylim(0, 3)\n",
                "ax.set_zlim(0, 1)\n",
                "ax.set_yticks(yticks)\n",
                "ax.set_zticks([0.25, 0.5, 0.75, 1])\n",
                "\n",
                "# 设置坐标轴标签\n",
                "ax.set_xlabel(\"X\")\n",
                "ax.set_ylabel(\"Y\")\n",
                "ax.set_zlabel(\"Z\")\n",
                "\n",
                "# ax.set_box_aspect(aspect=None, zoom=0.6)\n",
                "\n",
                "# 调整视角，例如设置仰角为30度，方位角为-45度\n",
                "# ax.view_init(elev=30, azim=-45)\n",
                "\n",
                "# plt.savefig('./层状三维条形图.png', dpi=300)\n",
                "\n",
                "plt.show()"
            ]
        }
    ],
    "metadata": {
        "kernelspec": {
            "display_name": "Python 3",
            "language": "python",
            "name": "python3"
        },
        "language_info": {
            "codemirror_mode": {
                "name": "ipython",
                "version": 3
            },
            "file_extension": ".py",
            "mimetype": "text/x-python",
            "name": "python",
            "nbconvert_exporter": "python",
            "pygments_lexer": "ipython3",
            "version": "3.13.1"
        }
    },
    "nbformat": 4,
    "nbformat_minor": 2
}

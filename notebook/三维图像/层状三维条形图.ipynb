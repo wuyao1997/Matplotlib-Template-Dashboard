{
    "cells": [
        {
            "cell_type": "markdown",
            "metadata": {},
            "source": [
                "# \u5c42\u72b6\u4e09\u7ef4\u6761\u5f62\u56fe\n",
                "\n",
                "> [\u66f4\u591a\u7ed8\u56fe\uff0c\u5c3d\u5728\u201cmatplotlib\u5236\u56fe\u5e08\u201d](https://www.wolai.com/matplotlib/uecbhR3MHhaZkK55za779h)\n",
                "\n",
                "## 1. \u5bfc\u5165\u76f8\u5173\u5e93"
            ]
        },
        {
            "cell_type": "code",
            "execution_count": 31,
            "metadata": {},
            "outputs": [],
            "source": [
                "# \u5bfc\u5165 matplotlib \u548c numpy \u5305\n",
                "import matplotlib.pyplot as plt\n",
                "import numpy as np"
            ]
        },
        {
            "cell_type": "markdown",
            "metadata": {},
            "source": [
                "## 2. \u51c6\u5907\u6570\u636e"
            ]
        },
        {
            "cell_type": "code",
            "execution_count": 35,
            "metadata": {},
            "outputs": [],
            "source": [
                "# Fixing random state for reproducibility\n",
                "np.random.seed(19680801)\n",
                "\n",
                "N = 20\n",
                "x = np.arange(N)\n",
                "\n",
                "colors = [\"C0\", \"C1\", \"C2\", \"C3\"]\n",
                "yticks = [3, 2, 1, 0]"
            ]
        },
        {
            "cell_type": "markdown",
            "metadata": {},
            "source": [
                "## 3. \u8c03\u7528\u7ed8\u56feAPI"
            ]
        },
        {
            "cell_type": "code",
            "execution_count": null,
            "metadata": {},
            "outputs": [],
            "source": [
                "fig = plt.figure(figsize=(5, 3))\n",
                "\n",
                "# \u521b\u5efa\u4e09\u7ef4\u5750\u6807\u7cfb\u5bf9\u8c61\n",
                "ax = fig.add_subplot(projection=\"3d\")\n",
                "\n",
                "for c, k in zip(colors, yticks):\n",
                "    # Generate the random data for the y=k 'layer'.\n",
                "    xs = np.arange(20)\n",
                "    ys = np.random.rand(20)\n",
                "\n",
                "    # \u7ed8\u5236\u4e09\u7ef4\u6761\u5f62\u56fe\n",
                "    ax.bar(xs, ys, zs=k, zdir=\"y\", color=c, alpha=0.8)\n",
                "\n",
                "# \u8bbe\u7f6e\u5750\u6807\u8f74\u8303\u56f4\n",
                "ax.set_xlim(0, 20)\n",
                "ax.set_ylim(0, 3)\n",
                "ax.set_zlim(0, 1)\n",
                "ax.set_yticks(yticks)\n",
                "ax.set_zticks([0.25, 0.5, 0.75, 1])\n",
                "\n",
                "# \u8bbe\u7f6e\u5750\u6807\u8f74\u6807\u7b7e\n",
                "ax.set_xlabel(\"X\")\n",
                "ax.set_ylabel(\"Y\")\n",
                "ax.set_zlabel(\"Z\")\n",
                "\n",
                "# ax.set_box_aspect(aspect=None, zoom=0.6)\n",
                "\n",
                "# \u8c03\u6574\u89c6\u89d2\uff0c\u4f8b\u5982\u8bbe\u7f6e\u4ef0\u89d2\u4e3a30\u5ea6\uff0c\u65b9\u4f4d\u89d2\u4e3a-45\u5ea6\n",
                "# ax.view_init(elev=30, azim=-45)\n",
                "\n",
                "# plt.savefig('./\u5c42\u72b6\u4e09\u7ef4\u6761\u5f62\u56fe.png', dpi=300)\n",
                "\n",
                "plt.show()"
            ]
        }
    ],
    "metadata": {
        "kernelspec": {
            "display_name": "Python 3",
            "language": "python",
            "name": "python3"
        },
        "language_info": {
            "codemirror_mode": {
                "name": "ipython",
                "version": 3
            },
            "file_extension": ".py",
            "mimetype": "text/x-python",
            "name": "python",
            "nbconvert_exporter": "python",
            "pygments_lexer": "ipython3",
            "version": "3.13.1"
        }
    },
    "nbformat": 4,
    "nbformat_minor": 2
}
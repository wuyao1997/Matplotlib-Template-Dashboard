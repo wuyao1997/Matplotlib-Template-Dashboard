{
    "cells": [
        {
            "cell_type": "markdown",
            "metadata": {},
            "source": [
                "# 三维填充曲线\n",
                "\n",
                "> [更多绘图，尽在“matplotlib制图师”](https://www.wolai.com/matplotlib/uecbhR3MHhaZkK55za779h)\n",
                "\n",
                "- 参考[官网例子](https://matplotlib.org/stable/gallery/mplot3d/fillunder3d.html)修改\n",
                "\n",
                "## 1. 导入相关库"
            ]
        },
        {
            "cell_type": "code",
            "execution_count": 2,
            "metadata": {},
            "outputs": [],
            "source": [
                "# 导入 matplotlib 和 numpy 包\n",
                "import matplotlib.pyplot as plt\n",
                "import numpy as np\n",
                "\n",
                "import math\n",
                "from matplotlib.collections import PolyCollection"
            ]
        },
        {
            "cell_type": "markdown",
            "metadata": {},
            "source": [
                "## 2. 准备数据"
            ]
        },
        {
            "cell_type": "code",
            "execution_count": 7,
            "metadata": {},
            "outputs": [],
            "source": [
                "# 设置随机种子\n",
                "np.random.seed(19680801)\n",
                "\n",
                "\n",
                "def polygon_under_graph(x, y):\n",
                "    \"\"\"\n",
                "    Construct the vertex list which defines the polygon filling the space under\n",
                "    the (x, y) line graph. This assumes x is in ascending order.\n",
                "    \"\"\"\n",
                "    return [(x[0], 0.0), *zip(x, y), (x[-1], 0.0)]\n",
                "\n",
                "\n",
                "x = np.linspace(0.0, 10.0, 31)\n",
                "lambdas = range(1, 9)\n",
                "gamma = np.vectorize(math.gamma)\n",
                "verts = [polygon_under_graph(x, l**x * np.exp(-l) / gamma(x + 1)) for l in lambdas]\n",
                "facecolors = plt.colormaps[\"coolwarm_r\"](np.linspace(0, 1, len(verts)))"
            ]
        },
        {
            "cell_type": "markdown",
            "metadata": {},
            "source": [
                "## 3. 调用绘图API"
            ]
        },
        {
            "cell_type": "code",
            "execution_count": 8,
            "metadata": {},
            "outputs": [],
            "source": [
                "# 创建三维坐标系对象，详见 https://www.wolai.com/matplotlib/nen32JpbcTrFbDHFmFgDnG\n",
                "fig = plt.figure(figsize=(3.5, 3))\n",
                "ax = fig.add_subplot(projection=\"3d\")\n",
                "\n",
                "# 3.10.0版本的fill_between函数已经支持3D坐标系，可以直接使用，而不需要像下面这样手动构造\n",
                "poly = PolyCollection(verts, facecolors=facecolors, alpha=0.7)\n",
                "ax.add_collection3d(poly, zs=lambdas, zdir=\"y\")\n",
                "\n",
                "ax.set(\n",
                "    xlim=(0, 10),\n",
                "    ylim=(1, 9),\n",
                "    zlim=(0, 0.35),\n",
                "    xlabel=\"x\",\n",
                "    ylabel=r\"$\\lambda$\",\n",
                "    zlabel=\"probability\",\n",
                ")\n",
                "\n",
                "ax.set_box_aspect(aspect=None, zoom=0.9)\n",
                "\n",
                "# 调整视角，例如设置仰角为30度，方位角为-45度\n",
                "ax.view_init(elev=30, azim=-45)\n",
                "\n",
                "# 保存图片\n",
                "# plt.savefig('./三维填充曲线.png', dpi=300, bbox_inches='tight')\n",
                "\n",
                "# 显示图像\n",
                "plt.show()"
            ]
        }
    ],
    "metadata": {
        "kernelspec": {
            "display_name": "Python 3",
            "language": "python",
            "name": "python3"
        },
        "language_info": {
            "codemirror_mode": {
                "name": "ipython",
                "version": 3
            },
            "file_extension": ".py",
            "mimetype": "text/x-python",
            "name": "python",
            "nbconvert_exporter": "python",
            "pygments_lexer": "ipython3",
            "version": "3.13.1"
        }
    },
    "nbformat": 4,
    "nbformat_minor": 2
}

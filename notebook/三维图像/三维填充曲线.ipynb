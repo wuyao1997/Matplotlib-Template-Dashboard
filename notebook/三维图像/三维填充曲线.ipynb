{
    "cells": [
        {
            "cell_type": "markdown",
            "metadata": {},
            "source": [
                "# \u4e09\u7ef4\u586b\u5145\u66f2\u7ebf\n",
                "\n",
                "> [\u66f4\u591a\u7ed8\u56fe\uff0c\u5c3d\u5728\u201cmatplotlib\u5236\u56fe\u5e08\u201d](https://www.wolai.com/matplotlib/uecbhR3MHhaZkK55za779h)\n",
                "\n",
                "- \u53c2\u8003[\u5b98\u7f51\u4f8b\u5b50](https://matplotlib.org/stable/gallery/mplot3d/fillunder3d.html)\u4fee\u6539\n",
                "\n",
                "## 1. \u5bfc\u5165\u76f8\u5173\u5e93"
            ]
        },
        {
            "cell_type": "code",
            "execution_count": 2,
            "metadata": {},
            "outputs": [],
            "source": [
                "# \u5bfc\u5165 matplotlib \u548c numpy \u5305\n",
                "import matplotlib.pyplot as plt\n",
                "import numpy as np\n",
                "\n",
                "import math\n",
                "from matplotlib.collections import PolyCollection"
            ]
        },
        {
            "cell_type": "markdown",
            "metadata": {},
            "source": [
                "## 2. \u51c6\u5907\u6570\u636e"
            ]
        },
        {
            "cell_type": "code",
            "execution_count": 7,
            "metadata": {},
            "outputs": [],
            "source": [
                "# \u8bbe\u7f6e\u968f\u673a\u79cd\u5b50\n",
                "np.random.seed(19680801)\n",
                "\n",
                "\n",
                "def polygon_under_graph(x, y):\n",
                "    \"\"\"\n",
                "    Construct the vertex list which defines the polygon filling the space under\n",
                "    the (x, y) line graph. This assumes x is in ascending order.\n",
                "    \"\"\"\n",
                "    return [(x[0], 0.0), *zip(x, y), (x[-1], 0.0)]\n",
                "\n",
                "\n",
                "x = np.linspace(0.0, 10.0, 31)\n",
                "lambdas = range(1, 9)\n",
                "gamma = np.vectorize(math.gamma)\n",
                "verts = [polygon_under_graph(x, l**x * np.exp(-l) / gamma(x + 1)) for l in lambdas]\n",
                "facecolors = plt.colormaps[\"coolwarm_r\"](np.linspace(0, 1, len(verts)))"
            ]
        },
        {
            "cell_type": "markdown",
            "metadata": {},
            "source": [
                "## 3. \u8c03\u7528\u7ed8\u56feAPI\n",
                "\n",
                "> 3.10.0\u7248\u672c\u7684fill_between\u51fd\u6570\u5df2\u7ecf\u652f\u63013D\u5750\u6807\u7cfb\uff0c\u53ef\u4ee5\u76f4\u63a5\u4f7f\u7528\uff0c\u800c\u4e0d\u9700\u8981\u50cf\u4e0b\u9762\u8fd9\u6837\u624b\u52a8\u6784\u9020"
            ]
        },
        {
            "cell_type": "code",
            "execution_count": 8,
            "metadata": {},
            "outputs": [],
            "source": [
                "fig = plt.figure(figsize=(3.5, 3))\n",
                "ax = fig.add_subplot(projection=\"3d\")\n",
                "\n",
                "\n",
                "poly = PolyCollection(verts, facecolors=facecolors, alpha=0.7)\n",
                "ax.add_collection3d(poly, zs=lambdas, zdir=\"y\")\n",
                "\n",
                "ax.set(\n",
                "    xlim=(0, 10),\n",
                "    ylim=(1, 9),\n",
                "    zlim=(0, 0.35),\n",
                "    xlabel=\"x\",\n",
                "    ylabel=r\"$\\lambda$\",\n",
                "    zlabel=\"probability\",\n",
                ")\n",
                "\n",
                "ax.set_box_aspect(aspect=None, zoom=0.9)\n",
                "\n",
                "# \u8c03\u6574\u89c6\u89d2\uff0c\u4f8b\u5982\u8bbe\u7f6e\u4ef0\u89d2\u4e3a30\u5ea6\uff0c\u65b9\u4f4d\u89d2\u4e3a-45\u5ea6\n",
                "ax.view_init(elev=30, azim=-45)\n",
                "\n",
                "# \u4fdd\u5b58\u56fe\u7247\n",
                "# plt.savefig('./\u4e09\u7ef4\u586b\u5145\u66f2\u7ebf.png', dpi=300, bbox_inches='tight')\n",
                "\n",
                "# \u663e\u793a\u56fe\u50cf\n",
                "plt.show()"
            ]
        }
    ],
    "metadata": {
        "kernelspec": {
            "display_name": "Python 3",
            "language": "python",
            "name": "python3"
        },
        "language_info": {
            "codemirror_mode": {
                "name": "ipython",
                "version": 3
            },
            "file_extension": ".py",
            "mimetype": "text/x-python",
            "name": "python",
            "nbconvert_exporter": "python",
            "pygments_lexer": "ipython3",
            "version": "3.13.1"
        }
    },
    "nbformat": 4,
    "nbformat_minor": 2
}
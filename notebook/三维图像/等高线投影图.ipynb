{
    "cells": [
        {
            "cell_type": "markdown",
            "metadata": {},
            "source": [
                "# 等高线投影图\n",
                "\n",
                "> [更多绘图，尽在“matplotlib制图师”](https://www.wolai.com/matplotlib/uecbhR3MHhaZkK55za779h)\n",
                "\n",
                "## 1. 导入相关库"
            ]
        },
        {
            "cell_type": "code",
            "execution_count": 10,
            "metadata": {},
            "outputs": [],
            "source": [
                "# 导入 matplotlib 和 numpy 包\n",
                "import matplotlib.pyplot as plt\n",
                "import numpy as np\n",
                "\n",
                "# 修改默认参数\n",
                "plt.rcParams[\"grid.linestyle\"] = \":\""
            ]
        },
        {
            "cell_type": "markdown",
            "metadata": {},
            "source": [
                "## 2. 准备数据"
            ]
        },
        {
            "cell_type": "code",
            "execution_count": 13,
            "metadata": {},
            "outputs": [],
            "source": [
                "X, Y = np.mgrid[-3:3:0.05, -3:3:0.05]\n",
                "Z1 = np.exp(-(X**2 + Y**2) / 2) / (2 * np.pi)\n",
                "Z2 = np.exp(-(((X - 1) / 1.5) ** 2 + ((Y - 1) / 0.5) ** 2) / 2) / (\n",
                "    2 * np.pi * 0.5 * 1.5\n",
                ")\n",
                "Z = 6 * (Z2 - Z1)\n",
                "\n",
                "levels = [-1, -0.7, -0.5, -0.3, -0.1, 0, 0.1, 0.3, 0.5, 0.7, 1.5]"
            ]
        },
        {
            "cell_type": "markdown",
            "metadata": {},
            "source": [
                "## 3. 调用绘图API"
            ]
        },
        {
            "cell_type": "code",
            "execution_count": null,
            "metadata": {},
            "outputs": [],
            "source": [
                "# 创建三维坐标系对象，详见 https://www.wolai.com/matplotlib/nen32JpbcTrFbDHFmFgDnG\n",
                "fig = plt.figure(figsize=(3.2, 3), dpi=150, constrained_layout=True)\n",
                "ax = fig.add_subplot(projection=\"3d\")\n",
                "\n",
                "# 绘制三维曲面，详见 https://www.wolai.com/matplotlib/rmyHoDr7xspWq2iHWHjkct\n",
                "surf = ax.plot_surface(\n",
                "    X,\n",
                "    Y,\n",
                "    Z,\n",
                "    cmap=\"coolwarm\",\n",
                "    edgecolor=\"none\",\n",
                "    lw=0.05,\n",
                "    rstride=2,\n",
                "    cstride=2,\n",
                "    alpha=0.8,\n",
                "    antialiased=True,\n",
                ")\n",
                "# 添加颜色条\n",
                "fig.colorbar(surf, shrink=0.6, aspect=12, pad=0.25)\n",
                "\n",
                "# 绘制等高面投影，详见 https://www.wolai.com/matplotlib/sQhR5C9vqKsY9zqr3n4nxc\n",
                "ax.contourf(\n",
                "    X, Y, Z, levels=levels, cmap=\"coolwarm\", zdir=\"x\", offset=-3, antialiased=True\n",
                ")\n",
                "ax.contourf(\n",
                "    X, Y, Z, levels=levels, cmap=\"coolwarm\", zdir=\"y\", offset=3, antialiased=True\n",
                ")\n",
                "ax.contourf(\n",
                "    X, Y, Z, levels=levels, cmap=\"coolwarm\", zdir=\"z\", offset=-1, antialiased=True\n",
                ")\n",
                "\n",
                "# 开启双侧坐标轴\n",
                "ax.xaxis.set_ticks_position(\"both\")\n",
                "ax.yaxis.set_ticks_position(\"both\")\n",
                "ax.zaxis.set_ticks_position(\"both\")\n",
                "\n",
                "# 设置坐标轴范围\n",
                "ax.set_xlim(-3, 3)\n",
                "ax.set_ylim(-3, 3)\n",
                "ax.set_zlim(-1, 1)\n",
                "\n",
                "# 设置刻度线的标签\n",
                "ax.set_xticks([-2, 0, 2])\n",
                "ax.set_yticks([-2, 0, 2])\n",
                "ax.set_zticks([-1, 0, 1])\n",
                "\n",
                "# 设置坐标轴标签\n",
                "ax.set_xlabel(\"X\")\n",
                "ax.set_ylabel(\"Y\")\n",
                "ax.set_zlabel(\"Z\")\n",
                "\n",
                "# 调整视角，例如设置仰角为30度，方位角为-45度\n",
                "ax.view_init(elev=30, azim=-45)\n",
                "\n",
                "# 缩放坐标系以避免裁剪\n",
                "ax.set_box_aspect(aspect=None, zoom=0.85)\n",
                "\n",
                "# 保存图片\n",
                "# plt.savefig('./等高线投影图.png', dpi=300)\n",
                "\n",
                "# 显示图像\n",
                "plt.show()"
            ]
        }
    ],
    "metadata": {
        "kernelspec": {
            "display_name": "Python 3",
            "language": "python",
            "name": "python3"
        },
        "language_info": {
            "codemirror_mode": {
                "name": "ipython",
                "version": 3
            },
            "file_extension": ".py",
            "mimetype": "text/x-python",
            "name": "python",
            "nbconvert_exporter": "python",
            "pygments_lexer": "ipython3",
            "version": "3.13.1"
        }
    },
    "nbformat": 4,
    "nbformat_minor": 2
}

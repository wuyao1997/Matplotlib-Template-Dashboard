{
    "cells": [
        {
            "cell_type": "markdown",
            "metadata": {},
            "source": [
                "# \u7b49\u9ad8\u7ebf\u6295\u5f71\u56fe\n",
                "\n",
                "> [\u66f4\u591a\u7ed8\u56fe\uff0c\u5c3d\u5728\u201cmatplotlib\u5236\u56fe\u5e08\u201d](https://www.wolai.com/matplotlib/uecbhR3MHhaZkK55za779h)\n",
                "\n",
                "## 1. \u5bfc\u5165\u76f8\u5173\u5e93"
            ]
        },
        {
            "cell_type": "code",
            "execution_count": 10,
            "metadata": {},
            "outputs": [],
            "source": [
                "# \u5bfc\u5165 matplotlib \u548c numpy \u5305\n",
                "import matplotlib.pyplot as plt\n",
                "import numpy as np\n",
                "\n",
                "# \u4fee\u6539\u9ed8\u8ba4\u53c2\u6570\n",
                "plt.rcParams[\"grid.linestyle\"] = \":\""
            ]
        },
        {
            "cell_type": "markdown",
            "metadata": {},
            "source": [
                "## 2. \u51c6\u5907\u6570\u636e"
            ]
        },
        {
            "cell_type": "code",
            "execution_count": 13,
            "metadata": {},
            "outputs": [],
            "source": [
                "X, Y = np.mgrid[-3:3:0.05, -3:3:0.05]\n",
                "Z1 = np.exp(-(X**2 + Y**2) / 2) / (2 * np.pi)\n",
                "Z2 = np.exp(-(((X - 1) / 1.5) ** 2 + ((Y - 1) / 0.5) ** 2) / 2) / (\n",
                "    2 * np.pi * 0.5 * 1.5\n",
                ")\n",
                "Z = 6 * (Z2 - Z1)\n",
                "\n",
                "levels = [-1, -0.7, -0.5, -0.3, -0.1, 0, 0.1, 0.3, 0.5, 0.7, 1.5]"
            ]
        },
        {
            "cell_type": "markdown",
            "metadata": {},
            "source": [
                "## 3. \u8c03\u7528\u7ed8\u56feAPI"
            ]
        },
        {
            "cell_type": "code",
            "execution_count": null,
            "metadata": {},
            "outputs": [],
            "source": [
                "# \u521b\u5efa\u56fe\u50cf\u548c\u4e09\u7ef4\u5750\u6807\u7cfb\n",
                "fig = plt.figure(figsize=(3.2, 3), dpi=150, constrained_layout=True)\n",
                "ax = fig.add_subplot(projection=\"3d\")\n",
                "\n",
                "# \u7ed8\u5236\u4e09\u7ef4\u66f2\u9762\n",
                "surf = ax.plot_surface(\n",
                "    X,\n",
                "    Y,\n",
                "    Z,\n",
                "    cmap=\"coolwarm\",\n",
                "    edgecolor=\"none\",\n",
                "    lw=0.05,\n",
                "    rstride=2,\n",
                "    cstride=2,\n",
                "    alpha=0.8,\n",
                "    antialiased=True,\n",
                ")\n",
                "# \u6dfb\u52a0\u989c\u8272\u6761\n",
                "fig.colorbar(surf, shrink=0.6, aspect=12, pad=0.25)\n",
                "\n",
                "# \u7ed8\u5236\u7b49\u9ad8\u9762\u6295\u5f71\n",
                "ax.contourf(\n",
                "    X, Y, Z, levels=levels, cmap=\"coolwarm\", zdir=\"x\", offset=-3, antialiased=True\n",
                ")\n",
                "ax.contourf(\n",
                "    X, Y, Z, levels=levels, cmap=\"coolwarm\", zdir=\"y\", offset=3, antialiased=True\n",
                ")\n",
                "ax.contourf(\n",
                "    X, Y, Z, levels=levels, cmap=\"coolwarm\", zdir=\"z\", offset=-1, antialiased=True\n",
                ")\n",
                "\n",
                "# \u5f00\u542f\u53cc\u4fa7\u5750\u6807\u8f74\n",
                "ax.xaxis.set_ticks_position(\"both\")\n",
                "ax.yaxis.set_ticks_position(\"both\")\n",
                "ax.zaxis.set_ticks_position(\"both\")\n",
                "\n",
                "# \u8bbe\u7f6e\u5750\u6807\u8f74\u8303\u56f4\n",
                "ax.set_xlim(-3, 3)\n",
                "ax.set_ylim(-3, 3)\n",
                "ax.set_zlim(-1, 1)\n",
                "\n",
                "# \u8bbe\u7f6e\u523b\u5ea6\u7ebf\u7684\u6807\u7b7e\n",
                "ax.set_xticks([-2, 0, 2])\n",
                "ax.set_yticks([-2, 0, 2])\n",
                "ax.set_zticks([-1, 0, 1])\n",
                "\n",
                "# \u8bbe\u7f6e\u5750\u6807\u8f74\u6807\u7b7e\n",
                "ax.set_xlabel(\"X\")\n",
                "ax.set_ylabel(\"Y\")\n",
                "ax.set_zlabel(\"Z\")\n",
                "\n",
                "# \u8c03\u6574\u89c6\u89d2\uff0c\u4f8b\u5982\u8bbe\u7f6e\u4ef0\u89d2\u4e3a30\u5ea6\uff0c\u65b9\u4f4d\u89d2\u4e3a-45\u5ea6\n",
                "ax.view_init(elev=30, azim=-45)\n",
                "\n",
                "# \u7f29\u653e\u5750\u6807\u7cfb\u4ee5\u907f\u514d\u88c1\u526a\n",
                "ax.set_box_aspect(aspect=None, zoom=0.85)\n",
                "\n",
                "# \u4fdd\u5b58\u56fe\u7247\n",
                "# plt.savefig('./\u7b49\u9ad8\u7ebf\u6295\u5f71\u56fe.png', dpi=300)\n",
                "\n",
                "# \u663e\u793a\u56fe\u50cf\n",
                "plt.show()"
            ]
        }
    ],
    "metadata": {
        "kernelspec": {
            "display_name": "Python 3",
            "language": "python",
            "name": "python3"
        },
        "language_info": {
            "codemirror_mode": {
                "name": "ipython",
                "version": 3
            },
            "file_extension": ".py",
            "mimetype": "text/x-python",
            "name": "python",
            "nbconvert_exporter": "python",
            "pygments_lexer": "ipython3",
            "version": "3.13.1"
        }
    },
    "nbformat": 4,
    "nbformat_minor": 2
}
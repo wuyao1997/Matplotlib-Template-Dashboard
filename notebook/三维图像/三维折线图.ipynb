{
    "cells": [
        {
            "cell_type": "markdown",
            "metadata": {},
            "source": [
                "# \u4e09\u7ef4\u6298\u7ebf\u56fe\n",
                "\n",
                "> [\u66f4\u591a\u7ed8\u56fe\uff0c\u5c3d\u5728\u201cmatplotlib\u5236\u56fe\u5e08\u201d](https://www.wolai.com/matplotlib/uecbhR3MHhaZkK55za779h)\n",
                "\n",
                "## 1. \u5bfc\u5165\u76f8\u5173\u5e93"
            ]
        },
        {
            "cell_type": "code",
            "execution_count": 13,
            "metadata": {},
            "outputs": [],
            "source": [
                "# \u5bfc\u5165 matplotlib \u548c numpy \u5305\n",
                "import matplotlib.pyplot as plt\n",
                "import numpy as np\n",
                "from math import pi\n",
                "\n",
                "# \u4fee\u6539\u9ed8\u8ba4\u53c2\u6570\n",
                "plt.rcParams[\"axes.linewidth\"] = 1.5\n",
                "plt.rcParams[\"grid.linestyle\"] = \":\"\n",
                "plt.rcParams[\"lines.linewidth\"] = 2"
            ]
        },
        {
            "cell_type": "markdown",
            "metadata": {},
            "source": [
                "## 2. \u51c6\u5907\u6570\u636e"
            ]
        },
        {
            "cell_type": "code",
            "execution_count": 14,
            "metadata": {},
            "outputs": [],
            "source": [
                "x = np.linspace(0, 10, 64)\n",
                "y1 = 2 * np.sin(0.75 * x)\n",
                "y2 = 1 * np.sin(1 * x)\n",
                "y3 = 0.7 * np.sin(1.5 * x)\n",
                "y4 = 0.5 * np.sin(2 * x)"
            ]
        },
        {
            "cell_type": "markdown",
            "metadata": {},
            "source": [
                "## 3. \u8c03\u7528\u7ed8\u56feAPI"
            ]
        },
        {
            "cell_type": "code",
            "execution_count": 16,
            "metadata": {},
            "outputs": [],
            "source": [
                "# \u751f\u6210\u56fe\u50cf\u548c\u4e09\u7ef4\u5750\u6807\u7cfb\n",
                "fig = plt.figure(figsize=(4.5, 4), dpi=150)\n",
                "ax = fig.add_subplot(projection=\"3d\")\n",
                "\n",
                "# \u5728\u5750\u6807\u7cfb\u4e2d\u6dfb\u52a0\u6298\u7ebf\n",
                "ax.plot(\n",
                "    x,\n",
                "    0,\n",
                "    y1,\n",
                "    marker=\"o\",\n",
                "    markersize=6,\n",
                "    markeredgecolor=\"dimgray\",\n",
                "    markevery=3,\n",
                "    label=\"A\",\n",
                ")\n",
                "ax.plot(\n",
                "    x,\n",
                "    -1,\n",
                "    y2,\n",
                "    marker=\">\",\n",
                "    markersize=6,\n",
                "    markeredgecolor=\"dimgray\",\n",
                "    markevery=3,\n",
                "    label=\"B\",\n",
                ")\n",
                "ax.plot(\n",
                "    x,\n",
                "    -2,\n",
                "    y3,\n",
                "    marker=\"<\",\n",
                "    markersize=6,\n",
                "    markeredgecolor=\"dimgray\",\n",
                "    markevery=3,\n",
                "    label=\"C\",\n",
                ")\n",
                "ax.plot(\n",
                "    x,\n",
                "    3,\n",
                "    y4,\n",
                "    color=\"mediumpurple\",\n",
                "    marker=\"P\",\n",
                "    markersize=6,\n",
                "    markeredgecolor=\"dimgray\",\n",
                "    markevery=3,\n",
                "    label=\"D\",\n",
                ")\n",
                "\n",
                "# \u5f00\u542f\u53cc\u4fa7\u5750\u6807\u8f74\n",
                "ax.xaxis.set_ticks_position(\"both\")\n",
                "ax.yaxis.set_ticks_position(\"both\")\n",
                "ax.zaxis.set_ticks_position(\"both\")\n",
                "\n",
                "# \u8bbe\u7f6e\u5750\u6807\u8f74\u8303\u56f4\n",
                "ax.set_xlim(0, 10)\n",
                "ax.set_ylim(-3, 0)\n",
                "ax.set_zlim(-2, 2)\n",
                "\n",
                "# \u8bbe\u7f6e\u5750\u6807\u8f74\u523b\u5ea6\n",
                "ax.set_xticks([0, pi, 2 * pi, 3 * pi], [0, r\"$\\pi$\", r\"$2\\pi$\", r\"$3\\pi$\"])\n",
                "ax.set_yticks([-3, -2, -1, 0], [\"D\", \"C\", \"B\", \"A\"])\n",
                "ax.set_zticks([-2, 0, 2])\n",
                "\n",
                "# \u8bbe\u7f6e\u5750\u6807\u8f74\u6807\u7b7e\n",
                "ax.set_xlabel(\"X Label\")\n",
                "ax.set_ylabel(\"Y Label\")\n",
                "ax.set_zlabel(\"Z Label\")\n",
                "\n",
                "ax.legend(\n",
                "    frameon=False, ncols=4, loc=\"upper center\", bbox_to_anchor=(0.5, 1), reverse=True\n",
                ")\n",
                "\n",
                "# \u4fef\u4ef0\u89d2(elev)45\u5ea6\uff0c\u65b9\u4f4d\u89d2(azim)45\u5ea6\n",
                "ax.view_init(elev=28, azim=-55)\n",
                "\n",
                "# \u7f29\u653e\u5750\u6807\u7cfb\u4ee5\u907f\u514d\u88c1\u526a\n",
                "ax.set_box_aspect(aspect=None, zoom=0.75)\n",
                "\n",
                "# \u4fdd\u5b58\u56fe\u7247\n",
                "# plt.savefig('./\u4e09\u7ef4\u6298\u7ebf\u56fe.png', dpi=300)\n",
                "\n",
                "# \u663e\u793a\u56fe\u50cf\n",
                "plt.show()"
            ]
        }
    ],
    "metadata": {
        "kernelspec": {
            "display_name": "Python 3",
            "language": "python",
            "name": "python3"
        },
        "language_info": {
            "codemirror_mode": {
                "name": "ipython",
                "version": 3
            },
            "file_extension": ".py",
            "mimetype": "text/x-python",
            "name": "python",
            "nbconvert_exporter": "python",
            "pygments_lexer": "ipython3",
            "version": "3.13.1"
        }
    },
    "nbformat": 4,
    "nbformat_minor": 2
}
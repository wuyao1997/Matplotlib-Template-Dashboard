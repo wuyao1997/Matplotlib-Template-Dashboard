{
    "cells": [
        {
            "cell_type": "markdown",
            "metadata": {},
            "source": [
                "# 三维折线图\n",
                "\n",
                "> [更多绘图，尽在“matplotlib制图师”](https://www.wolai.com/matplotlib/uecbhR3MHhaZkK55za779h)\n",
                "\n",
                "## 1. 导入相关库"
            ]
        },
        {
            "cell_type": "code",
            "execution_count": 13,
            "metadata": {},
            "outputs": [],
            "source": [
                "# 导入 matplotlib 和 numpy 包\n",
                "import matplotlib.pyplot as plt\n",
                "import numpy as np\n",
                "from math import pi\n",
                "\n",
                "# 修改默认参数\n",
                "plt.rcParams[\"axes.linewidth\"] = 1.5\n",
                "plt.rcParams[\"grid.linestyle\"] = \":\"\n",
                "plt.rcParams[\"lines.linewidth\"] = 2"
            ]
        },
        {
            "cell_type": "markdown",
            "metadata": {},
            "source": [
                "## 2. 准备数据"
            ]
        },
        {
            "cell_type": "code",
            "execution_count": 14,
            "metadata": {},
            "outputs": [],
            "source": [
                "x = np.linspace(0, 10, 64)\n",
                "y1 = 2 * np.sin(0.75 * x)\n",
                "y2 = 1 * np.sin(1 * x)\n",
                "y3 = 0.7 * np.sin(1.5 * x)\n",
                "y4 = 0.5 * np.sin(2 * x)"
            ]
        },
        {
            "cell_type": "markdown",
            "metadata": {},
            "source": [
                "## 3. 调用绘图API"
            ]
        },
        {
            "cell_type": "code",
            "execution_count": 16,
            "metadata": {},
            "outputs": [],
            "source": [
                "# 创建三维坐标系对象，详见 https://www.wolai.com/matplotlib/nen32JpbcTrFbDHFmFgDnG\n",
                "fig = plt.figure(figsize=(4.5, 4), dpi=150)\n",
                "ax = fig.add_subplot(projection=\"3d\")\n",
                "\n",
                "# 在坐标系中添加折线，参数详见 https://www.wolai.com/matplotlib/c1TUStdGs2ANo1LeDbw6gP\n",
                "ax.plot(\n",
                "    x,\n",
                "    0,\n",
                "    y1,\n",
                "    marker=\"o\",\n",
                "    markersize=6,\n",
                "    markeredgecolor=\"dimgray\",\n",
                "    markevery=3,\n",
                "    label=\"A\",\n",
                ")\n",
                "\n",
                "ax.plot(\n",
                "    x,\n",
                "    -1,\n",
                "    y2,\n",
                "    marker=\">\",\n",
                "    markersize=6,\n",
                "    markeredgecolor=\"dimgray\",\n",
                "    markevery=3,\n",
                "    label=\"B\",\n",
                ")\n",
                "\n",
                "ax.plot(\n",
                "    x,\n",
                "    -2,\n",
                "    y3,\n",
                "    marker=\"<\",\n",
                "    markersize=6,\n",
                "    markeredgecolor=\"dimgray\",\n",
                "    markevery=3,\n",
                "    label=\"C\",\n",
                ")\n",
                "\n",
                "ax.plot(\n",
                "    x,\n",
                "    3,\n",
                "    y4,\n",
                "    color=\"mediumpurple\",\n",
                "    marker=\"P\",\n",
                "    markersize=6,\n",
                "    markeredgecolor=\"dimgray\",\n",
                "    markevery=3,\n",
                "    label=\"D\",\n",
                ")\n",
                "\n",
                "# 开启双侧坐标轴\n",
                "ax.xaxis.set_ticks_position(\"both\")\n",
                "ax.yaxis.set_ticks_position(\"both\")\n",
                "ax.zaxis.set_ticks_position(\"both\")\n",
                "\n",
                "# 设置坐标轴范围\n",
                "ax.set_xlim(0, 10)\n",
                "ax.set_ylim(-3, 0)\n",
                "ax.set_zlim(-2, 2)\n",
                "\n",
                "# 设置坐标轴刻度\n",
                "ax.set_xticks([0, pi, 2 * pi, 3 * pi], [0, r\"$\\pi$\", r\"$2\\pi$\", r\"$3\\pi$\"])\n",
                "ax.set_yticks([-3, -2, -1, 0], [\"D\", \"C\", \"B\", \"A\"])\n",
                "ax.set_zticks([-2, 0, 2])\n",
                "\n",
                "# 设置坐标轴标签\n",
                "ax.set_xlabel(\"X Label\")\n",
                "ax.set_ylabel(\"Y Label\")\n",
                "ax.set_zlabel(\"Z Label\")\n",
                "\n",
                "ax.legend(\n",
                "    frameon=False, ncols=4, loc=\"upper center\", bbox_to_anchor=(0.5, 1), reverse=True\n",
                ")\n",
                "\n",
                "# 俯仰角(elev)45度，方位角(azim)45度\n",
                "ax.view_init(elev=28, azim=-55)\n",
                "\n",
                "# 缩放坐标系以避免裁剪\n",
                "ax.set_box_aspect(aspect=None, zoom=0.75)\n",
                "\n",
                "# 保存图片\n",
                "# plt.savefig('./三维折线图.png', dpi=300)\n",
                "\n",
                "# 显示图像\n",
                "plt.show()"
            ]
        }
    ],
    "metadata": {
        "kernelspec": {
            "display_name": "Python 3",
            "language": "python",
            "name": "python3"
        },
        "language_info": {
            "codemirror_mode": {
                "name": "ipython",
                "version": 3
            },
            "file_extension": ".py",
            "mimetype": "text/x-python",
            "name": "python",
            "nbconvert_exporter": "python",
            "pygments_lexer": "ipython3",
            "version": "3.13.1"
        }
    },
    "nbformat": 4,
    "nbformat_minor": 2
}

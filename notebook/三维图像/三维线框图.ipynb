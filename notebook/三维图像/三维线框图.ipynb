{
    "cells": [
        {
            "cell_type": "markdown",
            "metadata": {},
            "source": [
                "# 三维线框图\n",
                "\n",
                "> [更多绘图，尽在“matplotlib制图师”](https://www.wolai.com/matplotlib/uecbhR3MHhaZkK55za779h)\n",
                "\n",
                "## 1. 导入相关库"
            ]
        },
        {
            "cell_type": "code",
            "execution_count": 24,
            "metadata": {},
            "outputs": [],
            "source": [
                "# 导入 matplotlib 和 numpy 包\n",
                "import matplotlib.pyplot as plt\n",
                "import numpy as np"
            ]
        },
        {
            "cell_type": "markdown",
            "metadata": {},
            "source": [
                "## 2. 准备数据"
            ]
        },
        {
            "cell_type": "code",
            "execution_count": 25,
            "metadata": {},
            "outputs": [],
            "source": [
                "X, Y = np.mgrid[-3:3:0.05, -3:3:0.05]\n",
                "Z1 = np.exp(-(X**2 + Y**2) / 2) / (2 * np.pi)\n",
                "Z2 = np.exp(-(((X - 1) / 1.5) ** 2 + ((Y - 1) / 0.5) ** 2) / 2) / (\n",
                "    2 * np.pi * 0.5 * 1.5\n",
                ")\n",
                "Z = 6 * (Z2 - Z1)"
            ]
        },
        {
            "cell_type": "markdown",
            "metadata": {},
            "source": [
                "## 3. 调用绘图API"
            ]
        },
        {
            "cell_type": "code",
            "execution_count": 35,
            "metadata": {},
            "outputs": [],
            "source": [
                "# 创建三维坐标系对象，详见 https://www.wolai.com/matplotlib/nen32JpbcTrFbDHFmFgDnG\n",
                "fig, ax = plt.subplots(\n",
                "    figsize=(3.2, 3), subplot_kw={\"projection\": \"3d\"}, constrained_layout=True\n",
                ")\n",
                "\n",
                "# 绘制三维线框，参数详见 https://www.wolai.com/matplotlib/72H346KNboPWVp614XJg5p\n",
                "ax.plot_wireframe(\n",
                "    X,\n",
                "    Y,\n",
                "    Z,\n",
                "    rstride=8,\n",
                "    cstride=8,\n",
                "    color=\"C0\",\n",
                "    lw=1,\n",
                ")\n",
                "\n",
                "# 开启双侧坐标轴\n",
                "ax.xaxis.set_ticks_position(\"both\")\n",
                "ax.yaxis.set_ticks_position(\"both\")\n",
                "ax.zaxis.set_ticks_position(\"both\")\n",
                "\n",
                "# 设置坐标轴范围\n",
                "ax.set_xlim(-3, 3)\n",
                "ax.set_ylim(-3, 3)\n",
                "ax.set_zlim(-1, 1)\n",
                "\n",
                "# 设置刻度线的标签\n",
                "ax.set_xticks([-2, 0, 2])\n",
                "ax.set_yticks([-2, 0, 2])\n",
                "ax.set_zticks([-1, 0, 1])\n",
                "\n",
                "# 设置坐标轴标签\n",
                "ax.set_xlabel(\"X\")\n",
                "ax.set_ylabel(\"Y\")\n",
                "ax.set_zlabel(\"Z\")\n",
                "\n",
                "# 调整视角，例如设置仰角为30度，方位角为-45度\n",
                "ax.view_init(elev=30, azim=-45)\n",
                "\n",
                "# 缩放坐标系以避免裁剪\n",
                "ax.set_box_aspect(aspect=None, zoom=0.75)\n",
                "\n",
                "# 保存图片\n",
                "# plt.savefig('./三维线框图.png', dpi=300, bbox_inches='tight')\n",
                "\n",
                "# 显示图像\n",
                "plt.show()"
            ]
        }
    ],
    "metadata": {
        "kernelspec": {
            "display_name": "Python 3",
            "language": "python",
            "name": "python3"
        },
        "language_info": {
            "codemirror_mode": {
                "name": "ipython",
                "version": 3
            },
            "file_extension": ".py",
            "mimetype": "text/x-python",
            "name": "python",
            "nbconvert_exporter": "python",
            "pygments_lexer": "ipython3",
            "version": "3.13.1"
        }
    },
    "nbformat": 4,
    "nbformat_minor": 2
}

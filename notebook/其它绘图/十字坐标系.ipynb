{
    "cells": [
        {
            "cell_type": "markdown",
            "metadata": {},
            "source": [
                "# \u5341\u5b57\u5750\u6807\u7cfb\n",
                "\n",
                "> [\u66f4\u591a\u7ed8\u56fe\uff0c\u5c3d\u5728\u201cmatplotlib\u5236\u56fe\u5e08\u201d](https://www.wolai.com/matplotlib/uecbhR3MHhaZkK55za779h)\n",
                "\n",
                "## 1. \u5bfc\u5165\u76f8\u5173\u5e93"
            ]
        },
        {
            "cell_type": "code",
            "execution_count": 4,
            "metadata": {},
            "outputs": [],
            "source": [
                "# \u5bfc\u5165 matplotlib \u548c numpy \u5305\n",
                "import matplotlib.pyplot as plt\n",
                "import numpy as np"
            ]
        },
        {
            "cell_type": "markdown",
            "metadata": {},
            "source": [
                "## 2. \u51c6\u5907\u6570\u636e"
            ]
        },
        {
            "cell_type": "code",
            "execution_count": 21,
            "metadata": {},
            "outputs": [],
            "source": [
                "x = np.linspace(-0.5, 1.0, 100)\n",
                "y = np.cos(2 * x * np.pi)"
            ]
        },
        {
            "cell_type": "markdown",
            "metadata": {},
            "source": [
                "## 3. \u8c03\u7528\u7ed8\u56feAPI"
            ]
        },
        {
            "cell_type": "code",
            "execution_count": 44,
            "metadata": {},
            "outputs": [],
            "source": [
                "# \u751f\u6210\u56fe\u5f62\u5bf9\u8c61 fig \u548c \u5b50\u56fe\u5bf9\u8c61 ax\uff0c\u4f7f\u7528\u7ea6\u675f\u5e03\u5c40\u907f\u514d\u91cd\u53e0\n",
                "fig, ax = plt.subplots(constrained_layout=True)\n",
                "\n",
                "# \u5c06 X \u548c Y  \u8f74 \u79fb\u52a8\u5230\u5750\u6807\u7cfb\u4e2d\u95f4\n",
                "ax.spines[\"left\"].set_position((\"axes\", 0.5))\n",
                "ax.spines[\"bottom\"].set_position((\"axes\", 0.5))\n",
                "ax.spines[\"top\"].set_visible(False)\n",
                "ax.spines[\"right\"].set_visible(False)\n",
                "# \u4e3a\u5750\u6807\u8f74\u6dfb\u52a0\u7bad\u5934\n",
                "ax.arrow(0, 0, 1.1, 0, head_width=0.08, head_length=0.15, fc=\"k\", ec=\"k\", clip_on=False)\n",
                "ax.arrow(0, 0, 0, 1.1, head_width=0.08, head_length=0.15, fc=\"k\", ec=\"k\", clip_on=False)\n",
                "\n",
                "# \u8bbe\u7f6e\u5bf9\u79f0\u8303\u56f4\uff0c\u53ef\u4ee5\u5c06(0,0)\u79fb\u52a8\u5230\u5750\u6807\u7cfb\u4e2d\u95f4\n",
                "ax.set_xlim(-1.2, 1.2)\n",
                "ax.set_ylim(-1.2, 1.2)\n",
                "ax.set_xticks([-1, -0.5, 0.5, 1])\n",
                "ax.set_yticks([-1, -0.5, 0.5, 1])\n",
                "\n",
                "# \u7ed8\u5236\u6298\u7ebf\u5143\u7d20\n",
                "ax.plot(x, y)\n",
                "\n",
                "# \u4fdd\u5b58\u56fe\u7247\n",
                "# plt.savefig('./\u5341\u5b57\u5750\u6807\u7cfb.png', dpi=300)\n",
                "\n",
                "# \u663e\u793a\u56fe\u5f62\n",
                "plt.show()"
            ]
        }
    ],
    "metadata": {
        "kernelspec": {
            "display_name": "Python 3",
            "language": "python",
            "name": "python3"
        },
        "language_info": {
            "codemirror_mode": {
                "name": "ipython",
                "version": 3
            },
            "file_extension": ".py",
            "mimetype": "text/x-python",
            "name": "python",
            "nbconvert_exporter": "python",
            "pygments_lexer": "ipython3",
            "version": "3.13.1"
        }
    },
    "nbformat": 4,
    "nbformat_minor": 2
}
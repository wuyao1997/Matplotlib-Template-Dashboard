{
    "cells": [
        {
            "cell_type": "markdown",
            "metadata": {},
            "source": [
                "# 十字坐标系\n",
                "\n",
                "> [更多绘图，尽在“matplotlib制图师”](https://www.wolai.com/matplotlib/uecbhR3MHhaZkK55za779h)\n",
                "\n",
                "## 1. 导入相关库"
            ]
        },
        {
            "cell_type": "code",
            "execution_count": 4,
            "metadata": {},
            "outputs": [],
            "source": [
                "# 导入 matplotlib 和 numpy 包\n",
                "import matplotlib.pyplot as plt\n",
                "import numpy as np"
            ]
        },
        {
            "cell_type": "markdown",
            "metadata": {},
            "source": [
                "## 2. 准备数据"
            ]
        },
        {
            "cell_type": "code",
            "execution_count": 21,
            "metadata": {},
            "outputs": [],
            "source": [
                "x = np.linspace(-0.5, 1.0, 100)\n",
                "y = np.cos(2 * x * np.pi)"
            ]
        },
        {
            "cell_type": "markdown",
            "metadata": {},
            "source": [
                "## 3. 调用绘图API"
            ]
        },
        {
            "cell_type": "code",
            "execution_count": 44,
            "metadata": {},
            "outputs": [],
            "source": [
                "# 生成图形对象 fig 和 子图对象 ax，使用约束布局避免重叠\n",
                "fig, ax = plt.subplots(constrained_layout=True)\n",
                "\n",
                "# 将 X, Y 轴移动到坐标系中间，详见 https://www.wolai.com/matplotlib/vPsGUiB1SpSD1juJtpcybG\n",
                "ax.spines[\"left\"].set_position((\"axes\", 0.5))\n",
                "ax.spines[\"bottom\"].set_position((\"axes\", 0.5))\n",
                "ax.spines[\"top\"].set_visible(False)\n",
                "ax.spines[\"right\"].set_visible(False)\n",
                "# 为坐标轴添加箭头\n",
                "ax.arrow(0, 0, 1.1, 0, head_width=0.08, head_length=0.15, fc=\"k\", ec=\"k\", clip_on=False)\n",
                "ax.arrow(0, 0, 0, 1.1, head_width=0.08, head_length=0.15, fc=\"k\", ec=\"k\", clip_on=False)\n",
                "\n",
                "# 设置对称范围，可以将(0,0)移动到坐标系中间\n",
                "ax.set_xlim(-1.2, 1.2)\n",
                "ax.set_ylim(-1.2, 1.2)\n",
                "ax.set_xticks([-1, -0.5, 0.5, 1])\n",
                "ax.set_yticks([-1, -0.5, 0.5, 1])\n",
                "\n",
                "# 绘制折线元素\n",
                "ax.plot(x, y)\n",
                "\n",
                "# 保存图片\n",
                "# plt.savefig('./十字坐标系.png', dpi=300)\n",
                "\n",
                "# 显示图形\n",
                "plt.show()"
            ]
        }
    ],
    "metadata": {
        "kernelspec": {
            "display_name": "Python 3",
            "language": "python",
            "name": "python3"
        },
        "language_info": {
            "codemirror_mode": {
                "name": "ipython",
                "version": 3
            },
            "file_extension": ".py",
            "mimetype": "text/x-python",
            "name": "python",
            "nbconvert_exporter": "python",
            "pygments_lexer": "ipython3",
            "version": "3.13.1"
        }
    },
    "nbformat": 4,
    "nbformat_minor": 2
}

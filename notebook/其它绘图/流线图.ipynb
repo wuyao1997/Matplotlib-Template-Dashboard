{
    "cells": [
        {
            "cell_type": "markdown",
            "metadata": {},
            "source": [
                "# 流线图\n",
                "\n",
                "> [更多绘图，尽在“matplotlib制图师”](https://www.wolai.com/matplotlib/uecbhR3MHhaZkK55za779h)\n",
                "\n",
                "## 1. 导入相关库"
            ]
        },
        {
            "cell_type": "code",
            "execution_count": 9,
            "metadata": {},
            "outputs": [],
            "source": [
                "# 导入 matplotlib 和 numpy 包\n",
                "import matplotlib.pyplot as plt\n",
                "import numpy as np"
            ]
        },
        {
            "cell_type": "markdown",
            "metadata": {},
            "source": [
                "## 2. 准备数据"
            ]
        },
        {
            "cell_type": "code",
            "execution_count": 10,
            "metadata": {},
            "outputs": [],
            "source": [
                "w = 3\n",
                "Y, X = np.mgrid[-w:w:100j, -w:w:100j]\n",
                "U = -1 - X**2 + Y\n",
                "V = 1 + X - Y**2\n",
                "speed = np.sqrt(U**2 + V**2)"
            ]
        },
        {
            "cell_type": "markdown",
            "metadata": {},
            "source": [
                "## 3. 调用绘图API"
            ]
        },
        {
            "cell_type": "code",
            "execution_count": 11,
            "metadata": {},
            "outputs": [],
            "source": [
                "fig, ax = plt.subplots(figsize=(4, 3))\n",
                "# 设置坐标系宽高比\n",
                "ax.set_aspect(1)\n",
                "# 隐藏刻度标签\n",
                "ax.set_xticks([])\n",
                "ax.set_yticks([])\n",
                "\n",
                "# 绘制流线，参数详见 https://www.wolai.com/matplotlib/1FmwiKTqaRWifhHRHykVYh\n",
                "strm = ax.streamplot(\n",
                "    X, Y, U, V, color=speed, linewidth=0.5 * speed / speed.max() + 0.5, cmap=\"coolwarm\"\n",
                ")\n",
                "\n",
                "# 添加colorbar并设置标签，详见 https://www.wolai.com/matplotlib/3JLQ4xkFa9az9ed5w9FHt4\n",
                "cbar = fig.colorbar(strm.lines, aspect=16)\n",
                "cbar.set_label(\"velocity m/s\", rotation=-90, labelpad=10)\n",
                "\n",
                "# 保存图片\n",
                "# plt.savefig('./流线图.png', dpi=300, bbox_inches='tight')\n",
                "\n",
                "# 显示图形\n",
                "plt.show()"
            ]
        }
    ],
    "metadata": {
        "kernelspec": {
            "display_name": "Python 3",
            "language": "python",
            "name": "python3"
        },
        "language_info": {
            "codemirror_mode": {
                "name": "ipython",
                "version": 3
            },
            "file_extension": ".py",
            "mimetype": "text/x-python",
            "name": "python",
            "nbconvert_exporter": "python",
            "pygments_lexer": "ipython3",
            "version": "3.13.1"
        }
    },
    "nbformat": 4,
    "nbformat_minor": 2
}

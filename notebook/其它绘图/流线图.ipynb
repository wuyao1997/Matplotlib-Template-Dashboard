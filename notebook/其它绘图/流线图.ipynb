{
    "cells": [
        {
            "cell_type": "markdown",
            "metadata": {},
            "source": [
                "# \u6d41\u7ebf\u56fe\n",
                "\n",
                "> [\u66f4\u591a\u7ed8\u56fe\uff0c\u5c3d\u5728\u201cmatplotlib\u5236\u56fe\u5e08\u201d](https://www.wolai.com/matplotlib/uecbhR3MHhaZkK55za779h)\n",
                "\n",
                "## 1. \u5bfc\u5165\u76f8\u5173\u5e93"
            ]
        },
        {
            "cell_type": "code",
            "execution_count": 9,
            "metadata": {},
            "outputs": [],
            "source": [
                "# \u5bfc\u5165 matplotlib \u548c numpy \u5305\n",
                "import matplotlib.pyplot as plt\n",
                "import numpy as np"
            ]
        },
        {
            "cell_type": "markdown",
            "metadata": {},
            "source": [
                "## 2. \u51c6\u5907\u6570\u636e"
            ]
        },
        {
            "cell_type": "code",
            "execution_count": 10,
            "metadata": {},
            "outputs": [],
            "source": [
                "w = 3\n",
                "Y, X = np.mgrid[-w:w:100j, -w:w:100j]\n",
                "U = -1 - X**2 + Y\n",
                "V = 1 + X - Y**2\n",
                "speed = np.sqrt(U**2 + V**2)"
            ]
        },
        {
            "cell_type": "markdown",
            "metadata": {},
            "source": [
                "## 3. \u8c03\u7528\u7ed8\u56feAPI"
            ]
        },
        {
            "cell_type": "code",
            "execution_count": 11,
            "metadata": {},
            "outputs": [],
            "source": [
                "fig, ax = plt.subplots(figsize=(4, 3))\n",
                "# \u8bbe\u7f6e\u5750\u6807\u7cfb\u5bbd\u9ad8\u6bd4\n",
                "ax.set_aspect(1)\n",
                "# \u9690\u85cf\u523b\u5ea6\u6807\u7b7e\n",
                "ax.set_xticks([])\n",
                "ax.set_yticks([])\n",
                "\n",
                "# \u7ed8\u5236\u6d41\u7ebf\n",
                "strm = ax.streamplot(\n",
                "    X, Y, U, V, color=speed, linewidth=0.5 * speed / speed.max() + 0.5, cmap=\"coolwarm\"\n",
                ")\n",
                "\n",
                "# \u6dfb\u52a0colorbar\u5e76\u8bbe\u7f6e\u6807\u7b7e\n",
                "cbar = fig.colorbar(strm.lines, aspect=16)\n",
                "cbar.set_label(\"velocity m/s\", rotation=-90, labelpad=10)\n",
                "\n",
                "# \u4fdd\u5b58\u56fe\u7247\n",
                "# plt.savefig('./\u6d41\u7ebf\u56fe.png', dpi=300, bbox_inches='tight')\n",
                "\n",
                "# \u663e\u793a\u56fe\u5f62\n",
                "plt.show()"
            ]
        }
    ],
    "metadata": {
        "kernelspec": {
            "display_name": "Python 3",
            "language": "python",
            "name": "python3"
        },
        "language_info": {
            "codemirror_mode": {
                "name": "ipython",
                "version": 3
            },
            "file_extension": ".py",
            "mimetype": "text/x-python",
            "name": "python",
            "nbconvert_exporter": "python",
            "pygments_lexer": "ipython3",
            "version": "3.13.1"
        }
    },
    "nbformat": 4,
    "nbformat_minor": 2
}
{
    "cells": [
        {
            "cell_type": "markdown",
            "metadata": {},
            "source": [
                "# \u98ce\u77e2\u56fe\n",
                "\n",
                "> [\u66f4\u591a\u7ed8\u56fe\uff0c\u5c3d\u5728\u201cmatplotlib\u5236\u56fe\u5e08\u201d](https://www.wolai.com/matplotlib/uecbhR3MHhaZkK55za779h)\n",
                "\n",
                "## 1. \u5bfc\u5165\u76f8\u5173\u5e93"
            ]
        },
        {
            "cell_type": "code",
            "execution_count": 1,
            "metadata": {},
            "outputs": [],
            "source": [
                "# \u5bfc\u5165 matplotlib \u548c numpy \u5305\n",
                "import matplotlib.pyplot as plt\n",
                "import numpy as np"
            ]
        },
        {
            "cell_type": "markdown",
            "metadata": {},
            "source": [
                "## 2. \u51c6\u5907\u6570\u636e"
            ]
        },
        {
            "cell_type": "code",
            "execution_count": 2,
            "metadata": {},
            "outputs": [],
            "source": [
                "X, Y = np.mgrid[-5:5:5j, -5:5:5j]\n",
                "U, V = 5 * X, 5 * Y\n",
                "# \u8ba1\u7b97\u901f\u5ea6\u5927\u5c0f\n",
                "M = np.hypot(U, V)"
            ]
        },
        {
            "cell_type": "markdown",
            "metadata": {},
            "source": [
                "## 3. \u8c03\u7528\u7ed8\u56feAPI"
            ]
        },
        {
            "cell_type": "code",
            "execution_count": 9,
            "metadata": {},
            "outputs": [],
            "source": [
                "# \u751f\u6210\u56fe\u5f62\u5bf9\u8c61 fig \u548c \u5b50\u56fe\u5bf9\u8c61 ax\uff0c\u4f7f\u7528\u7ea6\u675f\u5e03\u5c40\u907f\u514d\u91cd\u53e0\n",
                "fig, ax = plt.subplots(constrained_layout=True)\n",
                "# \u8bbe\u7f6e\u5750\u6807\u7cfb\u5bbd\u9ad8\u6bd4\n",
                "ax.set_aspect(1)\n",
                "\n",
                "# \u7ed8\u5236\u98ce\u77e2\n",
                "bs = ax.barbs(\n",
                "    X,\n",
                "    Y,\n",
                "    U,\n",
                "    V,\n",
                "    np.sqrt(U**2 + V**2),\n",
                "    cmap=\"hot_r\",\n",
                "    length=6,\n",
                "    pivot=\"middle\",\n",
                "    barb_increments=dict(half=2, full=4, flag=20),\n",
                "    fill_empty=True,\n",
                ")\n",
                "\n",
                "# \u9690\u85cf\u523b\u5ea6\u6807\u7b7e\n",
                "ax.set_xticks([])\n",
                "ax.set_yticks([])\n",
                "\n",
                "# \u6dfb\u52a0colorbar\u5e76\u8bbe\u7f6e\u6807\u7b7e\n",
                "cbar = fig.colorbar(\n",
                "    bs, ax=ax, aspect=16, shrink=0.82, boundaries=np.linspace(0, 35, 100)\n",
                ")\n",
                "cbar.set_label(\"Velocity (m/s)\")\n",
                "\n",
                "# \u8bbe\u7f6ecolorbar\u7684\u523b\u5ea6\u4f4d\u7f6e\n",
                "cbar.set_ticks([0, 10, 20, 30])\n",
                "\n",
                "# \u4fdd\u5b58\u56fe\u7247\n",
                "# plt.savefig('./\u98ce\u77e2\u56fe.png', dpi=300, bbox_inches='tight')\n",
                "\n",
                "# \u663e\u793a\u56fe\u5f62\n",
                "plt.show()"
            ]
        }
    ],
    "metadata": {
        "kernelspec": {
            "display_name": "Python 3",
            "language": "python",
            "name": "python3"
        },
        "language_info": {
            "codemirror_mode": {
                "name": "ipython",
                "version": 3
            },
            "file_extension": ".py",
            "mimetype": "text/x-python",
            "name": "python",
            "nbconvert_exporter": "python",
            "pygments_lexer": "ipython3",
            "version": "3.13.1"
        }
    },
    "nbformat": 4,
    "nbformat_minor": 2
}
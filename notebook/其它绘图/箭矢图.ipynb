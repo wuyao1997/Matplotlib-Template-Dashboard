{
    "cells": [
        {
            "cell_type": "markdown",
            "metadata": {},
            "source": [
                "# 箭矢图\n",
                "\n",
                "> [更多绘图，尽在“matplotlib制图师”](https://www.wolai.com/matplotlib/uecbhR3MHhaZkK55za779h)\n",
                "\n",
                "## 1. 导入相关库"
            ]
        },
        {
            "cell_type": "code",
            "execution_count": 1,
            "metadata": {},
            "outputs": [],
            "source": [
                "# 导入 matplotlib 和 numpy 包\n",
                "import matplotlib.pyplot as plt\n",
                "import numpy as np"
            ]
        },
        {
            "cell_type": "markdown",
            "metadata": {},
            "source": [
                "## 2. 准备数据"
            ]
        },
        {
            "cell_type": "code",
            "execution_count": 2,
            "metadata": {},
            "outputs": [],
            "source": [
                "X, Y = np.mgrid[0 : 2 * np.pi : 12j, 0 : 2 * np.pi : 12j]\n",
                "U = np.cos(X)\n",
                "V = np.sin(Y)"
            ]
        },
        {
            "cell_type": "markdown",
            "metadata": {},
            "source": [
                "## 3. 调用绘图API"
            ]
        },
        {
            "cell_type": "code",
            "execution_count": null,
            "metadata": {},
            "outputs": [],
            "source": [
                "# 计算速度大小\n",
                "M = np.hypot(U, V)\n",
                "\n",
                "# 生成图形对象 fig 和 子图对象 ax，使用约束布局避免重叠\n",
                "fig, ax = plt.subplots(constrained_layout=True)\n",
                "# 设置坐标系宽高比\n",
                "ax.set_aspect(1)\n",
                "\n",
                "# 绘制箭矢，参数详见 https://www.wolai.com/matplotlib/4DL8HQFNjvYEMmqHCQcctx\n",
                "quiver = ax.quiver(\n",
                "    X,\n",
                "    Y,\n",
                "    U,\n",
                "    V,\n",
                "    M,  # 坐标(X,Y), 方向(U,V)，大小(M)\n",
                "    cmap=\"coolwarm\",\n",
                "    scale=20,  # 缩放\n",
                "    pivot=\"middle\",  # 箭头位置, 'tail'|'middle'|'tip'\n",
                ")\n",
                "\n",
                "# 隐藏刻度标签\n",
                "ax.set_xticks([])\n",
                "ax.set_yticks([])\n",
                "\n",
                "# 添加colorbar并设置标签，详见 https://www.wolai.com/matplotlib/3JLQ4xkFa9az9ed5w9FHt4\n",
                "cbar = fig.colorbar(\n",
                "    quiver, ax=ax, aspect=16, shrink=0.82, boundaries=np.linspace(0, 1.5, 151)\n",
                ")\n",
                "cbar.set_label(\"Velocity (m/s)\")\n",
                "\n",
                "# 设置colorbar的刻度位置\n",
                "cbar.set_ticks([0.0, 0.3, 0.6, 0.9, 1.2, 1.5])\n",
                "\n",
                "# 保存图片\n",
                "# plt.savefig('./箭矢图.png', dpi=300, bbox_inches='tight')\n",
                "\n",
                "# 显示图形\n",
                "plt.show()"
            ]
        }
    ],
    "metadata": {
        "kernelspec": {
            "display_name": "Python 3",
            "language": "python",
            "name": "python3"
        },
        "language_info": {
            "codemirror_mode": {
                "name": "ipython",
                "version": 3
            },
            "file_extension": ".py",
            "mimetype": "text/x-python",
            "name": "python",
            "nbconvert_exporter": "python",
            "pygments_lexer": "ipython3",
            "version": "3.13.1"
        }
    },
    "nbformat": 4,
    "nbformat_minor": 2
}

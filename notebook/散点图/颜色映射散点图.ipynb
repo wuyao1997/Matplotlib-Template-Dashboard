{
    "cells": [
        {
            "cell_type": "markdown",
            "metadata": {},
            "source": [
                "# 颜色映射散点图\n",
                "\n",
                "> [更多绘图，尽在“matplotlib制图师”](https://www.wolai.com/matplotlib/uecbhR3MHhaZkK55za779h)\n",
                "\n",
                "## 1. 导入相关库"
            ]
        },
        {
            "cell_type": "code",
            "execution_count": 2,
            "metadata": {},
            "outputs": [],
            "source": [
                "# 导入 matplotlib 和 numpy 包\n",
                "import matplotlib.pyplot as plt\n",
                "import numpy as np"
            ]
        },
        {
            "cell_type": "markdown",
            "metadata": {},
            "source": [
                "## 2. 准备数据"
            ]
        },
        {
            "cell_type": "code",
            "execution_count": 20,
            "metadata": {},
            "outputs": [],
            "source": [
                "np.random.seed(19680801)\n",
                "\n",
                "x = 0.5 * np.random.randn(50)\n",
                "y = 0.5 * np.random.randn(50)\n",
                "scalar = np.random.random(50) * 40 + 10"
            ]
        },
        {
            "cell_type": "markdown",
            "metadata": {},
            "source": [
                "## 3. 调用绘图API"
            ]
        },
        {
            "cell_type": "code",
            "execution_count": 24,
            "metadata": {},
            "outputs": [],
            "source": [
                "# 生成图形对象 fig 和 子图对象 ax，使用约束布局避免重叠\n",
                "fig, ax = plt.subplots(constrained_layout=True)\n",
                "ax.set_aspect(1)\n",
                "\n",
                "# 调用坐标系对象 ax 的 scatter 方法，绘制原始数据为散点图\n",
                "# 更多参数见 https://www.wolai.com/matplotlib/6QQ2tpDuAS7ggBMNP8YXbK\n",
                "pc = ax.scatter(\n",
                "    x, y, marker=\"o\", c=scalar, s=18, edgecolor=\"dimgray\", linewidth=1, cmap=\"coolwarm\"\n",
                ")\n",
                "\n",
                "# 设置 x 轴和 y 轴的轴标签，加粗显示\n",
                "ax.set_xlabel(\"x (unit)\", fontweight=\"bold\")\n",
                "ax.set_ylabel(\"y (unit)\", fontweight=\"bold\")\n",
                "\n",
                "# 设置颜色条\n",
                "cbar = fig.colorbar(pc, ax=ax, shrink=0.58, aspect=10)\n",
                "cbar.set_label(\"Scalar\", fontweight=\"bold\")\n",
                "\n",
                "# 保存图片\n",
                "# plt.savefig('./颜色映射散点图.png', dpi=300)\n",
                "\n",
                "# 显示图像\n",
                "plt.show()"
            ]
        },
        {
            "cell_type": "code",
            "execution_count": 18,
            "metadata": {},
            "outputs": [],
            "source": [
                "dir(cbar)"
            ]
        }
    ],
    "metadata": {
        "kernelspec": {
            "display_name": "Python 3",
            "language": "python",
            "name": "python3"
        },
        "language_info": {
            "codemirror_mode": {
                "name": "ipython",
                "version": 3
            },
            "file_extension": ".py",
            "mimetype": "text/x-python",
            "name": "python",
            "nbconvert_exporter": "python",
            "pygments_lexer": "ipython3",
            "version": "3.13.1"
        }
    },
    "nbformat": 4,
    "nbformat_minor": 2
}

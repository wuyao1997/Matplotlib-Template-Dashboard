{
    "cells": [
        {
            "cell_type": "markdown",
            "metadata": {},
            "source": [
                "# \u5411\u91cf\u5c3a\u5bf8\u6563\u70b9\u56fe\n",
                "\n",
                "> [\u66f4\u591a\u7ed8\u56fe\uff0c\u5c3d\u5728\u201cmatplotlib\u5236\u56fe\u5e08\u201d](https://www.wolai.com/matplotlib/uecbhR3MHhaZkK55za779h)\n",
                "\n",
                "## 1. \u5bfc\u5165\u76f8\u5173\u5e93"
            ]
        },
        {
            "cell_type": "code",
            "execution_count": 1,
            "metadata": {},
            "outputs": [],
            "source": [
                "# \u5bfc\u5165 matplotlib \u548c numpy \u5305\n",
                "import matplotlib.pyplot as plt\n",
                "import numpy as np"
            ]
        },
        {
            "cell_type": "markdown",
            "metadata": {},
            "source": [
                "## 2. \u51c6\u5907\u6570\u636e"
            ]
        },
        {
            "cell_type": "code",
            "execution_count": 31,
            "metadata": {},
            "outputs": [],
            "source": [
                "np.random.seed(19680801)\n",
                "\n",
                "x = 1.5 * np.random.randn(50)\n",
                "y = 0.5 * np.random.randn(50)\n",
                "size = np.random.random(50) * 40 + 10"
            ]
        },
        {
            "cell_type": "markdown",
            "metadata": {},
            "source": [
                "## 3. \u8c03\u7528\u7ed8\u56feAPI"
            ]
        },
        {
            "cell_type": "code",
            "execution_count": 46,
            "metadata": {},
            "outputs": [],
            "source": [
                "# \u751f\u6210\u56fe\u5f62\u5bf9\u8c61 fig \u548c \u5b50\u56fe\u5bf9\u8c61 ax\uff0c\u4f7f\u7528\u7ea6\u675f\u5e03\u5c40\u907f\u514d\u91cd\u53e0\n",
                "fig, ax = plt.subplots(constrained_layout=True)\n",
                "\n",
                "# \u8c03\u7528\u5750\u6807\u7cfb\u5bf9\u8c61 ax \u7684 scatter \u65b9\u6cd5\uff0c \u7ed8\u5236\u539f\u59cb\u6570\u636e\u4e3a\u6563\u70b9\u56fe\n",
                "pc = ax.scatter(x, y, marker=\"o\", s=size, alpha=0.5)\n",
                "\n",
                "# \u8bbe\u7f6e x \u8f74\u548c y \u8f74\u7684\u8f74\u6807\u7b7e\uff0c\u52a0\u7c97\u663e\u793a\n",
                "ax.set_xlabel(\"x (unit)\", fontweight=\"bold\")\n",
                "ax.set_ylabel(\"y (unit)\", fontweight=\"bold\")\n",
                "\n",
                "# \u8bbe\u7f6e\u56fe\u4f8b\n",
                "handles, labels = pc.legend_elements(prop=\"sizes\", color=\"C0\", alpha=0.5, num=5)\n",
                "ax.legend(handles, labels, loc=\"lower left\", title=\"Sizes\", frameon=True)\n",
                "\n",
                "# \u4fdd\u5b58\u56fe\u7247\n",
                "# plt.savefig('./\u5411\u91cf\u5c3a\u5bf8\u6563\u70b9\u56fe.png', dpi=300)\n",
                "\n",
                "# \u663e\u793a\u56fe\u50cf\n",
                "plt.show()"
            ]
        }
    ],
    "metadata": {
        "kernelspec": {
            "display_name": "Python 3",
            "language": "python",
            "name": "python3"
        },
        "language_info": {
            "codemirror_mode": {
                "name": "ipython",
                "version": 3
            },
            "file_extension": ".py",
            "mimetype": "text/x-python",
            "name": "python",
            "nbconvert_exporter": "python",
            "pygments_lexer": "ipython3",
            "version": "3.13.1"
        }
    },
    "nbformat": 4,
    "nbformat_minor": 2
}
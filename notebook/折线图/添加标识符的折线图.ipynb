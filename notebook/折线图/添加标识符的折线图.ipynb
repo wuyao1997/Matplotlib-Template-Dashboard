{
    "cells": [
        {
            "cell_type": "markdown",
            "metadata": {},
            "source": [
                "# 添加标识符的折线图\n",
                "\n",
                "> [更多绘图，尽在“matplotlib制图师”](https://www.wolai.com/matplotlib/uecbhR3MHhaZkK55za779h)\n",
                "\n",
                "## 1. 导入相关库"
            ]
        },
        {
            "cell_type": "code",
            "execution_count": 15,
            "metadata": {},
            "outputs": [],
            "source": [
                "import matplotlib.pyplot as plt"
            ]
        },
        {
            "cell_type": "markdown",
            "metadata": {},
            "source": [
                "## 2. 准备数据"
            ]
        },
        {
            "cell_type": "code",
            "execution_count": 16,
            "metadata": {},
            "outputs": [],
            "source": [
                "# 这里使用硬编码形式存储数据，需要保证数据列表长度相等\n",
                "x = [1, 2, 3, 4, 5, 6, 7]\n",
                "y1 = [0.31, 0.37, 0.42, 0.41, 0.35, 0.32, 0.30]\n",
                "y2 = [0.27, 0.31, 0.38, 0.44, 0.45, 0.39, 0.36]"
            ]
        },
        {
            "cell_type": "markdown",
            "metadata": {},
            "source": [
                "## 3. 调用绘图API"
            ]
        },
        {
            "cell_type": "code",
            "execution_count": null,
            "metadata": {},
            "outputs": [],
            "source": [
                "# 生成图形对象 fig 和 子图对象 ax，使用约束布局避免重叠\n",
                "fig, ax = plt.subplots(constrained_layout=True)\n",
                "\n",
                "# 两次调用坐标系对象 ax 的 plot 方法，绘制两条折线\n",
                "# 参数详见 https://www.wolai.com/matplotlib/4GXojnYSjgrrezCPMMy4on\n",
                "_ = ax.plot(x, y1, marker=\"s\", label=\"data: y1\")\n",
                "_ = ax.plot(x, y2, marker=\"o\", label=\"data: y2\")\n",
                "\n",
                "# 设置 x 轴和 y 轴的刻度\n",
                "ax.set_xticks(x)\n",
                "ax.set_yticks([0.3, 0.35, 0.40, 0.45])\n",
                "\n",
                "# 设置 x 轴和 y 轴的轴标签，加粗显示\n",
                "ax.set_xlabel(\"x (unit)\", fontweight=\"bold\")\n",
                "ax.set_ylabel(\"y (unit)\", fontweight=\"bold\")\n",
                "\n",
                "# 添加图例\n",
                "_ = ax.legend(frameon=False, loc=0, title=\"\")\n",
                "\n",
                "# 保存图片\n",
                "# plt.savefig('添加标识符的折线图.png', dpi=300)\n",
                "\n",
                "# 显示图形\n",
                "plt.show()"
            ]
        }
    ],
    "metadata": {
        "kernelspec": {
            "display_name": "Python 3",
            "language": "python",
            "name": "python3"
        },
        "language_info": {
            "codemirror_mode": {
                "name": "ipython",
                "version": 3
            },
            "file_extension": ".py",
            "mimetype": "text/x-python",
            "name": "python",
            "nbconvert_exporter": "python",
            "pygments_lexer": "ipython3",
            "version": "3.13.1"
        }
    },
    "nbformat": 4,
    "nbformat_minor": 2
}

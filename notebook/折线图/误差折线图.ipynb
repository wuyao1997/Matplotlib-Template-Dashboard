{
    "cells": [
        {
            "cell_type": "markdown",
            "metadata": {},
            "source": [
                "# \u8bef\u5dee\u6298\u7ebf\u56fe\n",
                "\n",
                "> [\u66f4\u591a\u7ed8\u56fe\uff0c\u5c3d\u5728\u201cmatplotlib\u5236\u56fe\u5e08\u201d](https://www.wolai.com/matplotlib/uecbhR3MHhaZkK55za779h)\n",
                "\n",
                "## 1. \u5bfc\u5165\u76f8\u5173\u5e93"
            ]
        },
        {
            "cell_type": "code",
            "execution_count": 1,
            "metadata": {},
            "outputs": [],
            "source": [
                "# \u5bfc\u5165 matplotlib \u548c numpy \u5305\n",
                "import matplotlib.pyplot as plt\n",
                "import numpy as np"
            ]
        },
        {
            "cell_type": "markdown",
            "metadata": {},
            "source": [
                "## 2. \u51c6\u5907\u6570\u636e"
            ]
        },
        {
            "cell_type": "code",
            "execution_count": 2,
            "metadata": {},
            "outputs": [],
            "source": [
                "# \u8fd9\u91cc\u4f7f\u7528\u786c\u7f16\u7801\u5f62\u5f0f\u5b58\u50a8\u6570\u636e\uff0c\u9700\u8981\u4fdd\u8bc1\u6570\u636e\u5217\u8868\u957f\u5ea6\u76f8\u7b49\n",
                "x = [1, 2, 3, 4, 5, 6, 7]\n",
                "y1 = [0.31, 0.37, 0.42, 0.41, 0.35, 0.32, 0.30]\n",
                "y2 = [0.27, 0.31, 0.38, 0.44, 0.45, 0.39, 0.36]\n",
                "\n",
                "# \u4f7f\u7528 numpy \u751f\u6210\u4e00\u7ec4\u6b63\u6001\u5206\u5e03\u7684\u968f\u673a\u6570\uff0c\u4f5c\u4e3a\u8bef\u5dee\u6570\u636e\n",
                "np.random.seed(341126)\n",
                "err1 = 0.02 * np.random.random(len(y1))\n",
                "err2 = 0.02 * np.random.random(len(y1))"
            ]
        },
        {
            "cell_type": "markdown",
            "metadata": {},
            "source": [
                "## 3. \u8c03\u7528\u7ed8\u56feAPI"
            ]
        },
        {
            "cell_type": "code",
            "execution_count": null,
            "metadata": {},
            "outputs": [],
            "source": [
                "# \u751f\u6210\u56fe\u5f62\u5bf9\u8c61 fig \u548c \u5b50\u56fe\u5bf9\u8c61 ax\uff0c\u4f7f\u7528\u7ea6\u675f\u5e03\u5c40\u907f\u514d\u91cd\u53e0\n",
                "fig, ax = plt.subplots(constrained_layout=True)\n",
                "\n",
                "# \u4e24\u6b21\u8c03\u7528\u5750\u6807\u7cfb\u5bf9\u8c61 ax \u7684 errorbar \u65b9\u6cd5\u7ed8\u5236\u8bef\u5dee\u68d2\u56fe\n",
                "ax.errorbar(\n",
                "    x, y1, err1, c=\"orangered\", marker=\"s\", capsize=4, alpha=0.75, label=\"data: y1\"\n",
                ")\n",
                "ax.errorbar(x, y2, err2, c=\"red\", marker=\"s\", capsize=4, alpha=0.75, label=\"data: y2\")\n",
                "\n",
                "# \u8bbe\u7f6e\u8f74\u6807\u7b7e\n",
                "ax.set_xlabel(\"x (m)\", fontweight=\"bold\")\n",
                "ax.set_ylabel(r\"$\\bf{y_1}$ and $\\bf{y_2}$ (m)\", fontweight=\"bold\", labelpad=2)\n",
                "\n",
                "# \u6dfb\u52a0\u56fe\u4f8b\n",
                "ax.legend(loc=0)\n",
                "\n",
                "# \u4fdd\u5b58\u56fe\u7247\n",
                "# plt.savefig('\u8bef\u5dee\u6298\u7ebf\u56fe.png', dpi=300)\n",
                "\n",
                "# \u663e\u793a\u56fe\u7247\n",
                "plt.show()"
            ]
        }
    ],
    "metadata": {
        "kernelspec": {
            "display_name": "Python 3",
            "language": "python",
            "name": "python3"
        },
        "language_info": {
            "codemirror_mode": {
                "name": "ipython",
                "version": 3
            },
            "file_extension": ".py",
            "mimetype": "text/x-python",
            "name": "python",
            "nbconvert_exporter": "python",
            "pygments_lexer": "ipython3",
            "version": "3.13.1"
        }
    },
    "nbformat": 4,
    "nbformat_minor": 2
}
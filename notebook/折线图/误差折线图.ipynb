{
    "cells": [
        {
            "cell_type": "markdown",
            "metadata": {},
            "source": [
                "# 误差折线图\n",
                "\n",
                "> [更多绘图，尽在“matplotlib制图师”](https://www.wolai.com/matplotlib/uecbhR3MHhaZkK55za779h)\n",
                "\n",
                "## 1. 导入相关库"
            ]
        },
        {
            "cell_type": "code",
            "execution_count": 1,
            "metadata": {},
            "outputs": [],
            "source": [
                "# 导入 matplotlib 和 numpy 包\n",
                "import matplotlib.pyplot as plt\n",
                "import numpy as np"
            ]
        },
        {
            "cell_type": "markdown",
            "metadata": {},
            "source": [
                "## 2. 准备数据"
            ]
        },
        {
            "cell_type": "code",
            "execution_count": 2,
            "metadata": {},
            "outputs": [],
            "source": [
                "# 这里使用硬编码形式存储数据，需要保证数据列表长度相等\n",
                "x = [1, 2, 3, 4, 5, 6, 7]\n",
                "y1 = [0.31, 0.37, 0.42, 0.41, 0.35, 0.32, 0.30]\n",
                "y2 = [0.27, 0.31, 0.38, 0.44, 0.45, 0.39, 0.36]\n",
                "\n",
                "# 使用 numpy 生成一组正态分布的随机数，作为误差数据\n",
                "np.random.seed(341126)\n",
                "err1 = 0.02 * np.random.random(len(y1))\n",
                "err2 = 0.02 * np.random.random(len(y1))"
            ]
        },
        {
            "cell_type": "markdown",
            "metadata": {},
            "source": [
                "## 3. 调用绘图API"
            ]
        },
        {
            "cell_type": "code",
            "execution_count": null,
            "metadata": {},
            "outputs": [],
            "source": [
                "# 生成图形对象 fig 和 子图对象 ax，使用约束布局避免重叠\n",
                "fig, ax = plt.subplots(constrained_layout=True)\n",
                "\n",
                "# 两次调用坐标系对象 ax 的 errorbar 方法绘制误差棒图\n",
                "# 参数详见 https://www.wolai.com/matplotlib/6QuMVNfhxsMMnMp7VSpkUk\n",
                "ax.errorbar(\n",
                "    x, y1, err1, c=\"orangered\", marker=\"s\", capsize=4, alpha=0.75, label=\"data: y1\"\n",
                ")\n",
                "ax.errorbar(x, y2, err2, c=\"red\", marker=\"s\", capsize=4, alpha=0.75, label=\"data: y2\")\n",
                "\n",
                "# 设置轴标签\n",
                "ax.set_xlabel(\"x (m)\", fontweight=\"bold\")\n",
                "ax.set_ylabel(r\"$\\bf{y_1}$ and $\\bf{y_2}$ (m)\", fontweight=\"bold\", labelpad=2)\n",
                "\n",
                "# 添加图例\n",
                "ax.legend(loc=0)\n",
                "\n",
                "# 保存图片\n",
                "# plt.savefig('误差折线图.png', dpi=300)\n",
                "\n",
                "# 显示图片\n",
                "plt.show()"
            ]
        }
    ],
    "metadata": {
        "kernelspec": {
            "display_name": "Python 3",
            "language": "python",
            "name": "python3"
        },
        "language_info": {
            "codemirror_mode": {
                "name": "ipython",
                "version": 3
            },
            "file_extension": ".py",
            "mimetype": "text/x-python",
            "name": "python",
            "nbconvert_exporter": "python",
            "pygments_lexer": "ipython3",
            "version": "3.13.1"
        }
    },
    "nbformat": 4,
    "nbformat_minor": 2
}

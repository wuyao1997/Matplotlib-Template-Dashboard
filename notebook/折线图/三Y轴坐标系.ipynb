{
    "cells": [
        {
            "cell_type": "markdown",
            "metadata": {},
            "source": [
                "# 三Y轴坐标系\n",
                "\n",
                "> [更多绘图，尽在“matplotlib制图师”](https://www.wolai.com/matplotlib/uecbhR3MHhaZkK55za779h)\n",
                "\n",
                "## 1. 导入相关库"
            ]
        },
        {
            "cell_type": "code",
            "execution_count": 1,
            "metadata": {},
            "outputs": [],
            "source": [
                "# 导入 matplotlib\n",
                "import matplotlib.pyplot as plt"
            ]
        },
        {
            "cell_type": "markdown",
            "metadata": {},
            "source": [
                "## 2. 准备数据"
            ]
        },
        {
            "cell_type": "code",
            "execution_count": 2,
            "metadata": {},
            "outputs": [],
            "source": [
                "x = [1, 2, 3, 4, 5, 6, 7]\n",
                "y1 = [0.31, 0.37, 0.42, 0.41, 0.35, 0.32, 0.30]\n",
                "y2 = [2.7, 3.1, 3.88, 4.4, 4.5, 3.9, 3.6]\n",
                "y3 = [2.7, 31, 388, 1.4e3, 2.5e4, 2.9e5, 1.1e6]"
            ]
        },
        {
            "cell_type": "markdown",
            "metadata": {},
            "source": [
                "## 3. 调用绘图API"
            ]
        },
        {
            "cell_type": "code",
            "execution_count": 23,
            "metadata": {},
            "outputs": [],
            "source": [
                "# 轴、刻度、数据的颜色\n",
                "color1 = \"orangered\"\n",
                "color2 = \"dodgerblue\"\n",
                "color3 = \"deeppink\"\n",
                "\n",
                "# 生成图形对象 fig 和 子图对象 ax1，使用约束布局避免重叠\n",
                "# 适当增加图像宽度，用于呈现增加的Y轴\n",
                "fig, ax1 = plt.subplots(figsize=(4.2, 3), constrained_layout=True)\n",
                "\n",
                "# 在原始坐标系上绘制折线图，参数详见 https://www.wolai.com/matplotlib/4GXojnYSjgrrezCPMMy4on\n",
                "_ = ax1.plot(x, y1, color=color1, marker=\"s\", label=\"data: y1\")\n",
                "ax1.set_ylim(0.29, 0.45)\n",
                "ax1.set_yticks([0.3, 0.35, 0.40])\n",
                "ax1.set_ylabel(\"y1 (unit)\", color=color1, fontweight=\"bold\")\n",
                "\n",
                "# 生成原始坐标系 ax1 的X方向镜像坐标系对象 ax2，并绘制数据折线\n",
                "ax2 = ax1.twinx()\n",
                "_ = ax2.plot(x, y2, color=color2, marker=\"o\", label=\"data: y2\")\n",
                "ax2.set_ylim(2.4, 5.0)\n",
                "ax2.set_yticks([2.5, 3.5, 4.5])\n",
                "ax2.set_ylabel(\"y2 (unit)\", color=color2, fontweight=\"bold\")\n",
                "\n",
                "# 再次生成原始坐标系 ax1 的另一个X方向镜像坐标系对象 ax3，并绘制数据折线\n",
                "ax3 = ax1.twinx()\n",
                "_ = ax3.plot(x, y3, color=color3, marker=\"*\", label=\"data: y3\")\n",
                "ax3.set_yscale(\"log\")\n",
                "ax3.set_ylim(1.0, 9.0e6)\n",
                "ax3.set_ylabel(\"y3 (unit)\", color=color3, fontweight=\"bold\")\n",
                "# 移动第三个Y轴到外侧，和第二个Y轴错开一段距离，避免遮挡\n",
                "ax3.spines[\"right\"].set_position((\"outward\", 40))\n",
                "\n",
                "# 设置刻度颜色\n",
                "ax1.tick_params(axis=\"y\", colors=color1)\n",
                "ax2.tick_params(axis=\"y\", colors=color2)\n",
                "ax3.tick_params(axis=\"y\", which=\"both\", colors=color3)\n",
                "\n",
                "# 设置三个Y轴对应的边框颜色\n",
                "ax1.spines[\"left\"].set_color(color1)\n",
                "ax2.spines[\"right\"].set_color(color2)\n",
                "ax3.spines[\"right\"].set_color(color3)\n",
                "\n",
                "# 隐藏两个孪生坐标系的左边轴，防止遮挡原始坐标系的 Y 轴\n",
                "ax2.spines[\"left\"].set_visible(False)\n",
                "ax3.spines[\"left\"].set_visible(False)\n",
                "\n",
                "# 依次为三个坐标系添加legend\n",
                "_ = ax1.legend(frameon=False, loc=\"upper left\", title=\"\")\n",
                "_ = ax2.legend(frameon=False, loc=\"upper center\", title=\"\")\n",
                "_ = ax3.legend(frameon=False, loc=\"upper right\", title=\"\")\n",
                "\n",
                "# 设置三个坐标系共用的X轴\n",
                "ax1.set_xticks(x)\n",
                "ax1.set_xlabel(\"x (unit)\", fontweight=\"bold\")\n",
                "\n",
                "# 保存图片\n",
                "# plt.savefig(\"三Y轴坐标系.png\", dpi=300)\n",
                "\n",
                "# 显示图片\n",
                "plt.show()"
            ]
        }
    ],
    "metadata": {
        "kernelspec": {
            "display_name": "Python 3",
            "language": "python",
            "name": "python3"
        },
        "language_info": {
            "codemirror_mode": {
                "name": "ipython",
                "version": 3
            },
            "file_extension": ".py",
            "mimetype": "text/x-python",
            "name": "python",
            "nbconvert_exporter": "python",
            "pygments_lexer": "ipython3",
            "version": "3.13.1"
        }
    },
    "nbformat": 4,
    "nbformat_minor": 2
}

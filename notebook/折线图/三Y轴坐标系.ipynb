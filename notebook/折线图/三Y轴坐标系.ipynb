{
    "cells": [
        {
            "cell_type": "markdown",
            "metadata": {},
            "source": [
                "# \u4e09Y\u8f74\u5750\u6807\u7cfb\n",
                "\n",
                "> [\u66f4\u591a\u7ed8\u56fe\uff0c\u5c3d\u5728\u201cmatplotlib\u5236\u56fe\u5e08\u201d](https://www.wolai.com/matplotlib/uecbhR3MHhaZkK55za779h)\n",
                "\n",
                "## 1. \u5bfc\u5165\u76f8\u5173\u5e93"
            ]
        },
        {
            "cell_type": "code",
            "execution_count": 1,
            "metadata": {},
            "outputs": [],
            "source": [
                "# \u5bfc\u5165 matplotlib\n",
                "import matplotlib.pyplot as plt"
            ]
        },
        {
            "cell_type": "markdown",
            "metadata": {},
            "source": [
                "## 2. \u51c6\u5907\u6570\u636e"
            ]
        },
        {
            "cell_type": "code",
            "execution_count": 2,
            "metadata": {},
            "outputs": [],
            "source": [
                "x = [1, 2, 3, 4, 5, 6, 7]\n",
                "y1 = [0.31, 0.37, 0.42, 0.41, 0.35, 0.32, 0.30]\n",
                "y2 = [2.7, 3.1, 3.88, 4.4, 4.5, 3.9, 3.6]\n",
                "y3 = [2.7, 31, 388, 1.4e3, 2.5e4, 2.9e5, 1.1e6]"
            ]
        },
        {
            "cell_type": "markdown",
            "metadata": {},
            "source": [
                "## 3. \u8c03\u7528\u7ed8\u56feAPI"
            ]
        },
        {
            "cell_type": "code",
            "execution_count": 23,
            "metadata": {},
            "outputs": [],
            "source": [
                "# \u8f74\u3001\u523b\u5ea6\u3001\u6570\u636e\u7684\u989c\u8272\n",
                "color1 = \"orangered\"\n",
                "color2 = \"dodgerblue\"\n",
                "color3 = \"deeppink\"\n",
                "\n",
                "# \u751f\u6210\u56fe\u5f62\u5bf9\u8c61 fig \u548c \u5b50\u56fe\u5bf9\u8c61 ax1\uff0c\u4f7f\u7528\u7ea6\u675f\u5e03\u5c40\u907f\u514d\u91cd\u53e0\n",
                "# \u9002\u5f53\u589e\u52a0\u56fe\u50cf\u5bbd\u5ea6\uff0c\u7528\u4e8e\u5448\u73b0\u589e\u52a0\u7684Y\u8f74\n",
                "fig, ax1 = plt.subplots(figsize=(4.2, 3), constrained_layout=True)\n",
                "\n",
                "# \u5728\u539f\u59cb\u5750\u6807\u7cfb\u4e0a\u7ed8\u5236\u6298\u7ebf\u56fe\n",
                "_ = ax1.plot(x, y1, color=color1, marker=\"s\", label=\"data: y1\")\n",
                "ax1.set_ylim(0.29, 0.45)\n",
                "ax1.set_yticks([0.3, 0.35, 0.40])\n",
                "ax1.set_ylabel(\"y1 (unit)\", color=color1, fontweight=\"bold\")\n",
                "\n",
                "# \u751f\u6210\u539f\u59cb\u5750\u6807\u7cfb ax1 \u7684X\u65b9\u5411\u955c\u50cf\u5750\u6807\u7cfb\u5bf9\u8c61 ax2\uff0c\u5e76\u7ed8\u5236\u6570\u636e\u6298\u7ebf\n",
                "ax2 = ax1.twinx()\n",
                "_ = ax2.plot(x, y2, color=color2, marker=\"o\", label=\"data: y2\")\n",
                "ax2.set_ylim(2.4, 5.0)\n",
                "ax2.set_yticks([2.5, 3.5, 4.5])\n",
                "ax2.set_ylabel(\"y2 (unit)\", color=color2, fontweight=\"bold\")\n",
                "\n",
                "# \u518d\u6b21\u751f\u6210\u539f\u59cb\u5750\u6807\u7cfb ax1 \u7684\u53e6\u4e00\u4e2aX\u65b9\u5411\u955c\u50cf\u5750\u6807\u7cfb\u5bf9\u8c61 ax3\uff0c\u5e76\u7ed8\u5236\u6570\u636e\u6298\u7ebf\n",
                "ax3 = ax1.twinx()\n",
                "_ = ax3.plot(x, y3, color=color3, marker=\"*\", label=\"data: y3\")\n",
                "ax3.set_yscale(\"log\")\n",
                "ax3.set_ylim(1.0, 9.0e6)\n",
                "ax3.set_ylabel(\"y3 (unit)\", color=color3, fontweight=\"bold\")\n",
                "# \u79fb\u52a8\u7b2c\u4e09\u4e2aY\u8f74\u5230\u5916\u4fa7\uff0c\u548c\u7b2c\u4e8c\u4e2aY\u8f74\u9519\u5f00\u4e00\u6bb5\u8ddd\u79bb\uff0c\u907f\u514d\u906e\u6321\n",
                "ax3.spines[\"right\"].set_position((\"outward\", 40))\n",
                "\n",
                "# \u8bbe\u7f6e\u523b\u5ea6\u989c\u8272\n",
                "ax1.tick_params(axis=\"y\", colors=color1)\n",
                "ax2.tick_params(axis=\"y\", colors=color2)\n",
                "ax3.tick_params(axis=\"y\", which=\"both\", colors=color3)\n",
                "\n",
                "# \u8bbe\u7f6e\u4e09\u4e2aY\u8f74\u5bf9\u5e94\u7684\u8fb9\u6846\u989c\u8272\n",
                "ax1.spines[\"left\"].set_color(color1)\n",
                "ax2.spines[\"right\"].set_color(color2)\n",
                "ax3.spines[\"right\"].set_color(color3)\n",
                "\n",
                "# \u9690\u85cf\u4e24\u4e2a\u5b6a\u751f\u5750\u6807\u7cfb\u7684\u5de6\u8fb9\u8f74\uff0c\u9632\u6b62\u906e\u6321\u539f\u59cb\u5750\u6807\u7cfb\u7684 Y \u8f74\n",
                "ax2.spines[\"left\"].set_visible(False)\n",
                "ax3.spines[\"left\"].set_visible(False)\n",
                "\n",
                "# \u4f9d\u6b21\u4e3a\u4e09\u4e2a\u5750\u6807\u7cfb\u6dfb\u52a0legend\n",
                "_ = ax1.legend(frameon=False, loc=\"upper left\", title=\"\")\n",
                "_ = ax2.legend(frameon=False, loc=\"upper center\", title=\"\")\n",
                "_ = ax3.legend(frameon=False, loc=\"upper right\", title=\"\")\n",
                "\n",
                "# \u8bbe\u7f6e\u4e09\u4e2a\u5750\u6807\u7cfb\u5171\u7528\u7684X\u8f74\n",
                "ax1.set_xticks(x)\n",
                "ax1.set_xlabel(\"x (unit)\", fontweight=\"bold\")\n",
                "\n",
                "# \u4fdd\u5b58\u56fe\u7247\n",
                "# plt.savefig(\"\u4e09Y\u8f74\u5750\u6807\u7cfb.png\", dpi=300)\n",
                "\n",
                "# \u663e\u793a\u56fe\u7247\n",
                "plt.show()"
            ]
        }
    ],
    "metadata": {
        "kernelspec": {
            "display_name": "Python 3",
            "language": "python",
            "name": "python3"
        },
        "language_info": {
            "codemirror_mode": {
                "name": "ipython",
                "version": 3
            },
            "file_extension": ".py",
            "mimetype": "text/x-python",
            "name": "python",
            "nbconvert_exporter": "python",
            "pygments_lexer": "ipython3",
            "version": "3.13.1"
        }
    },
    "nbformat": 4,
    "nbformat_minor": 2
}
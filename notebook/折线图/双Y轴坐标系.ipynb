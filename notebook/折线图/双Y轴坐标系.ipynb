{
    "cells": [
        {
            "cell_type": "markdown",
            "metadata": {},
            "source": [
                "# \u53ccY\u8f74\u5750\u6807\u7cfb\n",
                "\n",
                "> [\u66f4\u591a\u7ed8\u56fe\uff0c\u5c3d\u5728\u201cmatplotlib\u5236\u56fe\u5e08\u201d](https://www.wolai.com/matplotlib/uecbhR3MHhaZkK55za779h)\n",
                "\n",
                "## 1. \u5bfc\u5165\u76f8\u5173\u5e93"
            ]
        },
        {
            "cell_type": "code",
            "execution_count": 1,
            "metadata": {},
            "outputs": [],
            "source": [
                "# \u5bfc\u5165 matplotlib\n",
                "import matplotlib.pyplot as plt"
            ]
        },
        {
            "cell_type": "markdown",
            "metadata": {},
            "source": [
                "## 2. \u51c6\u5907\u6570\u636e"
            ]
        },
        {
            "cell_type": "code",
            "execution_count": 2,
            "metadata": {},
            "outputs": [],
            "source": [
                "x = [1, 2, 3, 4, 5, 6, 7]\n",
                "y1 = [0.31, 0.37, 0.42, 0.41, 0.35, 0.32, 0.30]\n",
                "y2 = [2.7, 3.1, 3.88, 4.4, 4.5, 3.9, 3.6]"
            ]
        },
        {
            "cell_type": "markdown",
            "metadata": {},
            "source": [
                "## 3. \u8c03\u7528\u7ed8\u56feAPI"
            ]
        },
        {
            "cell_type": "code",
            "execution_count": null,
            "metadata": {},
            "outputs": [],
            "source": [
                "# \u5de6\u53f3\u4e24\u8f74\u7684\u989c\u8272\uff0c\u8fd9\u91cc\u7684\"C0\"\u548c\"C1\"\u53d6\u81ea\u914d\u7f6e\u6587\u4ef6\u4e2d \"axes.prop_cycle\" \u4e2d\u7684\u989c\u8272\u5217\u8868\n",
                "color_left = \"C0\"\n",
                "color_right = \"C1\"\n",
                "\n",
                "# \u751f\u6210\u56fe\u5f62\u5bf9\u8c61 fig \u548c \u5b50\u56fe\u5bf9\u8c61 ax\uff0c\u4f7f\u7528\u7ea6\u675f\u5e03\u5c40\u907f\u514d\u91cd\u53e0\n",
                "# \u9002\u5f53\u589e\u52a0\u56fe\u50cf\u5bbd\u5ea6\uff0c\u7528\u4e8e\u5448\u73b0\u589e\u52a0\u7684Y\u8f74\n",
                "fig, ax = plt.subplots(figsize=(3.5, 2.8), constrained_layout=True)\n",
                "\n",
                "# \u5728\u539f\u59cb\u5750\u6807\u7cfb\u4e0a\u7ed8\u5236\u6298\u7ebf\u56fe\uff0c\u8bbe\u7f6eY\u8f74\u3001\u523b\u5ea6\uff0c\u6dfb\u52a0\u56fe\u4f8b\n",
                "_ = ax.plot(x, y1, color=color_left, marker=\"s\", label=\"data: y1\")\n",
                "ax.set_ylim(0.29, 0.46)\n",
                "ax.set_yticks([0.3, 0.35, 0.40, 0.45])\n",
                "ax.set_ylabel(\"y (unit)\", fontweight=\"bold\", color=color_left)\n",
                "ax.tick_params(axis=\"y\", colors=color_left)\n",
                "ax.spines[\"left\"].set_color(color_left)\n",
                "ax.legend(loc=\"upper left\")\n",
                "\n",
                "# \u751f\u6210\u539f\u59cb\u5750\u6807\u7cfb\u7684X\u65b9\u5411\u955c\u50cf\u5750\u6807\u7cfb\uff0c\u4e24\u8005\u5171\u7528X\u8f74\n",
                "# \u65b0\u5750\u6807\u7cfb\u7684Y\u8f74\u9ed8\u8ba4\u4f4d\u4e8e\u5750\u6807\u7cfb\u53f3\u4fa7\n",
                "# \u5728\u65b0\u5750\u6807\u7cfb\u4e0a\u7ed8\u5236\u6298\u7ebf\u56fe\uff0c\u8bbe\u7f6eY\u8f74\u3001\u523b\u5ea6\uff0c\u6dfb\u52a0\u56fe\u4f8b\n",
                "ax2 = ax.twinx()\n",
                "_ = ax2.plot(x, y2, color=color_right, marker=\"o\", label=\"data: y2\")\n",
                "ax2.set_ylim(2.4, 5.0)\n",
                "ax2.set_yticks([2.5, 3.5, 4.5])\n",
                "ax2.set_ylabel(\"y2 (unit)\", fontweight=\"bold\", color=color_right)\n",
                "ax2.tick_params(axis=\"y\", colors=color_right)\n",
                "ax2.spines[\"right\"].set_color(color_right)\n",
                "# \u9690\u85cf\u65b0\u5750\u6807\u7cfb\u5de6\u4fa7\u7684\u8fb9\u6846\uff0c\u9632\u6b62\u906e\u6321\u539f\u59cb\u5750\u6807\u7cfb\u7684Y\u8f74\n",
                "ax2.spines[\"left\"].set_visible(False)\n",
                "ax2.legend(loc=\"upper right\")\n",
                "\n",
                "# \u8bbe\u7f6e\u4e24\u4e2a\u5750\u6807\u7cfb\u5171\u7528\u7684X\u8f74\n",
                "ax.set_xticks(x)\n",
                "ax.set_xlabel(\"x (unit)\", fontweight=\"bold\")\n",
                "\n",
                "# \u4fdd\u5b58\u56fe\u7247\n",
                "# plt.savefig('\u53ccY\u8f74\u5750\u6807\u7cfb.png', dpi=300, bbox_inches='tight')\n",
                "\n",
                "# \u663e\u793a\u56fe\u7247\n",
                "plt.show()"
            ]
        }
    ],
    "metadata": {
        "kernelspec": {
            "display_name": "Python 3",
            "language": "python",
            "name": "python3"
        },
        "language_info": {
            "codemirror_mode": {
                "name": "ipython",
                "version": 3
            },
            "file_extension": ".py",
            "mimetype": "text/x-python",
            "name": "python",
            "nbconvert_exporter": "python",
            "pygments_lexer": "ipython3",
            "version": "3.13.1"
        }
    },
    "nbformat": 4,
    "nbformat_minor": 2
}
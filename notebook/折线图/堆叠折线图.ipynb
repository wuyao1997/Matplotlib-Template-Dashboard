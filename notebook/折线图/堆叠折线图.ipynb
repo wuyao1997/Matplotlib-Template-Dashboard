{
    "cells": [
        {
            "cell_type": "markdown",
            "metadata": {},
            "source": [
                "# \u5806\u53e0\u6298\u7ebf\u56fe\n",
                "\n",
                "> [\u66f4\u591a\u7ed8\u56fe\uff0c\u5c3d\u5728\u201cmatplotlib\u5236\u56fe\u5e08\u201d](https://www.wolai.com/matplotlib/uecbhR3MHhaZkK55za779h)\n",
                "\n",
                "## 1. \u5bfc\u5165\u76f8\u5173\u5e93"
            ]
        },
        {
            "cell_type": "code",
            "execution_count": 4,
            "metadata": {},
            "outputs": [],
            "source": [
                "# \u5bfc\u5165 matplotlib \u548c numpy \u5305\n",
                "import matplotlib.pyplot as plt"
            ]
        },
        {
            "cell_type": "markdown",
            "metadata": {},
            "source": [
                "## 2. \u51c6\u5907\u6570\u636e"
            ]
        },
        {
            "cell_type": "code",
            "execution_count": 5,
            "metadata": {},
            "outputs": [],
            "source": [
                "# data from United Nations World Population Prospects (Revision 2019)\n",
                "# https://population.un.org/wpp/, license: CC BY 3.0 IGO\n",
                "year = [1950, 1960, 1970, 1980, 1990, 2000, 2010, 2018]\n",
                "population_by_continent = {\n",
                "    \"Africa\": [228, 284, 365, 477, 631, 814, 1044, 1275],\n",
                "    \"Americas\": [340, 425, 519, 619, 727, 840, 943, 1006],\n",
                "    \"Asia\": [1394, 1686, 2120, 2625, 3202, 3714, 4169, 4560],\n",
                "    \"Europe\": [220, 253, 276, 295, 310, 303, 294, 293],\n",
                "    \"Oceania\": [12, 15, 19, 22, 26, 31, 36, 39],\n",
                "}"
            ]
        },
        {
            "cell_type": "markdown",
            "metadata": {},
            "source": [
                "## 3. \u8c03\u7528\u7ed8\u56feAPI"
            ]
        },
        {
            "cell_type": "code",
            "execution_count": 6,
            "metadata": {},
            "outputs": [],
            "source": [
                "# \u751f\u6210\u56fe\u5f62\u5bf9\u8c61 fig \u548c \u5b50\u56fe\u5bf9\u8c61 ax\uff0c\u4f7f\u7528\u7ea6\u675f\u5e03\u5c40\u907f\u514d\u91cd\u53e0\n",
                "fig, ax = plt.subplots(constrained_layout=True)\n",
                "\n",
                "# \u8c03\u7528\u5750\u6807\u7cfb\u7684stackplot\u65b9\u6cd5\u7ed8\u5236\u5806\u53e0\u6298\u7ebf\u56fe\n",
                "ax.stackplot(\n",
                "    year,\n",
                "    population_by_continent.values(),\n",
                "    labels=population_by_continent.keys(),\n",
                "    alpha=0.8,\n",
                ")\n",
                "\n",
                "# \u8bbe\u7f6ex\u8f74\u8303\u56f4\u548c\u523b\u5ea6\u4f4d\u7f6e\n",
                "ax.set_xlim(1950, 2018)\n",
                "ax.set_xticks([1960, 1970, 1980, 1990, 2000, 2010])\n",
                "\n",
                "# \u8bbe\u7f6e\u8f74\u6807\u7b7e\n",
                "ax.set_xlabel(\"Year\", fontweight=\"bold\")\n",
                "ax.set_ylabel(\"Number of people (millions)\", fontweight=\"bold\")\n",
                "\n",
                "# \u6dfb\u52a0\u56fe\u4f8b\uff0c\u53cd\u5e8f\u4fdd\u8bc1\u56fe\u4f8b\u987a\u5e8f\u548c\u5806\u53e0\u987a\u5e8f\u4e00\u81f4\n",
                "ax.legend(loc=\"upper left\", handlelength=1.2, reverse=True)\n",
                "\n",
                "# \u4fdd\u5b58\u56fe\u7247\n",
                "# plt.savefig('./\u5806\u53e0\u6298\u7ebf\u56fe.png', dpi=300)\n",
                "\n",
                "# \u663e\u793a\u56fe\u7247\n",
                "plt.show()"
            ]
        }
    ],
    "metadata": {
        "kernelspec": {
            "display_name": "Python 3",
            "language": "python",
            "name": "python3"
        },
        "language_info": {
            "codemirror_mode": {
                "name": "ipython",
                "version": 3
            },
            "file_extension": ".py",
            "mimetype": "text/x-python",
            "name": "python",
            "nbconvert_exporter": "python",
            "pygments_lexer": "ipython3",
            "version": "3.13.1"
        }
    },
    "nbformat": 4,
    "nbformat_minor": 2
}
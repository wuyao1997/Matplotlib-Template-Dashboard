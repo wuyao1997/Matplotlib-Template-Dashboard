{
    "cells": [
        {
            "cell_type": "markdown",
            "metadata": {},
            "source": [
                "# 堆叠折线图\n",
                "\n",
                "> [更多绘图，尽在“matplotlib制图师”](https://www.wolai.com/matplotlib/uecbhR3MHhaZkK55za779h)\n",
                "\n",
                "## 1. 导入相关库"
            ]
        },
        {
            "cell_type": "code",
            "execution_count": 4,
            "metadata": {},
            "outputs": [],
            "source": [
                "# 导入 matplotlib 和 numpy 包\n",
                "import matplotlib.pyplot as plt"
            ]
        },
        {
            "cell_type": "markdown",
            "metadata": {},
            "source": [
                "## 2. 准备数据"
            ]
        },
        {
            "cell_type": "code",
            "execution_count": 5,
            "metadata": {},
            "outputs": [],
            "source": [
                "# data from United Nations World Population Prospects (Revision 2019)\n",
                "# https://population.un.org/wpp/, license: CC BY 3.0 IGO\n",
                "year = [1950, 1960, 1970, 1980, 1990, 2000, 2010, 2018]\n",
                "population_by_continent = {\n",
                "    \"Africa\": [228, 284, 365, 477, 631, 814, 1044, 1275],\n",
                "    \"Americas\": [340, 425, 519, 619, 727, 840, 943, 1006],\n",
                "    \"Asia\": [1394, 1686, 2120, 2625, 3202, 3714, 4169, 4560],\n",
                "    \"Europe\": [220, 253, 276, 295, 310, 303, 294, 293],\n",
                "    \"Oceania\": [12, 15, 19, 22, 26, 31, 36, 39],\n",
                "}"
            ]
        },
        {
            "cell_type": "markdown",
            "metadata": {},
            "source": [
                "## 3. 调用绘图API"
            ]
        },
        {
            "cell_type": "code",
            "execution_count": 6,
            "metadata": {},
            "outputs": [],
            "source": [
                "# 生成图形对象 fig 和 子图对象 ax，使用约束布局避免重叠\n",
                "fig, ax = plt.subplots(constrained_layout=True)\n",
                "\n",
                "# 调用坐标系的stackplot方法绘制堆叠折线图\n",
                "# 参数详见 https://www.wolai.com/matplotlib/tbnQGfAXkMBfyGfVa1wRKi\n",
                "ax.stackplot(\n",
                "    year,\n",
                "    population_by_continent.values(),\n",
                "    labels=population_by_continent.keys(),\n",
                "    alpha=0.8,\n",
                ")\n",
                "\n",
                "# 设置x轴范围和刻度位置\n",
                "ax.set_xlim(1950, 2018)\n",
                "ax.set_xticks([1960, 1970, 1980, 1990, 2000, 2010])\n",
                "\n",
                "# 设置轴标签\n",
                "ax.set_xlabel(\"Year\", fontweight=\"bold\")\n",
                "ax.set_ylabel(\"Number of people (millions)\", fontweight=\"bold\")\n",
                "\n",
                "# 添加图例，反序保证图例顺序和堆叠顺序一致\n",
                "ax.legend(loc=\"upper left\", handlelength=1.2, reverse=True)\n",
                "\n",
                "# 保存图片\n",
                "# plt.savefig('./堆叠折线图.png', dpi=300)\n",
                "\n",
                "# 显示图片\n",
                "plt.show()"
            ]
        }
    ],
    "metadata": {
        "kernelspec": {
            "display_name": "Python 3",
            "language": "python",
            "name": "python3"
        },
        "language_info": {
            "codemirror_mode": {
                "name": "ipython",
                "version": 3
            },
            "file_extension": ".py",
            "mimetype": "text/x-python",
            "name": "python",
            "nbconvert_exporter": "python",
            "pygments_lexer": "ipython3",
            "version": "3.13.1"
        }
    },
    "nbformat": 4,
    "nbformat_minor": 2
}

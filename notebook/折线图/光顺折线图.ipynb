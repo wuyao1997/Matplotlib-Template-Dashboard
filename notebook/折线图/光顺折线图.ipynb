{
    "cells": [
        {
            "cell_type": "markdown",
            "metadata": {},
            "source": [
                "# 光顺折线图\n",
                "\n",
                "> [更多绘图，尽在“matplotlib制图师”](https://www.wolai.com/matplotlib/uecbhR3MHhaZkK55za779h)\n",
                "\n",
                "## 1. 导入相关库"
            ]
        },
        {
            "cell_type": "code",
            "execution_count": 2,
            "metadata": {},
            "outputs": [],
            "source": [
                "# 导入 matplotlib 和 numpy 包\n",
                "import matplotlib.pyplot as plt\n",
                "import numpy as np"
            ]
        },
        {
            "cell_type": "markdown",
            "metadata": {},
            "source": [
                "## 2. 准备数据"
            ]
        },
        {
            "cell_type": "code",
            "execution_count": 6,
            "metadata": {},
            "outputs": [],
            "source": [
                "x = np.linspace(0, 10, 11)\n",
                "y = [3.9, 4.4, 7.8, 9.3, 10.2, 11.1, 12.1, 11.9, 11.5, 11.0, 10.5]"
            ]
        },
        {
            "cell_type": "markdown",
            "metadata": {},
            "source": [
                "**数据拟合**"
            ]
        },
        {
            "cell_type": "code",
            "execution_count": 7,
            "metadata": {},
            "outputs": [],
            "source": [
                "# 使用 plolyfit 函数拟合二次多项式，得到二次多项式的三个系数\n",
                "a, b, c = np.polyfit(x, y, deg=2)\n",
                "\n",
                "# 基于拟合公式，新建更加稠密的数据点，使数据折线更加光滑\n",
                "N = 51\n",
                "x_fit = np.linspace(0, 10, N)\n",
                "y_fit = a * x_fit**2 + b * x_fit + c"
            ]
        },
        {
            "cell_type": "markdown",
            "metadata": {},
            "source": [
                "## 3. 调用绘图API"
            ]
        },
        {
            "cell_type": "code",
            "execution_count": 8,
            "metadata": {},
            "outputs": [],
            "source": [
                "# 生成图形对象 fig 和 子图对象 ax，使用约束布局避免重叠\n",
                "fig, ax = plt.subplots(constrained_layout=True)\n",
                "\n",
                "# 调用坐标系对象 ax 的 scatter 方法， 绘制原始数据为散点图\n",
                "ax.scatter(x, y, marker=\"o\", color=\"coral\", label=\"origin data\")\n",
                "\n",
                "# 调用坐标系对象 ax 的 plot 方法，绘制拟合曲线\n",
                "# 参数详见 https://www.wolai.com/matplotlib/4GXojnYSjgrrezCPMMy4on\n",
                "ax.plot(x_fit, y_fit, c=\"tomato\", lw=2, label=\"fit curve\")\n",
                "\n",
                "# 设置 x 轴和 y 轴的轴标签，加粗显示\n",
                "ax.set_xlabel(\"x (unit)\", fontweight=\"bold\")\n",
                "ax.set_ylabel(\"y (unit)\", fontweight=\"bold\")\n",
                "\n",
                "# 添加图例\n",
                "_ = ax.legend(frameon=False, loc=0, title=\"legend\")\n",
                "\n",
                "# 保存图片\n",
                "# plt.savefig('./光顺折线图.png', dpi=300)\n",
                "\n",
                "# 显示图像\n",
                "plt.show()"
            ]
        }
    ],
    "metadata": {
        "kernelspec": {
            "display_name": "Python 3",
            "language": "python",
            "name": "python3"
        },
        "language_info": {
            "codemirror_mode": {
                "name": "ipython",
                "version": 3
            },
            "file_extension": ".py",
            "mimetype": "text/x-python",
            "name": "python",
            "nbconvert_exporter": "python",
            "pygments_lexer": "ipython3",
            "version": "3.13.1"
        }
    },
    "nbformat": 4,
    "nbformat_minor": 2
}

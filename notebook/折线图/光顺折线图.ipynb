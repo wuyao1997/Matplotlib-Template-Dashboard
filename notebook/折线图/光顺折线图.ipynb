{
    "cells": [
        {
            "cell_type": "markdown",
            "metadata": {},
            "source": [
                "# \u5149\u987a\u6298\u7ebf\u56fe\n",
                "\n",
                "> [\u66f4\u591a\u7ed8\u56fe\uff0c\u5c3d\u5728\u201cmatplotlib\u5236\u56fe\u5e08\u201d](https://www.wolai.com/matplotlib/uecbhR3MHhaZkK55za779h)\n",
                "\n",
                "## 1. \u5bfc\u5165\u76f8\u5173\u5e93"
            ]
        },
        {
            "cell_type": "code",
            "execution_count": 2,
            "metadata": {},
            "outputs": [],
            "source": [
                "# \u5bfc\u5165 matplotlib \u548c numpy \u5305\n",
                "import matplotlib.pyplot as plt\n",
                "import numpy as np"
            ]
        },
        {
            "cell_type": "markdown",
            "metadata": {},
            "source": [
                "## 2. \u51c6\u5907\u6570\u636e"
            ]
        },
        {
            "cell_type": "code",
            "execution_count": 6,
            "metadata": {},
            "outputs": [],
            "source": [
                "x = np.linspace(0, 10, 11)\n",
                "y = [3.9, 4.4, 7.8, 9.3, 10.2, 11.1, 12.1, 11.9, 11.5, 11.0, 10.5]"
            ]
        },
        {
            "cell_type": "markdown",
            "metadata": {},
            "source": [
                "**\u6570\u636e\u62df\u5408**"
            ]
        },
        {
            "cell_type": "code",
            "execution_count": 7,
            "metadata": {},
            "outputs": [],
            "source": [
                "# \u4f7f\u7528 plolyfit \u51fd\u6570\u62df\u5408\u4e8c\u6b21\u591a\u9879\u5f0f\uff0c\u5f97\u5230\u4e8c\u6b21\u591a\u9879\u5f0f\u7684\u4e09\u4e2a\u7cfb\u6570\n",
                "a, b, c = np.polyfit(x, y, deg=2)\n",
                "\n",
                "# \u57fa\u4e8e\u62df\u5408\u516c\u5f0f\uff0c\u65b0\u5efa\u66f4\u52a0\u7a20\u5bc6\u7684\u6570\u636e\u70b9\uff0c\u4f7f\u6570\u636e\u6298\u7ebf\u66f4\u52a0\u5149\u6ed1\n",
                "N = 51\n",
                "x_fit = np.linspace(0, 10, N)\n",
                "y_fit = a * x_fit**2 + b * x_fit + c"
            ]
        },
        {
            "cell_type": "markdown",
            "metadata": {},
            "source": [
                "## 3. \u8c03\u7528\u7ed8\u56feAPI"
            ]
        },
        {
            "cell_type": "code",
            "execution_count": 8,
            "metadata": {},
            "outputs": [],
            "source": [
                "# \u751f\u6210\u56fe\u5f62\u5bf9\u8c61 fig \u548c \u5b50\u56fe\u5bf9\u8c61 ax\uff0c\u4f7f\u7528\u7ea6\u675f\u5e03\u5c40\u907f\u514d\u91cd\u53e0\n",
                "fig, ax = plt.subplots(constrained_layout=True)\n",
                "\n",
                "# \u8c03\u7528\u5750\u6807\u7cfb\u5bf9\u8c61 ax \u7684 scatter \u65b9\u6cd5\uff0c \u7ed8\u5236\u539f\u59cb\u6570\u636e\u4e3a\u6563\u70b9\u56fe\n",
                "ax.scatter(x, y, marker=\"o\", color=\"coral\", label=\"origin data\")\n",
                "\n",
                "# \u8c03\u7528\u5750\u6807\u7cfb\u5bf9\u8c61 ax \u7684 plot \u65b9\u6cd5\uff0c\u7ed8\u5236\u62df\u5408\u66f2\u7ebf\n",
                "ax.plot(x_fit, y_fit, c=\"tomato\", lw=2, label=\"fit curve\")\n",
                "\n",
                "# \u8bbe\u7f6e x \u8f74\u548c y \u8f74\u7684\u8f74\u6807\u7b7e\uff0c\u52a0\u7c97\u663e\u793a\n",
                "ax.set_xlabel(\"x (unit)\", fontweight=\"bold\")\n",
                "ax.set_ylabel(\"y (unit)\", fontweight=\"bold\")\n",
                "\n",
                "# \u6dfb\u52a0\u56fe\u4f8b\n",
                "_ = ax.legend(frameon=False, loc=0, title=\"legend\")\n",
                "\n",
                "# \u4fdd\u5b58\u56fe\u7247\n",
                "# plt.savefig('./\u5149\u987a\u6298\u7ebf\u56fe.png', dpi=300)\n",
                "\n",
                "# \u663e\u793a\u56fe\u50cf\n",
                "plt.show()"
            ]
        }
    ],
    "metadata": {
        "kernelspec": {
            "display_name": "Python 3",
            "language": "python",
            "name": "python3"
        },
        "language_info": {
            "codemirror_mode": {
                "name": "ipython",
                "version": 3
            },
            "file_extension": ".py",
            "mimetype": "text/x-python",
            "name": "python",
            "nbconvert_exporter": "python",
            "pygments_lexer": "ipython3",
            "version": "3.13.1"
        }
    },
    "nbformat": 4,
    "nbformat_minor": 2
}
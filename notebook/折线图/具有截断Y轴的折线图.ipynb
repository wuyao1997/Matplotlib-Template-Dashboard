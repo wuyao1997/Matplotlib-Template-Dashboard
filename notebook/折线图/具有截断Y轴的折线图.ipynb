{
    "cells": [
        {
            "cell_type": "markdown",
            "metadata": {},
            "source": [
                "# \u5177\u6709\u622a\u65adY\u8f74\u7684\u6298\u7ebf\u56fe\n",
                "\n",
                "> [\u66f4\u591a\u7ed8\u56fe\uff0c\u5c3d\u5728\u201cmatplotlib\u5236\u56fe\u5e08\u201d](https://www.wolai.com/matplotlib/uecbhR3MHhaZkK55za779h)\n",
                "\n",
                "## 1. \u5bfc\u5165\u76f8\u5173\u5e93"
            ]
        },
        {
            "cell_type": "code",
            "execution_count": 21,
            "metadata": {},
            "outputs": [],
            "source": [
                "# \u5bfc\u5165 matplotlib \u548c numpy \u5305\n",
                "import matplotlib.pyplot as plt"
            ]
        },
        {
            "cell_type": "markdown",
            "metadata": {},
            "source": [
                "## 2. \u51c6\u5907\u6570\u636e"
            ]
        },
        {
            "cell_type": "code",
            "execution_count": 22,
            "metadata": {},
            "outputs": [],
            "source": [
                "x = [1, 2, 3, 4, 5, 6, 7]\n",
                "y1 = [0.31, 0.37, 0.42, 0.41, 0.35, 0.32, 0.30]\n",
                "y2 = [0.27, 0.31, 0.388, 4.4, 4.5, 3.9, 3.6]"
            ]
        },
        {
            "cell_type": "markdown",
            "metadata": {},
            "source": [
                "## 3. \u8c03\u7528\u7ed8\u56feAPI\n",
                "\n",
                "- \u76ee\u524d\u901a\u8fc7\u53cc\u5750\u6807\u7cfb\u6765\u5b9e\u73b0\u8fd1\u4f3c\u5750\u6807\u8f74\u622a\u65ad\u6548\u679c"
            ]
        },
        {
            "cell_type": "code",
            "execution_count": 26,
            "metadata": {},
            "outputs": [],
            "source": [
                "# \u751f\u6210\u56fe\u5f62\u5bf9\u8c61 fig \u548c \u4e24\u4e2a\u5750\u6807\u7cfb\u5bf9\u8c61 ax1 \u548c ax2\n",
                "fig, (ax1, ax2) = plt.subplots(\n",
                "    2, 1, sharex=True, figsize=(3.5, 3), gridspec_kw={\"height_ratios\": [2, 1]}\n",
                ")\n",
                "# \u8c03\u6574\u56fe\u50cf\u4e2d\u5750\u6807\u7cfb\u7684\u5782\u76f4\u95f4\u8ddd\n",
                "fig.subplots_adjust(hspace=0.08)\n",
                "\n",
                "# \u5728\u4e24\u4e2a\u5750\u6807\u7cfb\u5bf9\u8c61\u4e0a\u7ed8\u5236\u76f8\u540c\u7684\u6570\u636e\n",
                "for ax in [ax1, ax2]:\n",
                "    _ = ax.plot(x, y1, color=\"r\", marker=\"s\", ls=\"-\", label=\"data: y1\")\n",
                "    _ = ax.plot(x, y2, color=\"b\", marker=\"o\", ls=\"-\", label=\"data: y2\")\n",
                "    ax.grid()\n",
                "\n",
                "# \u5728\u4e24\u4e2a\u5750\u6807\u7cfb\u4e0a\u4f7f\u7528\u4e0d\u540c\u7684Y\u8f74\u8303\u56f4\n",
                "ax1.set_ylim(3.4, 5.0)\n",
                "ax2.set_ylim(0.25, 0.55)\n",
                "\n",
                "# \u8bbe\u7f6e\u4e24\u4e2a\u5750\u6807\u7cfb\u7684\u7684\u8fb9\u6846\u548c\u523b\u5ea6\u4f4d\u7f6e\uff0c\u6d88\u9664\u4e2d\u95f4\u533a\u57df\u7684\u8fb9\u6846\n",
                "ax1.spines.bottom.set_visible(False)\n",
                "ax1.tick_params(bottom=False, top=True, labeltop=False)\n",
                "ax2.xaxis.tick_bottom()\n",
                "ax2.spines.top.set_visible(False)\n",
                "\n",
                "\n",
                "# \u4f7f\u7528plot\u51fd\u6570\u5728\u8f74\u4e0a\u6dfb\u52a0\u4e24\u4e2a\u659c\u7ebf\u6807\u8bc6\uff0c\u8868\u793a\u622a\u65ad\n",
                "d = 0.8  # \u503e\u659c\u5ea6\n",
                "kwargs = dict(\n",
                "    marker=[(-1, -d), (1, d)],\n",
                "    markersize=10,\n",
                "    linestyle=\"none\",\n",
                "    color=\"k\",\n",
                "    markeredgecolor=\"k\",\n",
                "    markeredgewidth=1.5,\n",
                "    clip_on=False,\n",
                ")\n",
                "ax1.plot([0, 1], [0, 0], transform=ax1.transAxes, **kwargs)\n",
                "ax2.plot([0, 1], [1, 1], transform=ax2.transAxes, **kwargs)\n",
                "\n",
                "# \u8bbe\u7f6e\u8f74\u5750\u6807\uff0c\u5bf9\u4e8eY\u8f74\u9700\u8981\u504f\u79fb\u8f74\u6807\u7b7e\u4e00\u6bb5\u8ddd\u79bb\n",
                "ax2.set_xlabel(\"x (unit)\", fontweight=\"bold\")\n",
                "ax1.set_ylabel(\"y (unit)\", fontweight=\"bold\", y=0.2)\n",
                "\n",
                "# \u6dfb\u52a0\u56fe\u4f8b\uff0c\u4ec5\u5728\u4e00\u4e2a\u5750\u6807\u7cfb\u4e0a\u663e\u793a\u5373\u53ef\n",
                "ax1.legend(reverse=True)\n",
                "\n",
                "# \u4fdd\u5b58\u56fe\u7247\n",
                "# plt.savefig('\u5177\u6709\u622a\u65adY\u8f74\u7684\u6298\u7ebf\u56fe.png', dpi=300, bbox_inches='tight')\n",
                "\n",
                "# \u663e\u793a\u56fe\u7247\n",
                "plt.show()"
            ]
        }
    ],
    "metadata": {
        "kernelspec": {
            "display_name": "Python 3",
            "language": "python",
            "name": "python3"
        },
        "language_info": {
            "codemirror_mode": {
                "name": "ipython",
                "version": 3
            },
            "file_extension": ".py",
            "mimetype": "text/x-python",
            "name": "python",
            "nbconvert_exporter": "python",
            "pygments_lexer": "ipython3",
            "version": "3.13.1"
        }
    },
    "nbformat": 4,
    "nbformat_minor": 2
}
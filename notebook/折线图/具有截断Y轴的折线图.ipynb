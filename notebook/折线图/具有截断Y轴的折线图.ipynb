{
    "cells": [
        {
            "cell_type": "markdown",
            "metadata": {},
            "source": [
                "# 具有截断Y轴的折线图\n",
                "\n",
                "> [更多绘图，尽在“matplotlib制图师”](https://www.wolai.com/matplotlib/uecbhR3MHhaZkK55za779h)\n",
                "\n",
                "## 1. 导入相关库"
            ]
        },
        {
            "cell_type": "code",
            "execution_count": 21,
            "metadata": {},
            "outputs": [],
            "source": [
                "# 导入 matplotlib 和 numpy 包\n",
                "import matplotlib.pyplot as plt"
            ]
        },
        {
            "cell_type": "markdown",
            "metadata": {},
            "source": [
                "## 2. 准备数据"
            ]
        },
        {
            "cell_type": "code",
            "execution_count": 22,
            "metadata": {},
            "outputs": [],
            "source": [
                "x = [1, 2, 3, 4, 5, 6, 7]\n",
                "y1 = [0.31, 0.37, 0.42, 0.41, 0.35, 0.32, 0.30]\n",
                "y2 = [0.27, 0.31, 0.388, 4.4, 4.5, 3.9, 3.6]"
            ]
        },
        {
            "cell_type": "markdown",
            "metadata": {},
            "source": [
                "## 3. 调用绘图API\n",
                "\n",
                "- 目前通过双坐标系来实现近似坐标轴截断效果"
            ]
        },
        {
            "cell_type": "code",
            "execution_count": 26,
            "metadata": {},
            "outputs": [],
            "source": [
                "# 生成图形对象 fig 和 两个坐标系对象 ax1 和 ax2\n",
                "fig, (ax1, ax2) = plt.subplots(\n",
                "    2, 1, sharex=True, figsize=(3.5, 3), gridspec_kw={\"height_ratios\": [2, 1]}\n",
                ")\n",
                "# 调整图像中坐标系的垂直间距\n",
                "fig.subplots_adjust(hspace=0.08)\n",
                "\n",
                "# 在两个坐标系对象上绘制相同的数据\n",
                "for ax in [ax1, ax2]:\n",
                "    # 参数详见 https://www.wolai.com/matplotlib/4GXojnYSjgrrezCPMMy4on\n",
                "    _ = ax.plot(x, y1, color=\"r\", marker=\"s\", ls=\"-\", label=\"data: y1\")\n",
                "    _ = ax.plot(x, y2, color=\"b\", marker=\"o\", ls=\"-\", label=\"data: y2\")\n",
                "    ax.grid()\n",
                "\n",
                "# 在两个坐标系上使用不同的Y轴范围\n",
                "ax1.set_ylim(3.4, 5.0)\n",
                "ax2.set_ylim(0.25, 0.55)\n",
                "\n",
                "# 设置两个坐标系的的边框和刻度位置，消除中间区域的边框\n",
                "ax1.spines.bottom.set_visible(False)\n",
                "ax1.tick_params(bottom=False, top=True, labeltop=False)\n",
                "ax2.xaxis.tick_bottom()\n",
                "ax2.spines.top.set_visible(False)\n",
                "\n",
                "\n",
                "# 使用plot函数在轴上添加两个斜线标识，表示截断\n",
                "d = 0.8  # 倾斜度\n",
                "kwargs = dict(\n",
                "    marker=[(-1, -d), (1, d)],\n",
                "    markersize=10,\n",
                "    linestyle=\"none\",\n",
                "    color=\"k\",\n",
                "    markeredgecolor=\"k\",\n",
                "    markeredgewidth=1.5,\n",
                "    clip_on=False,\n",
                ")\n",
                "ax1.plot([0, 1], [0, 0], transform=ax1.transAxes, **kwargs)\n",
                "ax2.plot([0, 1], [1, 1], transform=ax2.transAxes, **kwargs)\n",
                "\n",
                "# 设置轴坐标，对于Y轴需要偏移轴标签一段距离\n",
                "ax2.set_xlabel(\"x (unit)\", fontweight=\"bold\")\n",
                "ax1.set_ylabel(\"y (unit)\", fontweight=\"bold\", y=0.2)\n",
                "\n",
                "# 添加图例，仅在一个坐标系上显示即可\n",
                "ax1.legend(reverse=True)\n",
                "\n",
                "# 保存图片\n",
                "# plt.savefig('具有截断Y轴的折线图.png', dpi=300, bbox_inches='tight')\n",
                "\n",
                "# 显示图片\n",
                "plt.show()"
            ]
        }
    ],
    "metadata": {
        "kernelspec": {
            "display_name": "Python 3",
            "language": "python",
            "name": "python3"
        },
        "language_info": {
            "codemirror_mode": {
                "name": "ipython",
                "version": 3
            },
            "file_extension": ".py",
            "mimetype": "text/x-python",
            "name": "python",
            "nbconvert_exporter": "python",
            "pygments_lexer": "ipython3",
            "version": "3.13.1"
        }
    },
    "nbformat": 4,
    "nbformat_minor": 2
}

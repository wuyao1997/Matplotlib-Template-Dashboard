{
    "cells": [
        {
            "cell_type": "markdown",
            "metadata": {},
            "source": [
                "# \u5177\u6709\u7f6e\u4fe1\u5e26\u7684\u6298\u7ebf\u56fe\n",
                "\n",
                "> [\u66f4\u591a\u7ed8\u56fe\uff0c\u5c3d\u5728\u201cmatplotlib\u5236\u56fe\u5e08\u201d](https://www.wolai.com/matplotlib/uecbhR3MHhaZkK55za779h)\n",
                "\n",
                "- \u53c2\u8003[\u5b98\u7f51\u6848\u4f8b](https://matplotlib.org/stable/gallery/lines_bars_and_markers/fill_between_demo.html)\u4fee\u6539\n",
                "\n",
                "## 1. \u5bfc\u5165\u76f8\u5173\u5e93"
            ]
        },
        {
            "cell_type": "code",
            "execution_count": 1,
            "metadata": {},
            "outputs": [],
            "source": [
                "# \u5bfc\u5165 matplotlib \u548c numpy \u5305\n",
                "import matplotlib.pyplot as plt\n",
                "import numpy as np"
            ]
        },
        {
            "cell_type": "markdown",
            "metadata": {},
            "source": [
                "## 2. \u51c6\u5907\u6570\u636e"
            ]
        },
        {
            "cell_type": "code",
            "execution_count": 2,
            "metadata": {},
            "outputs": [],
            "source": [
                "N = 21\n",
                "x = np.linspace(0, 10, 11)\n",
                "y = [3.9, 4.4, 10.8, 10.3, 11.2, 13.1, 14.1, 9.9, 13.9, 15.1, 12.5]\n",
                "\n",
                "# \u62df\u5408\u6570\u636e\uff0c\u8ba1\u7b97\u8bef\u5dee\n",
                "a, b = np.polyfit(x, y, deg=1)\n",
                "y_est = a * x + b\n",
                "y_err = x.std() * np.sqrt(\n",
                "    1 / len(x) + (x - x.mean()) ** 2 / np.sum((x - x.mean()) ** 2)\n",
                ")"
            ]
        },
        {
            "cell_type": "markdown",
            "metadata": {},
            "source": [
                "## 3. \u8c03\u7528\u7ed8\u56feAPI"
            ]
        },
        {
            "cell_type": "code",
            "execution_count": 8,
            "metadata": {},
            "outputs": [],
            "source": [
                "# \u751f\u6210\u56fe\u5f62\u5bf9\u8c61 fig \u548c \u5b50\u56fe\u5bf9\u8c61 ax\uff0c\u4f7f\u7528\u7ea6\u675f\u5e03\u5c40\u907f\u514d\u91cd\u53e0\n",
                "fig, ax = plt.subplots(constrained_layout=True)\n",
                "\n",
                "# \u8c03\u7528\u5750\u6807\u7cfb\u5bf9\u8c61 ax \u7684 plot \u65b9\u6cd5\uff0c\u7ed8\u5236\u62df\u5408\u66f2\u7ebf\n",
                "ax.plot(x, y_est, lw=2, label=\"fit curve\")\n",
                "\n",
                "# \u8c03\u7528\u5750\u6807\u7cfb\u5bf9\u8c61 ax \u7684 fill_between \u65b9\u6cd5\uff0c\u7ed8\u5236\u7f6e\u4fe1\u5e26\n",
                "ax.fill_between(x, y_est - y_err, y_est + y_err, alpha=0.2)\n",
                "\n",
                "# \u8c03\u7528\u5750\u6807\u7cfb\u5bf9\u8c61 ax \u7684 scatter \u65b9\u6cd5\uff0c \u7ed8\u5236\u539f\u59cb\u6570\u636e\u4e3a\u6563\u70b9\u56fe\n",
                "ax.scatter(\n",
                "    x, y, marker=\"o\", color=\"steelblue\", edgecolors=\"dimgray\", label=\"origin data\"\n",
                ")\n",
                "\n",
                "# \u8bbe\u7f6e x \u8f74\u548c y \u8f74\u7684\u8f74\u6807\u7b7e\uff0c\u52a0\u7c97\u663e\u793a\n",
                "ax.set_xlabel(\"x (unit)\", fontweight=\"bold\")\n",
                "ax.set_ylabel(\"y (unit)\", fontweight=\"bold\")\n",
                "\n",
                "# \u8bbe\u7f6e X \u8f74\u8303\u56f4\n",
                "ax.set_xlim(0, 10)\n",
                "\n",
                "# \u6dfb\u52a0\u56fe\u4f8b\n",
                "_ = ax.legend(frameon=False, loc=0, title=\"Legend\")\n",
                "\n",
                "# \u4fdd\u5b58\u56fe\u7247\n",
                "# plt.savefig('./\u5177\u6709\u7f6e\u4fe1\u5e26\u7684\u6298\u7ebf\u56fe.png', dpi=300)\n",
                "\n",
                "# \u663e\u793a\u56fe\u50cf\n",
                "plt.show()"
            ]
        }
    ],
    "metadata": {
        "kernelspec": {
            "display_name": "Python 3",
            "language": "python",
            "name": "python3"
        },
        "language_info": {
            "codemirror_mode": {
                "name": "ipython",
                "version": 3
            },
            "file_extension": ".py",
            "mimetype": "text/x-python",
            "name": "python",
            "nbconvert_exporter": "python",
            "pygments_lexer": "ipython3",
            "version": "3.13.1"
        }
    },
    "nbformat": 4,
    "nbformat_minor": 2
}
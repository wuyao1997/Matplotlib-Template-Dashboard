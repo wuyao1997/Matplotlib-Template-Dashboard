{
    "cells": [
        {
            "cell_type": "markdown",
            "metadata": {},
            "source": [
                "# 具有置信带的折线图\n",
                "\n",
                "> [更多绘图，尽在“matplotlib制图师”](https://www.wolai.com/matplotlib/uecbhR3MHhaZkK55za779h)\n",
                "\n",
                "- 参考[官网案例](https://matplotlib.org/stable/gallery/lines_bars_and_markers/fill_between_demo.html)修改\n",
                "\n",
                "## 1. 导入相关库"
            ]
        },
        {
            "cell_type": "code",
            "execution_count": 1,
            "metadata": {},
            "outputs": [],
            "source": [
                "# 导入 matplotlib 和 numpy 包\n",
                "import matplotlib.pyplot as plt\n",
                "import numpy as np"
            ]
        },
        {
            "cell_type": "markdown",
            "metadata": {},
            "source": [
                "## 2. 准备数据"
            ]
        },
        {
            "cell_type": "code",
            "execution_count": 2,
            "metadata": {},
            "outputs": [],
            "source": [
                "N = 21\n",
                "x = np.linspace(0, 10, 11)\n",
                "y = [3.9, 4.4, 10.8, 10.3, 11.2, 13.1, 14.1, 9.9, 13.9, 15.1, 12.5]\n",
                "\n",
                "# 拟合数据，计算误差\n",
                "a, b = np.polyfit(x, y, deg=1)\n",
                "y_est = a * x + b\n",
                "y_err = x.std() * np.sqrt(\n",
                "    1 / len(x) + (x - x.mean()) ** 2 / np.sum((x - x.mean()) ** 2)\n",
                ")"
            ]
        },
        {
            "cell_type": "markdown",
            "metadata": {},
            "source": [
                "## 3. 调用绘图API"
            ]
        },
        {
            "cell_type": "code",
            "execution_count": 8,
            "metadata": {},
            "outputs": [],
            "source": [
                "# 生成图形对象 fig 和 子图对象 ax，使用约束布局避免重叠\n",
                "fig, ax = plt.subplots(constrained_layout=True)\n",
                "\n",
                "# 调用坐标系对象 ax 的 plot 方法，绘制拟合曲线\n",
                "# 参数详见 https://www.wolai.com/matplotlib/4GXojnYSjgrrezCPMMy4on\n",
                "ax.plot(x, y_est, lw=2, label=\"fit curve\")\n",
                "\n",
                "# 调用坐标系对象 ax 的 fill_between 方法，绘制置信带\n",
                "# 参数详见 https://www.wolai.com/matplotlib/3QEbYtS7pZttmVUq2wTgZ7\n",
                "ax.fill_between(x, y_est - y_err, y_est + y_err, alpha=0.2)\n",
                "\n",
                "# 调用坐标系对象 ax 的 scatter 方法， 绘制原始数据为散点图\n",
                "ax.scatter(\n",
                "    x, y, marker=\"o\", color=\"steelblue\", edgecolors=\"dimgray\", label=\"origin data\"\n",
                ")\n",
                "\n",
                "# 设置 x 轴和 y 轴的轴标签，加粗显示\n",
                "ax.set_xlabel(\"x (unit)\", fontweight=\"bold\")\n",
                "ax.set_ylabel(\"y (unit)\", fontweight=\"bold\")\n",
                "\n",
                "# 设置 X 轴范围\n",
                "ax.set_xlim(0, 10)\n",
                "\n",
                "# 添加图例\n",
                "_ = ax.legend(frameon=False, loc=0, title=\"Legend\")\n",
                "\n",
                "# 保存图片\n",
                "# plt.savefig('./具有置信带的折线图.png', dpi=300)\n",
                "\n",
                "# 显示图像\n",
                "plt.show()"
            ]
        }
    ],
    "metadata": {
        "kernelspec": {
            "display_name": "Python 3",
            "language": "python",
            "name": "python3"
        },
        "language_info": {
            "codemirror_mode": {
                "name": "ipython",
                "version": 3
            },
            "file_extension": ".py",
            "mimetype": "text/x-python",
            "name": "python",
            "nbconvert_exporter": "python",
            "pygments_lexer": "ipython3",
            "version": "3.13.1"
        }
    },
    "nbformat": 4,
    "nbformat_minor": 2
}

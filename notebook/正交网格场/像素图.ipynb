{
    "cells": [
        {
            "cell_type": "markdown",
            "metadata": {},
            "source": [
                "# 像素图\n",
                "\n",
                "> [更多绘图，尽在“matplotlib制图师”](https://www.wolai.com/matplotlib/uecbhR3MHhaZkK55za779h)\n",
                "\n",
                "## 1. 导入相关库"
            ]
        },
        {
            "cell_type": "code",
            "execution_count": 1,
            "metadata": {},
            "outputs": [],
            "source": [
                "# 导入 matplotlib 和 numpy 包\n",
                "import matplotlib.pyplot as plt\n",
                "import numpy as np"
            ]
        },
        {
            "cell_type": "markdown",
            "metadata": {},
            "source": [
                "## 2. 准备数据"
            ]
        },
        {
            "cell_type": "code",
            "execution_count": 6,
            "metadata": {},
            "outputs": [],
            "source": [
                "# 生成数据\n",
                "x, y = np.meshgrid(np.arange(-32, 32), np.arange(-32, 32))\n",
                "\n",
                "r = np.sqrt(x**2 + y**2)\n",
                "array2d = np.sin(0.05 * np.pi * r)"
            ]
        },
        {
            "cell_type": "markdown",
            "metadata": {},
            "source": [
                "## 3. 调用绘图API\n",
                "\n",
                "常用的interpolation方法有：\n",
                "- 'nearest', \n",
                "- 'bilinear'\n",
                "- 'bicubic'\n",
                "- 'gaussian'\n",
                "- 'bessel'"
            ]
        },
        {
            "cell_type": "code",
            "execution_count": 15,
            "metadata": {},
            "outputs": [],
            "source": [
                "# 生成图形对象 fig 和 子图对象 ax，使用约束布局避免重叠\n",
                "fig, ax = plt.subplots(constrained_layout=True)\n",
                "# 设置坐标轴比例\n",
                "ax.set_aspect(aspect=1.0)\n",
                "\n",
                "# 绘制像素图，更多参数 https://www.wolai.com/matplotlib/9S3VvdWev3tNckFvKcMHKA\n",
                "im = ax.imshow(array2d, interpolation=\"bicubic\", cmap=\"coolwarm\")\n",
                "# 绘制颜色条\n",
                "cbar = fig.colorbar(im, ax=ax, shrink=0.75, aspect=15)\n",
                "# 设置颜色条标签\n",
                "cbar.set_label(\"value (unit)\", fontweight=\"bold\")\n",
                "\n",
                "# 保存图片\n",
                "# plt.savefig('./像素图.png', dpi=300)\n",
                "\n",
                "# 显示图片\n",
                "plt.show()"
            ]
        }
    ],
    "metadata": {
        "kernelspec": {
            "display_name": "Python 3",
            "language": "python",
            "name": "python3"
        },
        "language_info": {
            "codemirror_mode": {
                "name": "ipython",
                "version": 3
            },
            "file_extension": ".py",
            "mimetype": "text/x-python",
            "name": "python",
            "nbconvert_exporter": "python",
            "pygments_lexer": "ipython3",
            "version": "3.13.1"
        }
    },
    "nbformat": 4,
    "nbformat_minor": 2
}

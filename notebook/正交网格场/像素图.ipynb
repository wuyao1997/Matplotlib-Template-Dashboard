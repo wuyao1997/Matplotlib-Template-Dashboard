{
    "cells": [
        {
            "cell_type": "markdown",
            "metadata": {},
            "source": [
                "# \u50cf\u7d20\u56fe\n",
                "\n",
                "> [\u66f4\u591a\u7ed8\u56fe\uff0c\u5c3d\u5728\u201cmatplotlib\u5236\u56fe\u5e08\u201d](https://www.wolai.com/matplotlib/uecbhR3MHhaZkK55za779h)\n",
                "\n",
                "## 1. \u5bfc\u5165\u76f8\u5173\u5e93"
            ]
        },
        {
            "cell_type": "code",
            "execution_count": 1,
            "metadata": {},
            "outputs": [],
            "source": [
                "# \u5bfc\u5165 matplotlib \u548c numpy \u5305\n",
                "import matplotlib.pyplot as plt\n",
                "import numpy as np"
            ]
        },
        {
            "cell_type": "markdown",
            "metadata": {},
            "source": [
                "## 2. \u51c6\u5907\u6570\u636e"
            ]
        },
        {
            "cell_type": "code",
            "execution_count": 6,
            "metadata": {},
            "outputs": [],
            "source": [
                "# \u751f\u6210\u6570\u636e\n",
                "x, y = np.meshgrid(np.arange(-32, 32), np.arange(-32, 32))\n",
                "\n",
                "r = np.sqrt(x**2 + y**2)\n",
                "array2d = np.sin(0.05 * np.pi * r)"
            ]
        },
        {
            "cell_type": "markdown",
            "metadata": {},
            "source": [
                "## 3. \u8c03\u7528\u7ed8\u56feAPI\n",
                "\n",
                "\u5e38\u7528\u7684interpolation\u65b9\u6cd5\u6709\uff1a\n",
                "- 'nearest', \n",
                "- 'bilinear'\n",
                "- 'bicubic'\n",
                "- 'gaussian'\n",
                "- 'bessel'"
            ]
        },
        {
            "cell_type": "code",
            "execution_count": 15,
            "metadata": {},
            "outputs": [],
            "source": [
                "# \u751f\u6210\u56fe\u5f62\u5bf9\u8c61 fig \u548c \u5b50\u56fe\u5bf9\u8c61 ax\uff0c\u4f7f\u7528\u7ea6\u675f\u5e03\u5c40\u907f\u514d\u91cd\u53e0\n",
                "fig, ax = plt.subplots(constrained_layout=True)\n",
                "# \u8bbe\u7f6e\u5750\u6807\u8f74\u6bd4\u4f8b\n",
                "ax.set_aspect(aspect=1.0)\n",
                "\n",
                "# \u7ed8\u5236\u50cf\u7d20\u56fe\n",
                "im = ax.imshow(array2d, interpolation=\"bicubic\", cmap=\"coolwarm\")\n",
                "# \u7ed8\u5236\u989c\u8272\u6761\n",
                "cbar = fig.colorbar(im, ax=ax, shrink=0.75, aspect=15)\n",
                "# \u8bbe\u7f6e\u989c\u8272\u6761\u6807\u7b7e\n",
                "cbar.set_label(\"value (unit)\", fontweight=\"bold\")\n",
                "\n",
                "# \u4fdd\u5b58\u56fe\u7247\n",
                "# plt.savefig('./\u50cf\u7d20\u56fe.png', dpi=300)\n",
                "\n",
                "# \u663e\u793a\u56fe\u7247\n",
                "plt.show()"
            ]
        }
    ],
    "metadata": {
        "kernelspec": {
            "display_name": "Python 3",
            "language": "python",
            "name": "python3"
        },
        "language_info": {
            "codemirror_mode": {
                "name": "ipython",
                "version": 3
            },
            "file_extension": ".py",
            "mimetype": "text/x-python",
            "name": "python",
            "nbconvert_exporter": "python",
            "pygments_lexer": "ipython3",
            "version": "3.13.1"
        }
    },
    "nbformat": 4,
    "nbformat_minor": 2
}
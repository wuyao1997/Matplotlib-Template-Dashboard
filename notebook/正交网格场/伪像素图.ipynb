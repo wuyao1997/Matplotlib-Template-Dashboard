{
    "cells": [
        {
            "cell_type": "markdown",
            "metadata": {},
            "source": [
                "# \u4f2a\u50cf\u7d20\u56fe\n",
                "\n",
                "> [\u66f4\u591a\u7ed8\u56fe\uff0c\u5c3d\u5728\u201cmatplotlib\u5236\u56fe\u5e08\u201d](https://www.wolai.com/matplotlib/uecbhR3MHhaZkK55za779h)\n",
                "\n",
                "## 1. \u5bfc\u5165\u76f8\u5173\u5e93"
            ]
        },
        {
            "cell_type": "code",
            "execution_count": 27,
            "metadata": {},
            "outputs": [],
            "source": [
                "# \u5bfc\u5165 matplotlib \u548c numpy \u5305\n",
                "import matplotlib.pyplot as plt\n",
                "import numpy as np\n",
                "import warnings"
            ]
        },
        {
            "cell_type": "markdown",
            "metadata": {},
            "source": [
                "## 2. \u51c6\u5907\u6570\u636e"
            ]
        },
        {
            "cell_type": "code",
            "execution_count": 28,
            "metadata": {},
            "outputs": [],
            "source": [
                "# \u751f\u6210\u6570\u636e\n",
                "x = np.linspace(0, 3, 7)\n",
                "y = np.linspace(0, 5, 11)\n",
                "X, Y = np.meshgrid(x, y)\n",
                "\n",
                "# \u4e3a\u5750\u6807\u6570\u636e\u6dfb\u52a0\u968f\u673a\u5c0f\u566a\u58f0\n",
                "factor = 0.15\n",
                "np.random.seed(31312021)\n",
                "X = X + factor * np.random.random(X.shape)\n",
                "Y = Y + factor * np.random.random(Y.shape)\n",
                "\n",
                "# color value\n",
                "Z = X + Y"
            ]
        },
        {
            "cell_type": "markdown",
            "metadata": {},
            "source": [
                "## 3. \u8c03\u7528\u7ed8\u56feAPI"
            ]
        },
        {
            "cell_type": "code",
            "execution_count": 29,
            "metadata": {},
            "outputs": [],
            "source": [
                "# \u751f\u6210\u56fe\u5f62\u5bf9\u8c61 fig \u548c \u5b50\u56fe\u5bf9\u8c61 ax\uff0c\u4f7f\u7528\u7ea6\u675f\u5e03\u5c40\u907f\u514d\u91cd\u53e0\n",
                "fig, ax = plt.subplots(constrained_layout=True)\n",
                "# \u8bbe\u7f6e\u5750\u6807\u8f74\u6bd4\u4f8b\n",
                "ax.set_aspect(aspect=1.0)\n",
                "\n",
                "# \u5728 3.10.0 \u4e4b\u524d\u7684\u7248\u672c\u4f1a\u5f15\u53d1\u4e0d\u5fc5\u8981\u7684\u8b66\u544a\uff0c\u8fd9\u91cc\u6355\u83b7\u8b66\u544a\u5e76\u5ffd\u7565\n",
                "with warnings.catch_warnings(record=True) as w:\n",
                "    # \u7ed8\u5236\u4f2a\u50cf\u7d20\u56fe\n",
                "    # 'shading'\u53c2\u6570\u53ef\u4ee5\u662f'flat', 'nearest', 'gouraud', \u6216 'auto'\n",
                "    pc = ax.pcolormesh(\n",
                "        X, Y, Z, shading=\"nearest\", edgecolors=\"gray\", lw=0.2, cmap=\"coolwarm\"\n",
                "    )\n",
                "\n",
                "# \u901a\u8fc7\u6563\u70b9\u56fe\u8868\u793a\u7f51\u683c\u4e2d\u5fc3\n",
                "ax.scatter(X.ravel(), Y.ravel(), s=18, c=Z.ravel(), edgecolors=\"gray\", cmap=\"coolwarm\")\n",
                "\n",
                "# \u7ed8\u5236\u989c\u8272\u6761\n",
                "cbar = fig.colorbar(pc, ax=ax, shrink=1, aspect=18)\n",
                "# \u8bbe\u7f6e\u989c\u8272\u6761\u6807\u7b7e\n",
                "cbar.set_label(\"value (unit)\", fontweight=\"bold\")\n",
                "\n",
                "# \u8bbe\u7f6e\u8f74\u8303\u56f4\n",
                "ax.set_xlim(-0.5, 3.6)\n",
                "ax.set_ylim(-0.5, 5.7)\n",
                "\n",
                "# \u8bbe\u7f6e\u8f74\u6807\u7b7e\n",
                "ax.set_xlabel(\"x (m)\", fontweight=\"bold\")\n",
                "ax.set_ylabel(\"y (m)\", fontweight=\"bold\")\n",
                "\n",
                "# \u4fdd\u5b58\u56fe\u7247\n",
                "# plt.savefig('./\u4f2a\u50cf\u7d20\u56fe.png', dpi=300)\n",
                "\n",
                "# \u663e\u793a\u56fe\u7247\n",
                "plt.show()"
            ]
        }
    ],
    "metadata": {
        "kernelspec": {
            "display_name": "Python 3",
            "language": "python",
            "name": "python3"
        },
        "language_info": {
            "codemirror_mode": {
                "name": "ipython",
                "version": 3
            },
            "file_extension": ".py",
            "mimetype": "text/x-python",
            "name": "python",
            "nbconvert_exporter": "python",
            "pygments_lexer": "ipython3",
            "version": "3.13.1"
        }
    },
    "nbformat": 4,
    "nbformat_minor": 2
}
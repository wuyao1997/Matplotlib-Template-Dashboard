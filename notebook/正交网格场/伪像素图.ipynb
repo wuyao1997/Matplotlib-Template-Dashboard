{
    "cells": [
        {
            "cell_type": "markdown",
            "metadata": {},
            "source": [
                "# 伪像素图\n",
                "\n",
                "> [更多绘图，尽在“matplotlib制图师”](https://www.wolai.com/matplotlib/uecbhR3MHhaZkK55za779h)\n",
                "\n",
                "## 1. 导入相关库"
            ]
        },
        {
            "cell_type": "code",
            "execution_count": 27,
            "metadata": {},
            "outputs": [],
            "source": [
                "# 导入 matplotlib 和 numpy 包\n",
                "import matplotlib.pyplot as plt\n",
                "import numpy as np\n",
                "import warnings"
            ]
        },
        {
            "cell_type": "markdown",
            "metadata": {},
            "source": [
                "## 2. 准备数据"
            ]
        },
        {
            "cell_type": "code",
            "execution_count": 28,
            "metadata": {},
            "outputs": [],
            "source": [
                "# 生成数据\n",
                "x = np.linspace(0, 3, 7)\n",
                "y = np.linspace(0, 5, 11)\n",
                "X, Y = np.meshgrid(x, y)\n",
                "\n",
                "# 为坐标数据添加随机小噪声\n",
                "factor = 0.15\n",
                "np.random.seed(31312021)\n",
                "X = X + factor * np.random.random(X.shape)\n",
                "Y = Y + factor * np.random.random(Y.shape)\n",
                "\n",
                "# color value\n",
                "Z = X + Y"
            ]
        },
        {
            "cell_type": "markdown",
            "metadata": {},
            "source": [
                "## 3. 调用绘图API"
            ]
        },
        {
            "cell_type": "code",
            "execution_count": 29,
            "metadata": {},
            "outputs": [],
            "source": [
                "# 生成图形对象 fig 和 子图对象 ax，使用约束布局避免重叠\n",
                "fig, ax = plt.subplots(constrained_layout=True)\n",
                "# 设置坐标轴比例\n",
                "ax.set_aspect(aspect=1.0)\n",
                "\n",
                "# 在 3.10.0 之前的版本会引发不必要的警告，这里捕获警告并忽略\n",
                "with warnings.catch_warnings(record=True) as w:\n",
                "    # 绘制伪像素图 shading参数可以是'flat', 'nearest', 'gouraud', 或 'auto'\n",
                "    # 更多参数详见 https://www.wolai.com/matplotlib/i5HyrtE4BzyTK7nteML2t6\n",
                "    pc = ax.pcolormesh(\n",
                "        X, Y, Z, shading=\"nearest\", edgecolors=\"gray\", lw=0.2, cmap=\"coolwarm\"\n",
                "    )\n",
                "\n",
                "# 通过散点图表示网格中心\n",
                "ax.scatter(X.ravel(), Y.ravel(), s=18, c=Z.ravel(), edgecolors=\"gray\", cmap=\"coolwarm\")\n",
                "\n",
                "# 绘制颜色条\n",
                "cbar = fig.colorbar(pc, ax=ax, shrink=1, aspect=18)\n",
                "# 设置颜色条标签\n",
                "cbar.set_label(\"value (unit)\", fontweight=\"bold\")\n",
                "\n",
                "# 设置轴范围\n",
                "ax.set_xlim(-0.5, 3.6)\n",
                "ax.set_ylim(-0.5, 5.7)\n",
                "\n",
                "# 设置轴标签\n",
                "ax.set_xlabel(\"x (m)\", fontweight=\"bold\")\n",
                "ax.set_ylabel(\"y (m)\", fontweight=\"bold\")\n",
                "\n",
                "# 保存图片\n",
                "# plt.savefig('./伪像素图.png', dpi=300)\n",
                "\n",
                "# 显示图片\n",
                "plt.show()"
            ]
        }
    ],
    "metadata": {
        "kernelspec": {
            "display_name": "Python 3",
            "language": "python",
            "name": "python3"
        },
        "language_info": {
            "codemirror_mode": {
                "name": "ipython",
                "version": 3
            },
            "file_extension": ".py",
            "mimetype": "text/x-python",
            "name": "python",
            "nbconvert_exporter": "python",
            "pygments_lexer": "ipython3",
            "version": "3.13.1"
        }
    },
    "nbformat": 4,
    "nbformat_minor": 2
}

{
    "cells": [
        {
            "cell_type": "markdown",
            "metadata": {},
            "source": [
                "# 热度图\n",
                "\n",
                "> [更多绘图，尽在“matplotlib制图师”](https://www.wolai.com/matplotlib/uecbhR3MHhaZkK55za779h)\n",
                "\n",
                "## 1. 导入相关库"
            ]
        },
        {
            "cell_type": "code",
            "execution_count": 4,
            "metadata": {},
            "outputs": [],
            "source": [
                "# 导入 matplotlib 和 numpy 包\n",
                "import matplotlib.pyplot as plt\n",
                "import numpy as np"
            ]
        },
        {
            "cell_type": "markdown",
            "metadata": {},
            "source": [
                "## 2. 准备数据"
            ]
        },
        {
            "cell_type": "code",
            "execution_count": 5,
            "metadata": {},
            "outputs": [],
            "source": [
                "vegetables = [\"cucumber\", \"tomato\", \"lettuce\", \"asparagus\", \"potato\", \"wheat\", \"barley\"]\n",
                "farmers = [\n",
                "    \"Farmer Joe\",\n",
                "    \"Upland Bros.\",\n",
                "    \"Smith Gardening\",\n",
                "    \"Agrifun\",\n",
                "    \"Organiculture\",\n",
                "    \"BioGoods Ltd.\",\n",
                "    \"Cornylee Corp.\",\n",
                "]\n",
                "\n",
                "harvest = np.array(\n",
                "    [\n",
                "        [0.8, 2.4, 2.5, 3.9, 0.0, 4.0, 0.0],\n",
                "        [2.4, 0.0, 4.0, 1.0, 2.7, 0.0, 0.0],\n",
                "        [1.1, 2.4, 0.8, 4.3, 1.9, 4.4, 0.0],\n",
                "        [0.6, 0.0, 0.3, 0.0, 3.1, 0.0, 0.0],\n",
                "        [0.7, 1.7, 0.6, 2.6, 2.2, 6.2, 0.0],\n",
                "        [1.3, 1.2, 0.0, 0.0, 0.0, 3.2, 5.1],\n",
                "        [0.1, 2.0, 0.0, 1.4, 0.0, 1.9, 6.3],\n",
                "    ]\n",
                ")"
            ]
        },
        {
            "cell_type": "markdown",
            "metadata": {},
            "source": [
                "## 3. 调用绘图API"
            ]
        },
        {
            "cell_type": "code",
            "execution_count": 10,
            "metadata": {},
            "outputs": [],
            "source": [
                "# 生成图形对象 fig 和 子图对象 ax，使用约束布局避免重叠\n",
                "fig, ax = plt.subplots(constrained_layout=True)\n",
                "# 设置坐标轴比例\n",
                "ax.set_aspect(aspect=1.0)\n",
                "\n",
                "# 设置坐标轴范围，更多参数 https://www.wolai.com/matplotlib/9S3VvdWev3tNckFvKcMHKA\n",
                "im = ax.imshow(harvest, vmin=0, vmax=6.5, cmap=\"coolwarm\")\n",
                "\n",
                "# X轴 和 Y轴 上的标签文字\n",
                "ax.set_xticks(np.arange(len(farmers)), labels=farmers)\n",
                "ax.set_yticks(np.arange(len(vegetables)), labels=vegetables)\n",
                "\n",
                "# 添加文字注释\n",
                "for i in range(len(vegetables)):\n",
                "    for j in range(len(farmers)):\n",
                "        text = ax.text(j, i, harvest[i, j], ha=\"center\", va=\"center\", color=\"w\")\n",
                "\n",
                "# 旋转X轴标签文字\n",
                "plt.setp(ax.get_xticklabels(), rotation=45, ha=\"right\", rotation_mode=\"anchor\")\n",
                "\n",
                "# 添加颜色条\n",
                "cbar = fig.colorbar(im, ax=ax, shrink=0.92, aspect=15)\n",
                "# 设置颜色条标签\n",
                "cbar.set_label(\"value (unit)\", fontweight=\"bold\")\n",
                "\n",
                "# 保存图片\n",
                "# plt.savefig('./热度图.png', dpi=300)\n",
                "\n",
                "# 显示图片\n",
                "plt.show()"
            ]
        }
    ],
    "metadata": {
        "kernelspec": {
            "display_name": "Python 3",
            "language": "python",
            "name": "python3"
        },
        "language_info": {
            "codemirror_mode": {
                "name": "ipython",
                "version": 3
            },
            "file_extension": ".py",
            "mimetype": "text/x-python",
            "name": "python",
            "nbconvert_exporter": "python",
            "pygments_lexer": "ipython3",
            "version": "3.13.1"
        }
    },
    "nbformat": 4,
    "nbformat_minor": 2
}

{
    "cells": [
        {
            "cell_type": "markdown",
            "metadata": {},
            "source": [
                "# \u70ed\u5ea6\u56fe\n",
                "\n",
                "> [\u66f4\u591a\u7ed8\u56fe\uff0c\u5c3d\u5728\u201cmatplotlib\u5236\u56fe\u5e08\u201d](https://www.wolai.com/matplotlib/uecbhR3MHhaZkK55za779h)\n",
                "\n",
                "## 1. \u5bfc\u5165\u76f8\u5173\u5e93"
            ]
        },
        {
            "cell_type": "code",
            "execution_count": 4,
            "metadata": {},
            "outputs": [],
            "source": [
                "# \u5bfc\u5165 matplotlib \u548c numpy \u5305\n",
                "import matplotlib.pyplot as plt\n",
                "import numpy as np"
            ]
        },
        {
            "cell_type": "markdown",
            "metadata": {},
            "source": [
                "## 2. \u51c6\u5907\u6570\u636e"
            ]
        },
        {
            "cell_type": "code",
            "execution_count": 5,
            "metadata": {},
            "outputs": [],
            "source": [
                "vegetables = [\"cucumber\", \"tomato\", \"lettuce\", \"asparagus\", \"potato\", \"wheat\", \"barley\"]\n",
                "farmers = [\n",
                "    \"Farmer Joe\",\n",
                "    \"Upland Bros.\",\n",
                "    \"Smith Gardening\",\n",
                "    \"Agrifun\",\n",
                "    \"Organiculture\",\n",
                "    \"BioGoods Ltd.\",\n",
                "    \"Cornylee Corp.\",\n",
                "]\n",
                "\n",
                "harvest = np.array(\n",
                "    [\n",
                "        [0.8, 2.4, 2.5, 3.9, 0.0, 4.0, 0.0],\n",
                "        [2.4, 0.0, 4.0, 1.0, 2.7, 0.0, 0.0],\n",
                "        [1.1, 2.4, 0.8, 4.3, 1.9, 4.4, 0.0],\n",
                "        [0.6, 0.0, 0.3, 0.0, 3.1, 0.0, 0.0],\n",
                "        [0.7, 1.7, 0.6, 2.6, 2.2, 6.2, 0.0],\n",
                "        [1.3, 1.2, 0.0, 0.0, 0.0, 3.2, 5.1],\n",
                "        [0.1, 2.0, 0.0, 1.4, 0.0, 1.9, 6.3],\n",
                "    ]\n",
                ")"
            ]
        },
        {
            "cell_type": "markdown",
            "metadata": {},
            "source": [
                "## 3. \u8c03\u7528\u7ed8\u56feAPI"
            ]
        },
        {
            "cell_type": "code",
            "execution_count": 10,
            "metadata": {},
            "outputs": [],
            "source": [
                "# \u751f\u6210\u56fe\u5f62\u5bf9\u8c61 fig \u548c \u5b50\u56fe\u5bf9\u8c61 ax\uff0c\u4f7f\u7528\u7ea6\u675f\u5e03\u5c40\u907f\u514d\u91cd\u53e0\n",
                "fig, ax = plt.subplots(constrained_layout=True)\n",
                "# \u8bbe\u7f6e\u5750\u6807\u8f74\u6bd4\u4f8b\n",
                "ax.set_aspect(aspect=1.0)\n",
                "\n",
                "# \u8bbe\u7f6e\u5750\u6807\u8f74\u8303\u56f4\n",
                "im = ax.imshow(harvest, vmin=0, vmax=6.5, cmap=\"coolwarm\")\n",
                "\n",
                "# X\u8f74 \u548c Y\u8f74 \u4e0a\u7684\u6807\u7b7e\u6587\u5b57\n",
                "ax.set_xticks(np.arange(len(farmers)), labels=farmers)\n",
                "ax.set_yticks(np.arange(len(vegetables)), labels=vegetables)\n",
                "\n",
                "# \u6dfb\u52a0\u6587\u5b57\u6ce8\u91ca\n",
                "for i in range(len(vegetables)):\n",
                "    for j in range(len(farmers)):\n",
                "        text = ax.text(j, i, harvest[i, j], ha=\"center\", va=\"center\", color=\"w\")\n",
                "\n",
                "# \u65cb\u8f6cX\u8f74\u6807\u7b7e\u6587\u5b57\n",
                "plt.setp(ax.get_xticklabels(), rotation=45, ha=\"right\", rotation_mode=\"anchor\")\n",
                "\n",
                "# \u6dfb\u52a0\u989c\u8272\u6761\n",
                "cbar = fig.colorbar(im, ax=ax, shrink=0.92, aspect=15)\n",
                "# \u8bbe\u7f6e\u989c\u8272\u6761\u6807\u7b7e\n",
                "cbar.set_label(\"value (unit)\", fontweight=\"bold\")\n",
                "\n",
                "# \u4fdd\u5b58\u56fe\u7247\n",
                "# plt.savefig('./\u70ed\u5ea6\u56fe.png', dpi=300)\n",
                "\n",
                "# \u663e\u793a\u56fe\u7247\n",
                "plt.show()"
            ]
        }
    ],
    "metadata": {
        "kernelspec": {
            "display_name": "Python 3",
            "language": "python",
            "name": "python3"
        },
        "language_info": {
            "codemirror_mode": {
                "name": "ipython",
                "version": 3
            },
            "file_extension": ".py",
            "mimetype": "text/x-python",
            "name": "python",
            "nbconvert_exporter": "python",
            "pygments_lexer": "ipython3",
            "version": "3.13.1"
        }
    },
    "nbformat": 4,
    "nbformat_minor": 2
}
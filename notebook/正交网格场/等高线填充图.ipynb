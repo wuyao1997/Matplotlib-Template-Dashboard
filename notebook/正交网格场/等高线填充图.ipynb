{
    "cells": [
        {
            "cell_type": "markdown",
            "metadata": {},
            "source": [
                "# \u7b49\u9ad8\u7ebf\u586b\u5145\u56fe\n",
                "\n",
                "> [\u66f4\u591a\u7ed8\u56fe\uff0c\u5c3d\u5728\u201cmatplotlib\u5236\u56fe\u5e08\u201d](https://www.wolai.com/matplotlib/uecbhR3MHhaZkK55za779h)\n",
                "\n",
                "## 1. \u5bfc\u5165\u76f8\u5173\u5e93"
            ]
        },
        {
            "cell_type": "code",
            "execution_count": 1,
            "metadata": {},
            "outputs": [],
            "source": [
                "# \u5bfc\u5165 matplotlib \u548c numpy \u5305\n",
                "import matplotlib.pyplot as plt\n",
                "import numpy as np"
            ]
        },
        {
            "cell_type": "markdown",
            "metadata": {},
            "source": [
                "## 2. \u51c6\u5907\u6570\u636e"
            ]
        },
        {
            "cell_type": "code",
            "execution_count": 2,
            "metadata": {},
            "outputs": [],
            "source": [
                "# \u751f\u6210\u4e8c\u7ef4\u77e9\u9635\u6570\u636e\n",
                "X, Y = np.meshgrid(np.linspace(-3, 3, 256), np.linspace(-3, 3, 256))\n",
                "Z = (1 - X / 2 + X**5 + Y**3) * np.exp(-(X**2) - Y**2)"
            ]
        },
        {
            "cell_type": "markdown",
            "metadata": {},
            "source": [
                "## 3. \u8c03\u7528\u7ed8\u56feAPI"
            ]
        },
        {
            "cell_type": "code",
            "execution_count": 7,
            "metadata": {},
            "outputs": [],
            "source": [
                "# \u751f\u6210\u56fe\u5f62\u5bf9\u8c61 fig \u548c \u5b50\u56fe\u5bf9\u8c61 ax\uff0c\u4f7f\u7528\u7ea6\u675f\u5e03\u5c40\u907f\u514d\u91cd\u53e0\n",
                "fig, ax = plt.subplots(constrained_layout=True)\n",
                "# \u8bbe\u7f6e\u5750\u6807\u8f74\u6bd4\u4f8b\n",
                "ax.set_aspect(aspect=1.0)\n",
                "\n",
                "# \u4e0d\u4f20\u5165\u5750\u6807\u6570\u636e\u65f6\uff0c\u76f4\u63a5\u4f7f\u7528\u77e9\u9635\u5c3a\u751f\u6210\u5750\u6807\n",
                "_ = ax.contour(\n",
                "    X, Y, Z, colors=\"gray\", alpha=0.6, levels=5, linewidths=2, linestyles=\"-\"\n",
                ")\n",
                "cs = ax.contourf(X, Y, Z, levels=5, cmap=\"coolwarm\")\n",
                "\n",
                "# \u7ed8\u5236\u989c\u8272\u6761\n",
                "cbar = fig.colorbar(cs, ax=ax, shrink=0.75, aspect=15)\n",
                "cbar.set_label(\"Z\", fontweight=\"bold\", rotation=0)\n",
                "\n",
                "# \u4fdd\u5b58\u56fe\u7247\n",
                "# plt.savefig('./\u7b49\u9ad8\u7ebf\u586b\u5145\u56fe.png', dpi=300)\n",
                "\n",
                "# \u663e\u793a\u56fe\u7247\n",
                "plt.show()"
            ]
        }
    ],
    "metadata": {
        "kernelspec": {
            "display_name": "Python 3",
            "language": "python",
            "name": "python3"
        },
        "language_info": {
            "codemirror_mode": {
                "name": "ipython",
                "version": 3
            },
            "file_extension": ".py",
            "mimetype": "text/x-python",
            "name": "python",
            "nbconvert_exporter": "python",
            "pygments_lexer": "ipython3",
            "version": "3.13.1"
        }
    },
    "nbformat": 4,
    "nbformat_minor": 2
}
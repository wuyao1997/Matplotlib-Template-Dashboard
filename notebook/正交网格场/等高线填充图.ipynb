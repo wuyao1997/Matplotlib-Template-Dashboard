{
    "cells": [
        {
            "cell_type": "markdown",
            "metadata": {},
            "source": [
                "# 等高线填充图\n",
                "\n",
                "> [更多绘图，尽在“matplotlib制图师”](https://www.wolai.com/matplotlib/uecbhR3MHhaZkK55za779h)\n",
                "\n",
                "## 1. 导入相关库"
            ]
        },
        {
            "cell_type": "code",
            "execution_count": 1,
            "metadata": {},
            "outputs": [],
            "source": [
                "# 导入 matplotlib 和 numpy 包\n",
                "import matplotlib.pyplot as plt\n",
                "import numpy as np"
            ]
        },
        {
            "cell_type": "markdown",
            "metadata": {},
            "source": [
                "## 2. 准备数据"
            ]
        },
        {
            "cell_type": "code",
            "execution_count": 2,
            "metadata": {},
            "outputs": [],
            "source": [
                "# 生成二维矩阵数据\n",
                "X, Y = np.meshgrid(np.linspace(-3, 3, 256), np.linspace(-3, 3, 256))\n",
                "Z = (1 - X / 2 + X**5 + Y**3) * np.exp(-(X**2) - Y**2)"
            ]
        },
        {
            "cell_type": "markdown",
            "metadata": {},
            "source": [
                "## 3. 调用绘图API"
            ]
        },
        {
            "cell_type": "code",
            "execution_count": 7,
            "metadata": {},
            "outputs": [],
            "source": [
                "# 生成图形对象 fig 和 子图对象 ax，使用约束布局避免重叠\n",
                "fig, ax = plt.subplots(constrained_layout=True)\n",
                "# 设置坐标轴比例\n",
                "ax.set_aspect(aspect=1.0)\n",
                "\n",
                "# 不传入坐标数据时，直接使用矩阵尺生成坐标\n",
                "# 更多参数 https://www.wolai.com/matplotlib/5Re8LXrTNvjN5BxDcNFwwL\n",
                "_ = ax.contour(\n",
                "    X, Y, Z, colors=\"gray\", alpha=0.6, levels=5, linewidths=2, linestyles=\"-\"\n",
                ")\n",
                "cs = ax.contourf(X, Y, Z, levels=5, cmap=\"coolwarm\")\n",
                "\n",
                "# 绘制颜色条\n",
                "cbar = fig.colorbar(cs, ax=ax, shrink=0.75, aspect=15)\n",
                "cbar.set_label(\"Z\", fontweight=\"bold\", rotation=0)\n",
                "\n",
                "# 保存图片\n",
                "# plt.savefig('./等高线填充图.png', dpi=300)\n",
                "\n",
                "# 显示图片\n",
                "plt.show()"
            ]
        }
    ],
    "metadata": {
        "kernelspec": {
            "display_name": "Python 3",
            "language": "python",
            "name": "python3"
        },
        "language_info": {
            "codemirror_mode": {
                "name": "ipython",
                "version": 3
            },
            "file_extension": ".py",
            "mimetype": "text/x-python",
            "name": "python",
            "nbconvert_exporter": "python",
            "pygments_lexer": "ipython3",
            "version": "3.13.1"
        }
    },
    "nbformat": 4,
    "nbformat_minor": 2
}

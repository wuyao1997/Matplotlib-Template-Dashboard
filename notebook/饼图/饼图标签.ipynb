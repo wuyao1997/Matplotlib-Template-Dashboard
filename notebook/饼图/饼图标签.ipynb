{
    "cells": [
        {
            "cell_type": "markdown",
            "metadata": {},
            "source": [
                "# 饼图标签\n",
                "\n",
                "> [更多绘图，尽在“matplotlib制图师”](https://www.wolai.com/matplotlib/uecbhR3MHhaZkK55za779h)\n",
                "\n",
                "## 1. 导入相关库"
            ]
        },
        {
            "cell_type": "code",
            "execution_count": 2,
            "metadata": {},
            "outputs": [],
            "source": [
                "# 导入 matplotlib 和 numpy 包\n",
                "import matplotlib.pyplot as plt"
            ]
        },
        {
            "cell_type": "markdown",
            "metadata": {},
            "source": [
                "## 2. 准备数据"
            ]
        },
        {
            "cell_type": "code",
            "execution_count": 3,
            "metadata": {},
            "outputs": [],
            "source": [
                "# x: 饼图中各成分比例\n",
                "x = [0.3, 0.15, 0.15, 0.4, 0.5]\n",
                "labels = [\"label 1\", \"label 2\", \"label 3\", \"label 4\", \"label 5\"]"
            ]
        },
        {
            "cell_type": "markdown",
            "metadata": {},
            "source": [
                "## 3. 调用绘图API"
            ]
        },
        {
            "cell_type": "code",
            "execution_count": 15,
            "metadata": {},
            "outputs": [],
            "source": [
                "# 生成图形对象 fig 和 子图对象 ax，使用约束布局避免重叠\n",
                "fig, ax = plt.subplots(constrained_layout=True)\n",
                "\n",
                "# 调用坐标系对象的 pie 方法绘制饼图\n",
                "# 参数详见 https://www.wolai.com/matplotlib/rKrwDAh6rTo7mRKpSTTopz\n",
                "_ = ax.pie(\n",
                "    x,\n",
                "    labels=labels,\n",
                "    autopct=\"%1.1f%%\",\n",
                "    wedgeprops={\"linewidth\": 1.5, \"edgecolor\": \"white\"},\n",
                "    textprops={\"fontsize\": 9, \"backgroundcolor\": \"#f0f0f088\"},\n",
                "    rotatelabels=True,  # 旋转标签\n",
                "    explode=[0.2, 0, 0, 0, 0],  # 偏移指定扇区\n",
                "    shadow=False,  # 阴影开关\n",
                "    startangle=0,  # 起始角度\n",
                ")\n",
                "\n",
                "# 保存图片\n",
                "# plt.savefig('./饼图标签.png', dpi=300)\n",
                "\n",
                "# 显示图片\n",
                "plt.show()"
            ]
        }
    ],
    "metadata": {
        "kernelspec": {
            "display_name": "Python 3",
            "language": "python",
            "name": "python3"
        },
        "language_info": {
            "codemirror_mode": {
                "name": "ipython",
                "version": 3
            },
            "file_extension": ".py",
            "mimetype": "text/x-python",
            "name": "python",
            "nbconvert_exporter": "python",
            "pygments_lexer": "ipython3",
            "version": "3.13.1"
        }
    },
    "nbformat": 4,
    "nbformat_minor": 2
}

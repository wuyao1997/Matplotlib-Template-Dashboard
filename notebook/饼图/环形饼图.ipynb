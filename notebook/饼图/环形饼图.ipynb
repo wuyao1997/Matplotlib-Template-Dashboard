{
    "cells": [
        {
            "cell_type": "markdown",
            "metadata": {},
            "source": [
                "# \u73af\u5f62\u997c\u56fe\n",
                "\n",
                "> [\u66f4\u591a\u7ed8\u56fe\uff0c\u5c3d\u5728\u201cmatplotlib\u5236\u56fe\u5e08\u201d](https://www.wolai.com/matplotlib/uecbhR3MHhaZkK55za779h)\n",
                "\n",
                "## 1. \u5bfc\u5165\u76f8\u5173\u5e93"
            ]
        },
        {
            "cell_type": "code",
            "execution_count": 17,
            "metadata": {},
            "outputs": [],
            "source": [
                "# \u5bfc\u5165 matplotlib \u548c numpy \u5305\n",
                "import matplotlib.pyplot as plt"
            ]
        },
        {
            "cell_type": "markdown",
            "metadata": {},
            "source": [
                "## 2. \u51c6\u5907\u6570\u636e"
            ]
        },
        {
            "cell_type": "code",
            "execution_count": 18,
            "metadata": {},
            "outputs": [],
            "source": [
                "# x: \u997c\u56fe\u4e2d\u5404\u6210\u5206\u6bd4\u4f8b\n",
                "x = [0.3, 0.15, 0.15, 0.4, 0.5]\n",
                "labels = [\"label 1\", \"label 2\", \"label 3\", \"label 4\", \"label 5\"]"
            ]
        },
        {
            "cell_type": "markdown",
            "metadata": {},
            "source": [
                "## 3. \u8c03\u7528\u7ed8\u56feAPI\n",
                "\n",
                "- \u5b57\u5178\u578b\u5173\u952e\u5b57`wedgeprops`\u7684`width`\u5173\u952e\u5b57\u53ef\u4ee5\u63a7\u5236\u73af\u5f62\u5bbd\u5ea6\n",
                "- \u6d6e\u70b9\u578b\u5173\u952e\u5b57`pctdistance`\u53ef\u4ee5\u63a7\u5236\u767e\u5206\u6bd4\u6807\u7b7e\u8ddd\u79bb\u5706\u5fc3\u7684\u8ddd\u79bb"
            ]
        },
        {
            "cell_type": "code",
            "execution_count": 23,
            "metadata": {},
            "outputs": [],
            "source": [
                "# \u751f\u6210\u56fe\u5f62\u5bf9\u8c61 fig \u548c \u5b50\u56fe\u5bf9\u8c61 ax\uff0c\u4f7f\u7528\u7ea6\u675f\u5e03\u5c40\u907f\u514d\u91cd\u53e0\n",
                "fig, ax = plt.subplots(constrained_layout=True)\n",
                "\n",
                "# \u8c03\u7528\u5750\u6807\u7cfb\u5bf9\u8c61\u7684 pie \u65b9\u6cd5\u7ed8\u5236\u997c\u56fe\n",
                "_ = ax.pie(\n",
                "    x,\n",
                "    labels=labels,\n",
                "    autopct=\"%1.1f%%\",\n",
                "    pctdistance=0.8,\n",
                "    wedgeprops={\"linewidth\": 1.5, \"edgecolor\": \"white\", \"width\": 0.4},\n",
                "    explode=[0.2, 0, 0, 0, 0],  # \u504f\u79fb\u6307\u5b9a\u6247\u533a\n",
                "    shadow=False,  # \u63a7\u5236\u9634\u5f71\n",
                ")\n",
                "\n",
                "# \u4fdd\u5b58\u56fe\u7247\n",
                "# plt.savefig(\"./\u73af\u5f62\u997c\u56fe.png\", dpi=300)\n",
                "\n",
                "# \u663e\u793a\u56fe\u7247\n",
                "plt.show()"
            ]
        }
    ],
    "metadata": {
        "kernelspec": {
            "display_name": "Python 3",
            "language": "python",
            "name": "python3"
        },
        "language_info": {
            "codemirror_mode": {
                "name": "ipython",
                "version": 3
            },
            "file_extension": ".py",
            "mimetype": "text/x-python",
            "name": "python",
            "nbconvert_exporter": "python",
            "pygments_lexer": "ipython3",
            "version": "3.13.1"
        }
    },
    "nbformat": 4,
    "nbformat_minor": 2
}
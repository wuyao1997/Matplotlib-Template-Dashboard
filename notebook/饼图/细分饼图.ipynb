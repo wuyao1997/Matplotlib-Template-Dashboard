{
    "cells": [
        {
            "cell_type": "markdown",
            "metadata": {},
            "source": [
                "# 细分饼图\n",
                "\n",
                "> [更多绘图，尽在“matplotlib制图师”](https://www.wolai.com/matplotlib/uecbhR3MHhaZkK55za779h)\n",
                "\n",
                "- 此例基于[官网案例](https://matplotlib.org/stable/gallery/pie_and_polar_charts/bar_of_pie.html)调整\n",
                "\n",
                "## 1. 导入相关库"
            ]
        },
        {
            "cell_type": "code",
            "execution_count": 76,
            "metadata": {},
            "outputs": [],
            "source": [
                "# 导入 matplotlib 和 numpy 包\n",
                "import matplotlib.pyplot as plt\n",
                "import numpy as np\n",
                "\n",
                "from matplotlib.patches import ConnectionPatch\n",
                "from matplotlib.lines import Line2D"
            ]
        },
        {
            "cell_type": "markdown",
            "metadata": {},
            "source": [
                "## 2. 准备数据"
            ]
        },
        {
            "cell_type": "code",
            "execution_count": 54,
            "metadata": {},
            "outputs": [],
            "source": [
                "# 饼图数据和标签\n",
                "overall_ratios = [0.27, 0.56, 0.17]\n",
                "labels = [\"Approve\", \"Disapprove\", \"Undecided\"]\n",
                "explode = [0.1, 0, 0]\n",
                "# 起始角度\n",
                "angle = -180 * overall_ratios[0]\n",
                "\n",
                "# 条形图比例和标签\n",
                "age_ratios = [0.33, 0.54, 0.07, 0.06]\n",
                "age_labels = [\"Under 35\", \"35-49\", \"50-65\", \"Over 65\"]\n",
                "bottom = 1\n",
                "width = 0.2"
            ]
        },
        {
            "cell_type": "markdown",
            "metadata": {},
            "source": [
                "## 3. 调用绘图API"
            ]
        },
        {
            "cell_type": "code",
            "execution_count": 121,
            "metadata": {},
            "outputs": [],
            "source": [
                "# 创建两个坐标系分别用于绘制饼图和柱状图\n",
                "fig, (ax1, ax2) = plt.subplots(\n",
                "    1, 2, figsize=(6, 4), gridspec_kw={\"width_ratios\": [2, 1]}\n",
                ")\n",
                "# 调整坐标系之间的水平间距\n",
                "fig.subplots_adjust(wspace=-0.2)\n",
                "\n",
                "# 绘制饼图，参数详见 https://www.wolai.com/matplotlib/rKrwDAh6rTo7mRKpSTTopz\n",
                "wedges, *_ = ax1.pie(\n",
                "    overall_ratios, autopct=\"%1.1f%%\", startangle=angle, labels=labels, explode=explode\n",
                ")\n",
                "\n",
                "# 绘制条形图\n",
                "bottom = 0\n",
                "for j, (height, label) in enumerate([*zip(age_ratios, age_labels)]):\n",
                "    # 绘制条形图，参数详见 https://www.wolai.com/matplotlib/2mypc3HyBTyLR8TQKmxVku\n",
                "    bc = ax2.bar(\n",
                "        0, height, width, bottom=bottom, color=\"C0\", label=label, alpha=0.85 - 0.25 * j\n",
                "    )\n",
                "    ax2.bar_label(bc, labels=[f\"{height:.0%}\"], label_type=\"center\")\n",
                "    bottom += height\n",
                "\n",
                "\n",
                "ax2.legend(\n",
                "    loc=\"upper center\",\n",
                "    bbox_to_anchor=(0.4, 0.5),\n",
                "    title=\"Age of approvers\",\n",
                "    fontsize=9,\n",
                "    reverse=True,\n",
                "    handlelength=1,\n",
                ")\n",
                "\n",
                "# 隐藏 x 轴和 y 轴\n",
                "ax2.axis(\"off\")\n",
                "ax2.set_xlim(-1, 0.2)\n",
                "\n",
                "\n",
                "# 绘制连接线\n",
                "line_up = Line2D([0.57, 0.83], [0.725, 0.845], color=\"dimgray\", linewidth=1.5)\n",
                "fig.add_artist(line_up)\n",
                "line_up = Line2D([0.57, 0.83], [0.265, 0.112], color=\"dimgray\", linewidth=1.5)\n",
                "fig.add_artist(line_up)\n",
                "\n",
                "# 保存图片\n",
                "# plt.savefig('./细分饼图.png', dpi=300)\n",
                "\n",
                "# 显示图形\n",
                "plt.show()"
            ]
        }
    ],
    "metadata": {
        "kernelspec": {
            "display_name": "Python 3",
            "language": "python",
            "name": "python3"
        },
        "language_info": {
            "codemirror_mode": {
                "name": "ipython",
                "version": 3
            },
            "file_extension": ".py",
            "mimetype": "text/x-python",
            "name": "python",
            "nbconvert_exporter": "python",
            "pygments_lexer": "ipython3",
            "version": "3.13.1"
        }
    },
    "nbformat": 4,
    "nbformat_minor": 2
}

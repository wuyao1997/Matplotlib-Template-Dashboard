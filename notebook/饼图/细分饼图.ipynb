{
    "cells": [
        {
            "cell_type": "markdown",
            "metadata": {},
            "source": [
                "# \u7ec6\u5206\u997c\u56fe\n",
                "\n",
                "> [\u66f4\u591a\u7ed8\u56fe\uff0c\u5c3d\u5728\u201cmatplotlib\u5236\u56fe\u5e08\u201d](https://www.wolai.com/matplotlib/uecbhR3MHhaZkK55za779h)\n",
                "\n",
                "- \u6b64\u4f8b\u57fa\u4e8e[\u5b98\u7f51\u6848\u4f8b](https://matplotlib.org/stable/gallery/pie_and_polar_charts/bar_of_pie.html)\u8c03\u6574\n",
                "\n",
                "## 1. \u5bfc\u5165\u76f8\u5173\u5e93"
            ]
        },
        {
            "cell_type": "code",
            "execution_count": 76,
            "metadata": {},
            "outputs": [],
            "source": [
                "# \u5bfc\u5165 matplotlib \u548c numpy \u5305\n",
                "import matplotlib.pyplot as plt\n",
                "import numpy as np\n",
                "\n",
                "from matplotlib.patches import ConnectionPatch\n",
                "from matplotlib.lines import Line2D"
            ]
        },
        {
            "cell_type": "markdown",
            "metadata": {},
            "source": [
                "## 2. \u51c6\u5907\u6570\u636e"
            ]
        },
        {
            "cell_type": "code",
            "execution_count": 54,
            "metadata": {},
            "outputs": [],
            "source": [
                "# \u997c\u56fe\u6570\u636e\u548c\u6807\u7b7e\n",
                "overall_ratios = [0.27, 0.56, 0.17]\n",
                "labels = [\"Approve\", \"Disapprove\", \"Undecided\"]\n",
                "explode = [0.1, 0, 0]\n",
                "# \u8d77\u59cb\u89d2\u5ea6\n",
                "angle = -180 * overall_ratios[0]\n",
                "\n",
                "# \u6761\u5f62\u56fe\u6bd4\u4f8b\u548c\u6807\u7b7e\n",
                "age_ratios = [0.33, 0.54, 0.07, 0.06]\n",
                "age_labels = [\"Under 35\", \"35-49\", \"50-65\", \"Over 65\"]\n",
                "bottom = 1\n",
                "width = 0.2"
            ]
        },
        {
            "cell_type": "markdown",
            "metadata": {},
            "source": [
                "## 3. \u8c03\u7528\u7ed8\u56feAPI"
            ]
        },
        {
            "cell_type": "code",
            "execution_count": 121,
            "metadata": {},
            "outputs": [],
            "source": [
                "# \u521b\u5efa\u4e24\u4e2a\u5750\u6807\u7cfb\u5206\u522b\u7528\u4e8e\u7ed8\u5236\u997c\u56fe\u548c\u67f1\u72b6\u56fe\n",
                "fig, (ax1, ax2) = plt.subplots(\n",
                "    1, 2, figsize=(6, 4), gridspec_kw={\"width_ratios\": [2, 1]}\n",
                ")\n",
                "# \u8c03\u6574\u5750\u6807\u7cfb\u4e4b\u95f4\u7684\u6c34\u5e73\u95f4\u8ddd\n",
                "fig.subplots_adjust(wspace=-0.2)\n",
                "\n",
                "# \u7ed8\u5236\u997c\u56fe\n",
                "wedges, *_ = ax1.pie(\n",
                "    overall_ratios, autopct=\"%1.1f%%\", startangle=angle, labels=labels, explode=explode\n",
                ")\n",
                "\n",
                "# \u7ed8\u5236\u6761\u5f62\u56fe\n",
                "bottom = 0\n",
                "for j, (height, label) in enumerate([*zip(age_ratios, age_labels)]):\n",
                "\n",
                "    bc = ax2.bar(\n",
                "        0, height, width, bottom=bottom, color=\"C0\", label=label, alpha=0.85 - 0.25 * j\n",
                "    )\n",
                "    ax2.bar_label(bc, labels=[f\"{height:.0%}\"], label_type=\"center\")\n",
                "    bottom += height\n",
                "\n",
                "\n",
                "# ax2.set_title('Age of approvers')\n",
                "ax2.legend(\n",
                "    loc=\"upper center\",\n",
                "    bbox_to_anchor=(0.4, 0.5),\n",
                "    title=\"Age of approvers\",\n",
                "    fontsize=9,\n",
                "    reverse=True,\n",
                "    handlelength=1,\n",
                ")\n",
                "\n",
                "# \u9690\u85cf x \u8f74\u548c y \u8f74\n",
                "ax2.axis(\"off\")\n",
                "ax2.set_xlim(-1, 0.2)\n",
                "\n",
                "\n",
                "# \u7ed8\u5236\u8fde\u63a5\u7ebf\n",
                "line_up = Line2D([0.57, 0.83], [0.725, 0.845], color=\"dimgray\", linewidth=1.5)\n",
                "fig.add_artist(line_up)\n",
                "line_up = Line2D([0.57, 0.83], [0.265, 0.112], color=\"dimgray\", linewidth=1.5)\n",
                "fig.add_artist(line_up)\n",
                "\n",
                "# \u4fdd\u5b58\u56fe\u7247\n",
                "# plt.savefig('./\u7ec6\u5206\u997c\u56fe.png', dpi=300)\n",
                "\n",
                "# \u663e\u793a\u56fe\u5f62\n",
                "plt.show()"
            ]
        }
    ],
    "metadata": {
        "kernelspec": {
            "display_name": "Python 3",
            "language": "python",
            "name": "python3"
        },
        "language_info": {
            "codemirror_mode": {
                "name": "ipython",
                "version": 3
            },
            "file_extension": ".py",
            "mimetype": "text/x-python",
            "name": "python",
            "nbconvert_exporter": "python",
            "pygments_lexer": "ipython3",
            "version": "3.13.1"
        }
    },
    "nbformat": 4,
    "nbformat_minor": 2
}